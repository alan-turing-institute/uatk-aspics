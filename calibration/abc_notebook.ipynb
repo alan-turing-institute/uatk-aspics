{
 "cells": [
  {
   "cell_type": "markdown",
   "id": "2ef48166",
   "metadata": {
    "pycharm": {
     "name": "#%% md\n"
    }
   },
   "source": [
    "# Calibration of multiple parameters for ASPICS model, using ABC method\n",
    "\n",
    "This jupyter notebook is based on the previous efforts from DyME and Prof Nick Malleson (University of Leeds)\n",
    "\n",
    "- [RAMP-UA Initiative](https://github.com/Urban-Analytics/RAMP-UA/blob/d5973dff007645f1700cded93aaf72298ef84c61/experiments/calibration/abc-1.ipynb)\n",
    "\n",
    "- [Calibrating Agent-Based Models Using Uncertainty Quantification Methods](https://github.com/Urban-Analytics/uncertainty/blob/master/hm_abc_simple_example.ipyn)\n",
    "\n",
    "As SPC (Synthetic Population Catalyst) is a tool that helps urban modelling researchers to get synthetic population datasets at national level (currently limitated to England). This tool opens up new challenges/possibilities where external models (multi-level) like Agent-based models -ABM now can be tested in multi regions. However in models with location parameters striclty dependend on the population interactions, internal validation and calibrations process are seen as a relevant and requiered to properly tune this national behaivor. "
   ]
  },
  {
   "cell_type": "markdown",
   "id": "b7e790da",
   "metadata": {
    "pycharm": {
     "name": "#%% md\n"
    }
   },
   "source": [
    "### ToDO to make progress in this experiment\n",
    "- [X] Read the Synt Pop file - Translate to snaphot then ASPICS can read the new dataset.\n",
    "- [] Read and plot the attributes we need, we could plot\n",
    "- [] Read the baseline use as priors - Areas to test Leeds ( ideally West Yorkshire), Liverpool, Devon, Manchester (Grand Manchester)"
   ]
  },
  {
   "cell_type": "markdown",
   "id": "7db61a3a",
   "metadata": {
    "pycharm": {
     "name": "#%% md\n"
    }
   },
   "source": [
    "## Background Concepts\n",
    "\n",
    "- Uncertanity of ABM\n",
    "- Methods for Calibration\n",
    "- ABC"
   ]
  },
  {
   "cell_type": "code",
   "execution_count": 1,
   "id": "1084c0b9",
   "metadata": {
    "pycharm": {
     "name": "#%%\n"
    }
   },
   "outputs": [],
   "source": [
    "import math\n",
    "import pandas as pd\n",
    "import sys, os\n",
    "import matplotlib.pyplot as plt\n",
    "import numpy as np\n",
    "import random\n",
    "from yaml import load, SafeLoader\n",
    "sys.path.append('../')\n",
    "from run_aspics import OpenCLRunner\n",
    "from aspics.disease_statuses import DiseaseStatus\n",
    "from aspics.loader import setup_sim\n",
    "from headless import run_headless\n",
    "import synthpop_pb2\n",
    "import convert_snapshot"
   ]
  },
  {
   "cell_type": "markdown",
   "id": "6bc56c3e",
   "metadata": {
    "pycharm": {
     "name": "#%% md\n"
    }
   },
   "source": [
    "The following function is based on [SPC scripts](https://github.com/alan-turing-institute/uatk-spc/blob/main/python/protobuf_to_csv.py) the idea is to read the .pb file created with the tool. However, we need to make a translation from the proto file to snapshot which will integarte the data in the way ASPICS need it."
   ]
  },
  {
   "cell_type": "markdown",
   "id": "b3b10051",
   "metadata": {
    "pycharm": {
     "name": "#%% md\n"
    }
   },
   "source": [
    "## Read the baseline data. Defined as prior to calibrate the model to a given area\n",
    "Real observations (number of cases, deaths or hospital admission in the given area)\n",
    "They need to be made cumulative as this is how they will be compared to the model."
   ]
  },
  {
   "cell_type": "markdown",
   "id": "26e5f8e9",
   "metadata": {
    "pycharm": {
     "name": "#%% md\n"
    }
   },
   "source": [
    "#### Rutland area as test run due it size\n",
    "The data for no of cases and the gam_cases data were created using [Ramp-UA - Observation Data](https://github.com/Urban-Analytics/RAMP-UA/tree/master/experiments/calibration/observation_data)"
   ]
  },
  {
   "cell_type": "code",
   "execution_count": 2,
   "id": "2f11f179",
   "metadata": {
    "pycharm": {
     "name": "#%%\n"
    }
   },
   "outputs": [
    {
     "name": "stdout",
     "output_type": "stream",
     "text": [
      "Total cases: 34166\n"
     ]
    }
   ],
   "source": [
    "# New per day:\n",
    "gam_cases = pd.read_csv(os.path.join(\"baseline_data\", \"gam_manchester_cases.csv\"), header=0, names=[\"Day\", \"Cases\"], )\n",
    "# Cumulative\n",
    "OBSERVATIONS = pd.DataFrame( {\"Day\": gam_cases['Day'], \"Cases\": gam_cases.cumsum()['Cases']} )\n",
    "assert OBSERVATIONS.tail(1)['Cases'].values[0] == sum(gam_cases['Cases'])\n",
    "print(f\"Total cases: {sum(gam_cases['Cases'])}\")"
   ]
  },
  {
   "cell_type": "markdown",
   "id": "2d97cfca",
   "metadata": {
    "pycharm": {
     "name": "#%% md\n"
    }
   },
   "source": [
    "## Run ASPIC using the default parameters\n",
    "\n",
    "The following cells provide a set of plots to define how the model run with the default parameters ( manually calibrated for Devon area). In this example we use Rutland.\n",
    "\n",
    "Before everything, we need to translate the .pb (protobufer) file to the snapshot required by ASPCIS [Usage guide](docs/usage_guide.md). You need to do this one time. Once you created your synthetic population file, then run 'run ../convert_snapshot.py -i SPC_data/{YOUR_NEW_AREA}.pb -o ../data/snapshots/{YOUR_NEW_AREA}/cache.npz'\n"
   ]
  },
  {
   "cell_type": "markdown",
   "id": "6c38b9c5",
   "metadata": {
    "collapsed": false,
    "pycharm": {
     "name": "#%% md\n"
    }
   },
   "source": [
    "Great now we have the cache.npz file in `data/snapshots`\n"
   ]
  },
  {
   "cell_type": "code",
   "execution_count": null,
   "id": "58b2847b",
   "metadata": {
    "collapsed": false,
    "pycharm": {
     "name": "#%%\n"
    }
   },
   "outputs": [],
   "source": [
    "os.getcwd()"
   ]
  },
  {
   "cell_type": "code",
   "execution_count": 3,
   "id": "c1ae88bd",
   "metadata": {
    "collapsed": false,
    "pycharm": {
     "name": "#%%\n"
    }
   },
   "outputs": [],
   "source": [
    "os.chdir(\"../\") #Now we need to update the main directory then we can use aspics as the way was created."
   ]
  },
  {
   "cell_type": "code",
   "execution_count": 5,
   "id": "93ee4f0b",
   "metadata": {
    "collapsed": false,
    "pycharm": {
     "name": "#%%\n"
    }
   },
   "outputs": [
    {
     "name": "stdout",
     "output_type": "stream",
     "text": [
      "Running a manually added parameters simulation based on {'microsim': {'study-area': 'Manchester', 'iterations': 80, 'use-lockdown': False, 'start-date': 0, 'output': True, 'output-every-iteration': False, 'repetitions': 1}, 'microsim_calibration': {'hazard_individual_multipliers': {'presymptomatic': 1.0, 'asymptomatic': 0.75, 'symptomatic': 1.0}, 'hazard_location_multipliers': {'Retail': 1.0, 'PrimarySchool': 1.0, 'SecondarySchool': 1.0, 'Home': 1.0, 'Work': 1.0}}, 'disease': {'current_risk_beta': 0.003}, 'health_conditions': {'global': {'morbidity': 1.0, 'mortality': 1.0}, 'sex': {'male_mortality': 1.19, 'male_symptomatic': 1.34, 'female_mortality': 1.0, 'female_symptomatic': 1.0}, 'ethnicity': {'white_mortality': 1.0, 'black_mortality': 1.74, 'asian_mortality': 2.55, 'other_mortality': 2.97}, 'age_mortality': {'a0-9_mortality': 0.0088, 'a10-19_mortality': 0.0219, 'a20-29_mortality': 0.0921, 'a30-39_mortality': 0.3245, 'a40-49_mortality': 1.0, 'a50-59_mortality': 2.8916, 'a60-69_mortality': 8.4749, 'a70-79_mortality': 24.4236, 'a80plus_mortality': 106.7409}, 'age_morbidity': {'a0-9_morbidity': 1.0, 'a10-19_morbidity': 1.0, 'a20-29_morbidity': 1.0, 'a30-39_morbidity': 1.0, 'a40-49_morbidity': 1.0, 'a50-59_morbidity': 1.0, 'a60-69_morbidity': 1.0, 'a70-79_morbidity': 1.0, 'a80plus_morbidity': 1.0}, 'type': {'cvd': 1.0, 'diabetes': 1.47, 'bloodpressure': 1.0, 'improve_health': False}, 'BMI': {'white_Ethni_coef0': 5.7, 'white_Ethni_coef1': -0.3, 'white_Ethni_coef2': 0.0061, 'black_Ethni_coef0': 2.34, 'black_Ethni_coef1': -0.13, 'black_Ethni_coef2': 0.003, 'asian_Ethni_coef0': 9.407, 'asian_Ethni_coef1': -0.67, 'asian_Ethni_coef2': 0.014, 'other_Ethni_coef0': 9.21, 'other_Ethni_coef1': -0.646, 'other_Ethni_coef2': 0.012}, 'obesity': {'overweight': 1.0, 'obesity_40': 1.0, 'obesity_35': 1.0, 'obesity_30': 1.0}}}\n",
      "Loading snapshot from data/snapshots/Manchester/cache.npz\n",
      "Snapshot is 42 MB\n"
     ]
    },
    {
     "name": "stderr",
     "output_type": "stream",
     "text": [
      "Running simulation: 100%|██████████| 80/80 [00:03<00:00, 20.49it/s]"
     ]
    },
    {
     "name": "stdout",
     "output_type": "stream",
     "text": [
      "\n",
      "Day 0\n",
      "\tSusceptible: 177129\n",
      "\tExposed: 46\n",
      "\tPresymptomatic: 0\n",
      "\tAsymptomatic: 163\n",
      "\tSymptomatic: 88\n",
      "\tRecovered: 34\n",
      "\tDead: 0\n",
      "\n",
      "Day 1\n",
      "\tSusceptible: 177091\n",
      "\tExposed: 69\n",
      "\tPresymptomatic: 6\n",
      "\tAsymptomatic: 140\n",
      "\tSymptomatic: 78\n",
      "\tRecovered: 76\n",
      "\tDead: 0\n",
      "\n",
      "Day 2\n",
      "\tSusceptible: 177051\n",
      "\tExposed: 83\n",
      "\tPresymptomatic: 14\n",
      "\tAsymptomatic: 124\n",
      "\tSymptomatic: 64\n",
      "\tRecovered: 124\n",
      "\tDead: 0\n",
      "\n",
      "Day 3\n",
      "\tSusceptible: 177005\n",
      "\tExposed: 86\n",
      "\tPresymptomatic: 25\n",
      "\tAsymptomatic: 124\n",
      "\tSymptomatic: 59\n",
      "\tRecovered: 161\n",
      "\tDead: 0\n",
      "\n",
      "Day 4\n",
      "\tSusceptible: 176937\n",
      "\tExposed: 112\n",
      "\tPresymptomatic: 34\n",
      "\tAsymptomatic: 132\n",
      "\tSymptomatic: 53\n",
      "\tRecovered: 192\n",
      "\tDead: 0\n",
      "\n",
      "Day 5\n",
      "\tSusceptible: 176858\n",
      "\tExposed: 143\n",
      "\tPresymptomatic: 34\n",
      "\tAsymptomatic: 136\n",
      "\tSymptomatic: 61\n",
      "\tRecovered: 228\n",
      "\tDead: 0\n",
      "\n",
      "Day 6\n",
      "\tSusceptible: 176775\n",
      "\tExposed: 167\n",
      "\tPresymptomatic: 44\n",
      "\tAsymptomatic: 151\n",
      "\tSymptomatic: 75\n",
      "\tRecovered: 248\n",
      "\tDead: 0\n",
      "\n",
      "Day 7\n",
      "\tSusceptible: 176647\n",
      "\tExposed: 225\n",
      "\tPresymptomatic: 58\n",
      "\tAsymptomatic: 176\n",
      "\tSymptomatic: 87\n",
      "\tRecovered: 267\n",
      "\tDead: 0\n",
      "\n",
      "Day 8\n",
      "\tSusceptible: 176505\n",
      "\tExposed: 255\n",
      "\tPresymptomatic: 78\n",
      "\tAsymptomatic: 218\n",
      "\tSymptomatic: 110\n",
      "\tRecovered: 294\n",
      "\tDead: 0\n",
      "\n",
      "Day 9\n",
      "\tSusceptible: 176328\n",
      "\tExposed: 312\n",
      "\tPresymptomatic: 96\n",
      "\tAsymptomatic: 263\n",
      "\tSymptomatic: 136\n",
      "\tRecovered: 325\n",
      "\tDead: 0\n",
      "\n",
      "Day 10\n",
      "\tSusceptible: 176117\n",
      "\tExposed: 375\n",
      "\tPresymptomatic: 99\n",
      "\tAsymptomatic: 334\n",
      "\tSymptomatic: 185\n",
      "\tRecovered: 350\n",
      "\tDead: 0\n",
      "\n",
      "Day 11\n",
      "\tSusceptible: 175876\n",
      "\tExposed: 442\n",
      "\tPresymptomatic: 122\n",
      "\tAsymptomatic: 411\n",
      "\tSymptomatic: 222\n",
      "\tRecovered: 387\n",
      "\tDead: 0\n",
      "\n",
      "Day 12\n",
      "\tSusceptible: 175656\n",
      "\tExposed: 488\n",
      "\tPresymptomatic: 137\n",
      "\tAsymptomatic: 475\n",
      "\tSymptomatic: 276\n",
      "\tRecovered: 428\n",
      "\tDead: 0\n",
      "\n",
      "Day 13\n",
      "\tSusceptible: 175447\n",
      "\tExposed: 451\n",
      "\tPresymptomatic: 172\n",
      "\tAsymptomatic: 589\n",
      "\tSymptomatic: 326\n",
      "\tRecovered: 475\n",
      "\tDead: 0\n",
      "\n",
      "Day 14\n",
      "\tSusceptible: 175181\n",
      "\tExposed: 490\n",
      "\tPresymptomatic: 188\n",
      "\tAsymptomatic: 676\n",
      "\tSymptomatic: 393\n",
      "\tRecovered: 532\n",
      "\tDead: 0\n",
      "\n",
      "Day 15\n",
      "\tSusceptible: 174912\n",
      "\tExposed: 547\n",
      "\tPresymptomatic: 176\n",
      "\tAsymptomatic: 754\n",
      "\tSymptomatic: 465\n",
      "\tRecovered: 606\n",
      "\tDead: 0\n",
      "\n",
      "Day 16\n",
      "\tSusceptible: 174676\n",
      "\tExposed: 528\n",
      "\tPresymptomatic: 200\n",
      "\tAsymptomatic: 815\n",
      "\tSymptomatic: 536\n",
      "\tRecovered: 705\n",
      "\tDead: 0\n",
      "\n",
      "Day 17\n",
      "\tSusceptible: 174434\n",
      "\tExposed: 526\n",
      "\tPresymptomatic: 201\n",
      "\tAsymptomatic: 878\n",
      "\tSymptomatic: 580\n",
      "\tRecovered: 841\n",
      "\tDead: 0\n",
      "\n",
      "Day 18\n",
      "\tSusceptible: 174187\n",
      "\tExposed: 532\n",
      "\tPresymptomatic: 188\n",
      "\tAsymptomatic: 946\n",
      "\tSymptomatic: 648\n",
      "\tRecovered: 959\n",
      "\tDead: 0\n",
      "\n",
      "Day 19\n",
      "\tSusceptible: 173958\n",
      "\tExposed: 493\n",
      "\tPresymptomatic: 191\n",
      "\tAsymptomatic: 1006\n",
      "\tSymptomatic: 707\n",
      "\tRecovered: 1105\n",
      "\tDead: 0\n",
      "\n",
      "Day 20\n",
      "\tSusceptible: 173747\n",
      "\tExposed: 464\n",
      "\tPresymptomatic: 196\n",
      "\tAsymptomatic: 1030\n",
      "\tSymptomatic: 746\n",
      "\tRecovered: 1277\n",
      "\tDead: 0\n",
      "\n",
      "Day 21\n",
      "\tSusceptible: 173561\n",
      "\tExposed: 437\n",
      "\tPresymptomatic: 176\n",
      "\tAsymptomatic: 1042\n",
      "\tSymptomatic: 764\n",
      "\tRecovered: 1478\n",
      "\tDead: 2\n",
      "\n",
      "Day 22\n",
      "\tSusceptible: 173376\n",
      "\tExposed: 399\n",
      "\tPresymptomatic: 154\n",
      "\tAsymptomatic: 1073\n",
      "\tSymptomatic: 779\n",
      "\tRecovered: 1677\n",
      "\tDead: 2\n",
      "\n",
      "Day 23\n",
      "\tSusceptible: 173198\n",
      "\tExposed: 373\n",
      "\tPresymptomatic: 143\n",
      "\tAsymptomatic: 1058\n",
      "\tSymptomatic: 776\n",
      "\tRecovered: 1910\n",
      "\tDead: 2\n",
      "\n",
      "Day 24\n",
      "\tSusceptible: 173027\n",
      "\tExposed: 356\n",
      "\tPresymptomatic: 125\n",
      "\tAsymptomatic: 1048\n",
      "\tSymptomatic: 760\n",
      "\tRecovered: 2141\n",
      "\tDead: 3\n",
      "\n",
      "Day 25\n",
      "\tSusceptible: 172852\n",
      "\tExposed: 358\n",
      "\tPresymptomatic: 114\n",
      "\tAsymptomatic: 1018\n",
      "\tSymptomatic: 728\n",
      "\tRecovered: 2384\n",
      "\tDead: 6\n",
      "\n",
      "Day 26\n",
      "\tSusceptible: 172646\n",
      "\tExposed: 391\n",
      "\tPresymptomatic: 105\n",
      "\tAsymptomatic: 1017\n",
      "\tSymptomatic: 685\n",
      "\tRecovered: 2609\n",
      "\tDead: 7\n",
      "\n",
      "Day 27\n",
      "\tSusceptible: 172445\n",
      "\tExposed: 398\n",
      "\tPresymptomatic: 105\n",
      "\tAsymptomatic: 1009\n",
      "\tSymptomatic: 656\n",
      "\tRecovered: 2840\n",
      "\tDead: 7\n",
      "\n",
      "Day 28\n",
      "\tSusceptible: 172244\n",
      "\tExposed: 430\n",
      "\tPresymptomatic: 111\n",
      "\tAsymptomatic: 988\n",
      "\tSymptomatic: 609\n",
      "\tRecovered: 3070\n",
      "\tDead: 8\n",
      "\n",
      "Day 29\n",
      "\tSusceptible: 172021\n",
      "\tExposed: 448\n",
      "\tPresymptomatic: 120\n",
      "\tAsymptomatic: 996\n",
      "\tSymptomatic: 571\n",
      "\tRecovered: 3296\n",
      "\tDead: 8\n",
      "\n",
      "Day 30\n",
      "\tSusceptible: 171788\n",
      "\tExposed: 452\n",
      "\tPresymptomatic: 121\n",
      "\tAsymptomatic: 1027\n",
      "\tSymptomatic: 546\n",
      "\tRecovered: 3517\n",
      "\tDead: 9\n",
      "\n",
      "Day 31\n",
      "\tSusceptible: 171525\n",
      "\tExposed: 503\n",
      "\tPresymptomatic: 101\n",
      "\tAsymptomatic: 1057\n",
      "\tSymptomatic: 527\n",
      "\tRecovered: 3738\n",
      "\tDead: 9\n",
      "\n",
      "Day 32\n",
      "\tSusceptible: 171274\n",
      "\tExposed: 522\n",
      "\tPresymptomatic: 103\n",
      "\tAsymptomatic: 1103\n",
      "\tSymptomatic: 515\n",
      "\tRecovered: 3934\n",
      "\tDead: 9\n",
      "\n",
      "Day 33\n",
      "\tSusceptible: 170994\n",
      "\tExposed: 535\n",
      "\tPresymptomatic: 131\n",
      "\tAsymptomatic: 1167\n",
      "\tSymptomatic: 500\n",
      "\tRecovered: 4124\n",
      "\tDead: 9\n",
      "\n",
      "Day 34\n",
      "\tSusceptible: 170695\n",
      "\tExposed: 598\n",
      "\tPresymptomatic: 127\n",
      "\tAsymptomatic: 1218\n",
      "\tSymptomatic: 503\n",
      "\tRecovered: 4310\n",
      "\tDead: 9\n",
      "\n",
      "Day 35\n",
      "\tSusceptible: 170377\n",
      "\tExposed: 619\n",
      "\tPresymptomatic: 132\n",
      "\tAsymptomatic: 1288\n",
      "\tSymptomatic: 540\n",
      "\tRecovered: 4495\n",
      "\tDead: 9\n",
      "\n",
      "Day 36\n",
      "\tSusceptible: 170044\n",
      "\tExposed: 652\n",
      "\tPresymptomatic: 139\n",
      "\tAsymptomatic: 1410\n",
      "\tSymptomatic: 525\n",
      "\tRecovered: 4681\n",
      "\tDead: 9\n",
      "\n",
      "Day 37\n",
      "\tSusceptible: 169658\n",
      "\tExposed: 730\n",
      "\tPresymptomatic: 136\n",
      "\tAsymptomatic: 1486\n",
      "\tSymptomatic: 547\n",
      "\tRecovered: 4894\n",
      "\tDead: 9\n",
      "\n",
      "Day 38\n",
      "\tSusceptible: 169311\n",
      "\tExposed: 743\n",
      "\tPresymptomatic: 144\n",
      "\tAsymptomatic: 1585\n",
      "\tSymptomatic: 535\n",
      "\tRecovered: 5133\n",
      "\tDead: 9\n",
      "\n",
      "Day 39\n",
      "\tSusceptible: 168873\n",
      "\tExposed: 814\n",
      "\tPresymptomatic: 170\n",
      "\tAsymptomatic: 1657\n",
      "\tSymptomatic: 558\n",
      "\tRecovered: 5379\n",
      "\tDead: 9\n",
      "\n",
      "Day 40\n",
      "\tSusceptible: 168451\n",
      "\tExposed: 867\n",
      "\tPresymptomatic: 170\n",
      "\tAsymptomatic: 1772\n",
      "\tSymptomatic: 575\n",
      "\tRecovered: 5616\n",
      "\tDead: 9\n",
      "\n",
      "Day 41\n",
      "\tSusceptible: 167986\n",
      "\tExposed: 923\n",
      "\tPresymptomatic: 158\n",
      "\tAsymptomatic: 1909\n",
      "\tSymptomatic: 604\n",
      "\tRecovered: 5871\n",
      "\tDead: 9\n",
      "\n",
      "Day 42\n",
      "\tSusceptible: 167531\n",
      "\tExposed: 944\n",
      "\tPresymptomatic: 169\n",
      "\tAsymptomatic: 2045\n",
      "\tSymptomatic: 629\n",
      "\tRecovered: 6133\n",
      "\tDead: 9\n",
      "\n",
      "Day 43\n",
      "\tSusceptible: 167044\n",
      "\tExposed: 992\n",
      "\tPresymptomatic: 199\n",
      "\tAsymptomatic: 2177\n",
      "\tSymptomatic: 638\n",
      "\tRecovered: 6401\n",
      "\tDead: 9\n",
      "\n",
      "Day 44\n",
      "\tSusceptible: 166569\n",
      "\tExposed: 978\n",
      "\tPresymptomatic: 232\n",
      "\tAsymptomatic: 2310\n",
      "\tSymptomatic: 684\n",
      "\tRecovered: 6678\n",
      "\tDead: 9\n",
      "\n",
      "Day 45\n",
      "\tSusceptible: 166077\n",
      "\tExposed: 1003\n",
      "\tPresymptomatic: 239\n",
      "\tAsymptomatic: 2414\n",
      "\tSymptomatic: 701\n",
      "\tRecovered: 7017\n",
      "\tDead: 9\n",
      "\n",
      "Day 46\n",
      "\tSusceptible: 165633\n",
      "\tExposed: 955\n",
      "\tPresymptomatic: 207\n",
      "\tAsymptomatic: 2529\n",
      "\tSymptomatic: 760\n",
      "\tRecovered: 7367\n",
      "\tDead: 9\n",
      "\n",
      "Day 47\n",
      "\tSusceptible: 165173\n",
      "\tExposed: 947\n",
      "\tPresymptomatic: 216\n",
      "\tAsymptomatic: 2569\n",
      "\tSymptomatic: 779\n",
      "\tRecovered: 7767\n",
      "\tDead: 9\n",
      "\n",
      "Day 48\n",
      "\tSusceptible: 164690\n",
      "\tExposed: 977\n",
      "\tPresymptomatic: 213\n",
      "\tAsymptomatic: 2630\n",
      "\tSymptomatic: 809\n",
      "\tRecovered: 8132\n",
      "\tDead: 9\n",
      "\n",
      "Day 49\n",
      "\tSusceptible: 164249\n",
      "\tExposed: 951\n",
      "\tPresymptomatic: 204\n",
      "\tAsymptomatic: 2675\n",
      "\tSymptomatic: 848\n",
      "\tRecovered: 8522\n",
      "\tDead: 11\n",
      "\n",
      "Day 50\n",
      "\tSusceptible: 163822\n",
      "\tExposed: 907\n",
      "\tPresymptomatic: 225\n",
      "\tAsymptomatic: 2680\n",
      "\tSymptomatic: 869\n",
      "\tRecovered: 8946\n",
      "\tDead: 11\n",
      "\n",
      "Day 51\n",
      "\tSusceptible: 163412\n",
      "\tExposed: 869\n",
      "\tPresymptomatic: 226\n",
      "\tAsymptomatic: 2696\n",
      "\tSymptomatic: 890\n",
      "\tRecovered: 9355\n",
      "\tDead: 12\n",
      "\n",
      "Day 52\n",
      "\tSusceptible: 163025\n",
      "\tExposed: 824\n",
      "\tPresymptomatic: 211\n",
      "\tAsymptomatic: 2696\n",
      "\tSymptomatic: 901\n",
      "\tRecovered: 9791\n",
      "\tDead: 12\n",
      "\n",
      "Day 53\n",
      "\tSusceptible: 162619\n",
      "\tExposed: 806\n",
      "\tPresymptomatic: 181\n",
      "\tAsymptomatic: 2680\n",
      "\tSymptomatic: 927\n",
      "\tRecovered: 10235\n",
      "\tDead: 12\n",
      "\n",
      "Day 54\n",
      "\tSusceptible: 162237\n",
      "\tExposed: 789\n",
      "\tPresymptomatic: 181\n",
      "\tAsymptomatic: 2640\n",
      "\tSymptomatic: 898\n",
      "\tRecovered: 10702\n",
      "\tDead: 13\n",
      "\n",
      "Day 55\n",
      "\tSusceptible: 161889\n",
      "\tExposed: 750\n",
      "\tPresymptomatic: 186\n",
      "\tAsymptomatic: 2580\n",
      "\tSymptomatic: 873\n",
      "\tRecovered: 11169\n",
      "\tDead: 13\n",
      "\n",
      "Day 56\n",
      "\tSusceptible: 161562\n",
      "\tExposed: 726\n",
      "\tPresymptomatic: 170\n",
      "\tAsymptomatic: 2495\n",
      "\tSymptomatic: 858\n",
      "\tRecovered: 11636\n",
      "\tDead: 13\n",
      "\n",
      "Day 57\n",
      "\tSusceptible: 161261\n",
      "\tExposed: 655\n",
      "\tPresymptomatic: 163\n",
      "\tAsymptomatic: 2408\n",
      "\tSymptomatic: 843\n",
      "\tRecovered: 12117\n",
      "\tDead: 13\n",
      "\n",
      "Day 58\n",
      "\tSusceptible: 160965\n",
      "\tExposed: 614\n",
      "\tPresymptomatic: 153\n",
      "\tAsymptomatic: 2328\n",
      "\tSymptomatic: 826\n",
      "\tRecovered: 12561\n",
      "\tDead: 13\n",
      "\n",
      "Day 59\n",
      "\tSusceptible: 160683\n",
      "\tExposed: 579\n",
      "\tPresymptomatic: 153\n",
      "\tAsymptomatic: 2229\n",
      "\tSymptomatic: 787\n",
      "\tRecovered: 13016\n",
      "\tDead: 13\n",
      "\n",
      "Day 60\n",
      "\tSusceptible: 160451\n",
      "\tExposed: 542\n",
      "\tPresymptomatic: 125\n",
      "\tAsymptomatic: 2118\n",
      "\tSymptomatic: 770\n",
      "\tRecovered: 13440\n",
      "\tDead: 14\n",
      "\n",
      "Day 61\n",
      "\tSusceptible: 160217\n",
      "\tExposed: 505\n",
      "\tPresymptomatic: 97\n",
      "\tAsymptomatic: 2019\n",
      "\tSymptomatic: 739\n",
      "\tRecovered: 13869\n",
      "\tDead: 14\n",
      "\n",
      "Day 62\n",
      "\tSusceptible: 160020\n",
      "\tExposed: 442\n",
      "\tPresymptomatic: 103\n",
      "\tAsymptomatic: 1918\n",
      "\tSymptomatic: 679\n",
      "\tRecovered: 14284\n",
      "\tDead: 14\n",
      "\n",
      "Day 63\n",
      "\tSusceptible: 159805\n",
      "\tExposed: 442\n",
      "\tPresymptomatic: 106\n",
      "\tAsymptomatic: 1807\n",
      "\tSymptomatic: 642\n",
      "\tRecovered: 14644\n",
      "\tDead: 14\n",
      "\n",
      "Day 64\n",
      "\tSusceptible: 159631\n",
      "\tExposed: 394\n",
      "\tPresymptomatic: 97\n",
      "\tAsymptomatic: 1742\n",
      "\tSymptomatic: 631\n",
      "\tRecovered: 14951\n",
      "\tDead: 14\n",
      "\n",
      "Day 65\n",
      "\tSusceptible: 159466\n",
      "\tExposed: 365\n",
      "\tPresymptomatic: 103\n",
      "\tAsymptomatic: 1630\n",
      "\tSymptomatic: 580\n",
      "\tRecovered: 15302\n",
      "\tDead: 14\n",
      "\n",
      "Day 66\n",
      "\tSusceptible: 159335\n",
      "\tExposed: 310\n",
      "\tPresymptomatic: 102\n",
      "\tAsymptomatic: 1529\n",
      "\tSymptomatic: 538\n",
      "\tRecovered: 15632\n",
      "\tDead: 14\n",
      "\n",
      "Day 67\n",
      "\tSusceptible: 159180\n",
      "\tExposed: 297\n",
      "\tPresymptomatic: 90\n",
      "\tAsymptomatic: 1435\n",
      "\tSymptomatic: 525\n",
      "\tRecovered: 15919\n",
      "\tDead: 14\n",
      "\n",
      "Day 68\n",
      "\tSusceptible: 159057\n",
      "\tExposed: 279\n",
      "\tPresymptomatic: 69\n",
      "\tAsymptomatic: 1317\n",
      "\tSymptomatic: 485\n",
      "\tRecovered: 16239\n",
      "\tDead: 14\n",
      "\n",
      "Day 69\n",
      "\tSusceptible: 158946\n",
      "\tExposed: 243\n",
      "\tPresymptomatic: 60\n",
      "\tAsymptomatic: 1214\n",
      "\tSymptomatic: 446\n",
      "\tRecovered: 16537\n",
      "\tDead: 14\n",
      "\n",
      "Day 70\n",
      "\tSusceptible: 158833\n",
      "\tExposed: 232\n",
      "\tPresymptomatic: 55\n",
      "\tAsymptomatic: 1113\n",
      "\tSymptomatic: 424\n",
      "\tRecovered: 16789\n",
      "\tDead: 14\n",
      "\n",
      "Day 71\n",
      "\tSusceptible: 158733\n",
      "\tExposed: 214\n",
      "\tPresymptomatic: 59\n",
      "\tAsymptomatic: 1006\n",
      "\tSymptomatic: 401\n",
      "\tRecovered: 17033\n",
      "\tDead: 14\n",
      "\n",
      "Day 72\n",
      "\tSusceptible: 158645\n",
      "\tExposed: 201\n",
      "\tPresymptomatic: 59\n",
      "\tAsymptomatic: 906\n",
      "\tSymptomatic: 364\n",
      "\tRecovered: 17271\n",
      "\tDead: 14\n",
      "\n",
      "Day 73\n",
      "\tSusceptible: 158576\n",
      "\tExposed: 176\n",
      "\tPresymptomatic: 56\n",
      "\tAsymptomatic: 817\n",
      "\tSymptomatic: 339\n",
      "\tRecovered: 17481\n",
      "\tDead: 15\n",
      "\n",
      "Day 74\n",
      "\tSusceptible: 158517\n",
      "\tExposed: 152\n",
      "\tPresymptomatic: 51\n",
      "\tAsymptomatic: 759\n",
      "\tSymptomatic: 318\n",
      "\tRecovered: 17648\n",
      "\tDead: 15\n",
      "\n",
      "Day 75\n",
      "\tSusceptible: 158453\n",
      "\tExposed: 133\n",
      "\tPresymptomatic: 43\n",
      "\tAsymptomatic: 681\n",
      "\tSymptomatic: 289\n",
      "\tRecovered: 17846\n",
      "\tDead: 15\n",
      "\n",
      "Day 76\n",
      "\tSusceptible: 158400\n",
      "\tExposed: 123\n",
      "\tPresymptomatic: 30\n",
      "\tAsymptomatic: 620\n",
      "\tSymptomatic: 282\n",
      "\tRecovered: 17990\n",
      "\tDead: 15\n",
      "\n",
      "Day 77\n",
      "\tSusceptible: 158362\n",
      "\tExposed: 101\n",
      "\tPresymptomatic: 23\n",
      "\tAsymptomatic: 568\n",
      "\tSymptomatic: 248\n",
      "\tRecovered: 18143\n",
      "\tDead: 15\n",
      "\n",
      "Day 78\n",
      "\tSusceptible: 158320\n",
      "\tExposed: 83\n",
      "\tPresymptomatic: 27\n",
      "\tAsymptomatic: 525\n",
      "\tSymptomatic: 222\n",
      "\tRecovered: 18268\n",
      "\tDead: 15\n",
      "\n",
      "Day 79\n",
      "\tSusceptible: 158261\n",
      "\tExposed: 101\n",
      "\tPresymptomatic: 22\n",
      "\tAsymptomatic: 464\n",
      "\tSymptomatic: 204\n",
      "\tRecovered: 18393\n",
      "\tDead: 15\n",
      "\n",
      "Finished\n"
     ]
    },
    {
     "name": "stderr",
     "output_type": "stream",
     "text": [
      "\n"
     ]
    }
   ],
   "source": [
    "PARAMETERS_FILE = 'config/new_parameters.yml' # Reading the parameters file\n",
    "with open(PARAMETERS_FILE, \"r\") as f:\n",
    "    parameters = load(f, Loader=SafeLoader)\n",
    "\n",
    "simulator, snapshot, study_area, iterations = setup_sim(parameters)  #Initial configuration, based on the parameters to run the model\n",
    "summary, final_state = run_headless(simulator, snapshot, iterations, quiet=False, store_detailed_counts=True) #run the model in a headless mode"
   ]
  },
  {
   "cell_type": "code",
   "execution_count": 1,
   "id": "d2dc02d7",
   "metadata": {},
   "outputs": [
    {
     "name": "stdout",
     "output_type": "stream",
     "text": [
      "0.014314725840804397\n"
     ]
    }
   ],
   "source": [
    "oddRatio=2.89\n",
    "knownProb = 0.005\n",
    "\n",
    "def odd_ratio_to_proba (oddRatio,knownProb):\n",
    "   return oddRatio * knownProb / (1 + oddRatio * knownProb - knownProb)\n",
    "\n",
    "print(odd_ratio_to_proba(oddRatio,knownProb))\n"
   ]
  },
  {
   "cell_type": "markdown",
   "id": "4a832eae",
   "metadata": {
    "collapsed": false,
    "pycharm": {
     "name": "#%% md\n"
    }
   },
   "source": [
    "## Run ASPICS using parameters manually defined.\n"
   ]
  },
  {
   "cell_type": "code",
   "execution_count": null,
   "id": "b702aa53",
   "metadata": {
    "collapsed": false,
    "pycharm": {
     "name": "#%%\n"
    }
   },
   "outputs": [],
   "source": [
    "PARAMETERS_FILE = 'config/Manchester.yml' # Reading the parameters file\n",
    "with open(PARAMETERS_FILE, \"r\") as f:\n",
    "    parameters = load(f, Loader=SafeLoader)"
   ]
  },
  {
   "cell_type": "code",
   "execution_count": null,
   "id": "25c992f0",
   "metadata": {
    "collapsed": false,
    "pycharm": {
     "name": "#%%\n"
    }
   },
   "outputs": [],
   "source": [
    "calibration_params = parameters[\"microsim_calibration\"]\n",
    "disease_params = parameters[\"disease\"]"
   ]
  },
  {
   "cell_type": "code",
   "execution_count": null,
   "id": "620ce260",
   "metadata": {
    "collapsed": false,
    "pycharm": {
     "name": "#%%\n"
    }
   },
   "outputs": [],
   "source": [
    "params_manual = OpenCLRunner.create_params_manually( parameters_file=PARAMETERS_FILE)"
   ]
  },
  {
   "cell_type": "code",
   "execution_count": null,
   "id": "e2aa855f",
   "metadata": {
    "collapsed": false,
    "pycharm": {
     "name": "#%%\n"
    }
   },
   "outputs": [],
   "source": [
    "REPETITIONS = 5\n",
    "ITERATIONS = 100\n",
    "STUDY_AREA = \"Manchester\"\n",
    "OUTPUT = True\n",
    "OUTPUT_EVERY_ITERATION = False\n",
    "USE_LOCKDOWN = False\n",
    "START_DATE = 10\n",
    "#OBSERVATIONS IS DECLARED IN THE PREVIOUS CELL\n",
    "USE_GPU = True\n",
    "USE_HEALTHIER_POP = True\n",
    "STORE_DETAILED_COUNTS = True\n",
    "#PARAMETERS file IS DECLARED IN THE PREVIOUS CELL\n",
    "\n",
    "assert ITERATIONS < len(OBSERVATIONS), \\\n",
    "    f\"Have more iterations ({ITERATIONS}) than observations ({len(OBSERVATIONS)}).\""
   ]
  },
  {
   "cell_type": "code",
   "execution_count": null,
   "id": "716cd7eb",
   "metadata": {
    "collapsed": false,
    "pycharm": {
     "name": "#%%\n"
    }
   },
   "outputs": [],
   "source": [
    "OpenCLRunner.init(\n",
    "    iterations = ITERATIONS,\n",
    "    repetitions = REPETITIONS,\n",
    "    study_area= STUDY_AREA,\n",
    "    output=OUTPUT,\n",
    "    output_every_iteration=OUTPUT_EVERY_ITERATION,\n",
    "    use_lockdown=False,\n",
    "    start_date=START_DATE,\n",
    "    observations = OBSERVATIONS,\n",
    "    use_gpu = USE_GPU,\n",
    "    store_detailed_counts = STORE_DETAILED_COUNTS,\n",
    "    parameters_file = PARAMETERS_FILE,\n",
    "    use_healthier_pop = True\n",
    ")"
   ]
  },
  {
   "cell_type": "code",
   "execution_count": null,
   "id": "7d003dc8",
   "metadata": {
    "collapsed": false,
    "pycharm": {
     "name": "#%%\n"
    }
   },
   "outputs": [],
   "source": [
    "OpenCLRunner.update(repetitions=10)  # Temporarily use more repetitions to give a good baseline, initially suggested as 10\n",
    "OpenCLRunner.update(store_detailed_counts=True)"
   ]
  },
  {
   "cell_type": "code",
   "execution_count": null,
   "id": "1d38f887",
   "metadata": {
    "collapsed": false,
    "pycharm": {
     "name": "#%%\n"
    }
   },
   "outputs": [],
   "source": [
    "(fitness0, sim0, obs0, out_params0, summaries0) = OpenCLRunner.run_aspics_with_params_abc({}, return_full_details=True)"
   ]
  },
  {
   "cell_type": "code",
   "execution_count": null,
   "id": "ac39dc7a",
   "metadata": {
    "pycharm": {
     "name": "#%%\n"
    }
   },
   "outputs": [],
   "source": [
    "OpenCLRunner.update(repetitions=REPETITIONS)\n",
    "OpenCLRunner.update(store_detailed_counts=STORE_DETAILED_COUNTS)\n",
    "\n",
    "# Check the model returns the observations correctly\n",
    "np.array_equal(obs0, OBSERVATIONS.loc[:len(sim0)-1,\"Cases\"])\n",
    "\n",
    "# Print the fitness and plot the different disease counts\n",
    "print(f\"fitness: {fitness0}\")\n",
    "#print(pd.DataFrame({\"sim\":sim, \"real_obs1\":obs}))\n",
    "\n",
    "fig, ax = plt.subplots(1,1)\n",
    "x = range(len(sim0))\n",
    "ax.plot(x, OpenCLRunner.get_cumulative_new_infections(summaries0), label=\"sim\", color=\"orange\")\n",
    "ax.plot(x, obs0, label=\"obs\", color=\"blue\")\n",
    "ax.legend()"
   ]
  },
  {
   "cell_type": "code",
   "execution_count": null,
   "id": "6ffbdc1c",
   "metadata": {
    "collapsed": false,
    "pycharm": {
     "name": "#%%\n"
    }
   },
   "outputs": [],
   "source": [
    "def plot_summaries(summaries, observations=None, plot_type=\"error_bars\"):\n",
    "\n",
    "    #fig, ax = plt.subplots(1, len(DiseaseStatus), sharey=True)\n",
    "    fig, ax = plt.subplots(1, 1, figsize=(10,7))\n",
    "\n",
    "    # Work out the number of repetitions and iterations\n",
    "    iters, reps = _get_iters_and_reps(summaries)\n",
    "    x = range(iters)\n",
    "    total_not_susceptible = np.zeros(iters)  # Used to compare to observations\n",
    "\n",
    "    for d, disease_status in enumerate(DiseaseStatus):\n",
    "\n",
    "        # Calculate the mean and standard deviation\n",
    "        mean, sd = OpenCLRunner.get_mean_total_counts(summaries, d, get_sd=True)\n",
    "\n",
    "        # Don't plot susceptible or recovered as it hides everytihng else\n",
    "        if disease_status==DiseaseStatus.Susceptible or disease_status==DiseaseStatus.Recovered:\n",
    "            continue\n",
    "\n",
    "        if plot_type == \"error_bars\":\n",
    "            ax.errorbar(x, mean, sd, label=f\"{disease_status}\" )\n",
    "        elif plot_type == \"lines\":\n",
    "            for rep in range(reps):\n",
    "                ax.plot(x, matrix[rep], label=f\"{disease_status} {rep}\",\n",
    "                        color=plt.cm.get_cmap(\"hsv\", len(DiseaseStatus))(d) )\n",
    "\n",
    "    if observations is not None:\n",
    "        # Plot the observations (cumulative infections)\n",
    "        ax.plot(x, observations.loc[:len(x)-1, \"Cases\"],\n",
    "                label=f\"Observations (cumulative cases)\", color=\"black\", linestyle=\"dashed\")\n",
    "        # And the total new infections, for comparison\n",
    "        ax.plot(x, OpenCLRunner.get_cumulative_new_infections(summaries),\n",
    "               label=f\"Total not susceptible \", color=\"grey\", linestyle=\"dashed\")\n",
    "\n",
    "\n",
    "    ax.legend()\n",
    "    ax.set_title(\"Disease Status\")\n",
    "    ax.set_xlabel(\"Iteration\")\n",
    "    ax.set_ylabel(\"Number of cases\")\n",
    "    #ax.set_ylim(0, 5000)\n",
    "    #ax.set_xlim(0,30)\n",
    "\n",
    "def _get_iters_and_reps(summaries):\n",
    "    reps = len(summaries)\n",
    "    iters = len(summaries[0].total_counts[0])\n",
    "    return (iters, reps)"
   ]
  },
  {
   "cell_type": "code",
   "execution_count": null,
   "id": "eaa56845",
   "metadata": {
    "collapsed": false,
    "pycharm": {
     "name": "#%%\n"
    }
   },
   "outputs": [],
   "source": [
    "plot_summaries(summaries=summaries0, observations=OBSERVATIONS, plot_type=\"error_bars\")"
   ]
  },
  {
   "cell_type": "code",
   "execution_count": null,
   "id": "f7c78cbd",
   "metadata": {
    "collapsed": false,
    "pycharm": {
     "name": "#%%\n"
    }
   },
   "outputs": [],
   "source": [
    "def plot_disease_status_by_age(summaries):\n",
    "\n",
    "    #fig, ax = plt.subplots(1, len(DiseaseStatus), sharey=True)\n",
    "    fig, ax = plt.subplots(int(len(DiseaseStatus)/2), int(len(DiseaseStatus)/2),\n",
    "                           figsize=(15,11), tight_layout=True)\n",
    "    iters, reps = _get_iters_and_reps(summaries)\n",
    "    x = range(iters)\n",
    "    age_thresholds = summaries[0].age_thresholds\n",
    "\n",
    "    for d, disease_status in enumerate(DiseaseStatus):\n",
    "        lower_age_bound = 0\n",
    "        for age_idx in range(len(age_thresholds)):\n",
    "            matrix = np.zeros(shape=(reps, iters))\n",
    "            for rep in range(reps):\n",
    "                #matrix[age_idx][rep][it] = summaries[rep].age_counts[str(disease_status)][age_idx][it]\n",
    "                matrix[rep] = summaries[rep].age_counts[str(disease_status)][age_idx]\n",
    "            mean = np.mean(matrix, axis=0)\n",
    "            sd = np.std(matrix, axis=0)\n",
    "            ax.flat[d].errorbar(x, mean, sd, label=f\"{lower_age_bound} - {age_thresholds[age_idx]}\" )\n",
    "            lower_age_bound = age_thresholds[age_idx]\n",
    "\n",
    "            ax.flat[d].legend()\n",
    "            ax.flat[d].set_title(f\"{str(disease_status)}\")\n",
    "            ax.flat[d].set_xlabel(\"Iteration\")\n",
    "            ax.flat[d].set_ylabel(\"Number of cases\")\n",
    "    #fig.set_title(f\"Num {disease_status} people by age group\")"
   ]
  },
  {
   "cell_type": "code",
   "execution_count": null,
   "id": "a4c0eacc",
   "metadata": {
    "collapsed": false,
    "pycharm": {
     "name": "#%%\n"
    }
   },
   "outputs": [],
   "source": [
    "plot_disease_status_by_age(summaries0)"
   ]
  },
  {
   "cell_type": "markdown",
   "id": "808ffa9d",
   "metadata": {
    "collapsed": false,
    "pycharm": {
     "name": "#%% md\n"
    }
   },
   "source": [
    "# ABC"
   ]
  },
  {
   "cell_type": "code",
   "execution_count": null,
   "id": "77a4531a",
   "metadata": {
    "collapsed": false,
    "pycharm": {
     "name": "#%%\n"
    }
   },
   "outputs": [],
   "source": [
    "import pyabc\n",
    "from pygam import LinearGAM  # For graphing posteriors\n",
    "from pyabc.transition.multivariatenormal import MultivariateNormalTransition  # For drawing from the posterior\n",
    "import pickle"
   ]
  },
  {
   "cell_type": "code",
   "execution_count": null,
   "id": "fa7230f8",
   "metadata": {
    "collapsed": false,
    "pycharm": {
     "name": "#%%\n"
    }
   },
   "outputs": [],
   "source": [
    "import itertools"
   ]
  },
  {
   "cell_type": "code",
   "execution_count": null,
   "id": "51d3aff8",
   "metadata": {
    "collapsed": false,
    "pycharm": {
     "name": "#%%\n"
    }
   },
   "outputs": [],
   "source": [
    "def distance(sim,obs):\n",
    "    fit = OpenCLRunner.fit_l2(sim[\"data\"],obs[\"data\"])\n",
    "    print(fit)\n",
    "    return fit"
   ]
  },
  {
   "cell_type": "code",
   "execution_count": null,
   "id": "d36628a8",
   "metadata": {
    "collapsed": false,
    "pycharm": {
     "name": "#%%\n"
    }
   },
   "outputs": [],
   "source": [
    "# The following should all be constant (overriding whatever is in the default.yml parameters file)\n",
    "OpenCLRunner.set_constants( {\"home\": 1.0 })\n",
    "# FYI this is how to represent with discrete distributions and one possible value\n",
    "# https://pyabc.readthedocs.io/en/latest/api_random_variables.html#\n",
    "\n",
    "current_risk_beta_rv = current_risk_beta_rv = pyabc.RV(\"norm\", 0.1, 0.155)\n",
    "\n",
    "# School and retail are all uniform between 0-1\n",
    "retail_rv, primary_school_rv, secondary_school_rv = (pyabc.RV(\"uniform\", 0, 1) for _ in range(3)  )\n",
    "# Work needs some dampening because we know that workplaces are too big in the current implementation\n",
    "work_rv = pyabc.RV(\"beta\", 0.1, 2)\n",
    "\n",
    "# Individual multipliers (see justification at the start of this notebook).\n",
    "# Asymptomatic is normal such that the middle 95% is the range [0.138, 0.75]\n",
    "presymptomatic_rv, symptomatic_rv, asymptomatic_rv = (pyabc.RV(\"norm\", 0.444, 0.155) for _ in range(3))\n",
    "\n",
    "# Group all random variables together and give them a string name (this is needed for the distribution later)\n",
    "all_rv = { \"retail\": retail_rv, \"primary_school\": primary_school_rv, \"secondary_school\": secondary_school_rv, \"work\": work_rv,\n",
    "           \"presymptomatic\": presymptomatic_rv, \"symptomatic\": symptomatic_rv, \"asymptomatic\": asymptomatic_rv,\n",
    "           \"current_risk_beta\":current_risk_beta_rv}\n",
    "\n",
    "fig, axes = plt.subplots(3, 2, figsize=(12,8), sharex=True, sharey=True)\n",
    "x = np.linspace(0,2,49)  # (specified so that we have some whole numbers)\n",
    "marker = itertools.cycle((',', '+', '.', 'o', '*'))\n",
    "for i, variable in enumerate([retail_rv, primary_school_rv, secondary_school_rv, work_rv,\n",
    "                              ]):\n",
    "    var_name = [ k for k,v in locals().items() if v is variable][0]  # Hack to get the name of the variable\n",
    "    ax = axes.flatten()[i]\n",
    "    #ax.plot(x, pyabc.Distribution(param=variable).pdf({\"param\": x}), label = var_name, marker=next(marker), ms=3)\n",
    "    ax.plot(x, pyabc.Distribution(param=variable).pdf({\"param\": x}))\n",
    "    ax.set_title(var_name)\n",
    "    ax.axvline(x=1.0, ls='--', color=\"grey\", label=\"x=1\")\n",
    "\n",
    "#ax.legend()\n",
    "fig.suptitle(\"Priors\")\n",
    "fig.tight_layout()"
   ]
  },
  {
   "cell_type": "code",
   "execution_count": null,
   "id": "602e6f92",
   "metadata": {
    "collapsed": false,
    "pycharm": {
     "name": "#%%\n"
    }
   },
   "outputs": [],
   "source": [
    "# Most priors can be passed straight to the distribution, except for 'asymptomatic' because it's normal\n",
    "# so needs to be decorated to stay above 0\n",
    "priors = pyabc.Distribution(\n",
    "    #home = home_rv,\n",
    "    retail = retail_rv,\n",
    "    primary_school = primary_school_rv,\n",
    "    secondary_school = secondary_school_rv,\n",
    "    work = work_rv,\n",
    "    presymptomatic = presymptomatic_rv,\n",
    "    symptomatic = symptomatic_rv,\n",
    "    asymptomatic = pyabc.LowerBoundDecorator(asymptomatic_rv, 0.0), # TODO why is it like this.\n",
    "    current_risk_beta = current_risk_beta_rv\n",
    ")"
   ]
  },
  {
   "cell_type": "code",
   "execution_count": null,
   "id": "e125092c",
   "metadata": {
    "collapsed": false,
    "pycharm": {
     "name": "#%%\n"
    }
   },
   "outputs": [],
   "source": [
    "abc = pyabc.ABCSMC(\n",
    "    models=OpenCLRunner.run_aspics_with_params_abc, # Model (could be a list)\n",
    "    parameter_priors=priors, # Priors (could be a list)\n",
    "    distance_function=distance,  # Distance function\n",
    "    sampler = pyabc.sampler.SingleCoreSampler()  # Single core because the model is parallelised\n",
    "    #transition=transition,  # Define how to transition from one population to the next\n",
    ")"
   ]
  },
  {
   "cell_type": "code",
   "execution_count": null,
   "id": "e02ffd4c",
   "metadata": {
    "collapsed": false,
    "pycharm": {
     "name": "#%%\n"
    }
   },
   "outputs": [],
   "source": [
    "y_observed = OBSERVATIONS.loc[:ITERATIONS-1, \"Cases\"].values"
   ]
  },
  {
   "cell_type": "code",
   "execution_count": null,
   "id": "b22a101f",
   "metadata": {
    "collapsed": false,
    "pycharm": {
     "name": "#%%\n"
    }
   },
   "outputs": [],
   "source": [
    "os.getcwd()"
   ]
  },
  {
   "cell_type": "code",
   "execution_count": null,
   "id": "0efb4e93",
   "metadata": {
    "collapsed": false,
    "pycharm": {
     "name": "#%%\n"
    }
   },
   "outputs": [],
   "source": [
    "db_path = (\"sqlite:///\" + os.path.join(\".\", \"abc-manchester.db\"))"
   ]
  },
  {
   "cell_type": "code",
   "execution_count": null,
   "id": "2e028577",
   "metadata": {
    "collapsed": false,
    "pycharm": {
     "name": "#%%\n"
    }
   },
   "outputs": [],
   "source": [
    "run_id = abc.new(db_path, {\"data\": y_observed})  # (ID only matters if multiple runs stored is same DB)"
   ]
  },
  {
   "cell_type": "code",
   "execution_count": null,
   "id": "46656c14",
   "metadata": {
    "collapsed": false,
    "pycharm": {
     "name": "#%%\n"
    }
   },
   "outputs": [],
   "source": [
    "LOAD_PICKLES = True\n",
    "history = None\n",
    "fname = \"abc_2-manchester.pkl\"\n",
    "\n",
    "if LOAD_PICKLES and os.path.isfile(fname):\n",
    "    with open( fname, \"rb\" ) as f:\n",
    "        history = pickle.load(f)\n",
    "else:\n",
    "    history = abc.run(max_nr_populations=2)\n",
    "    # The history object only works if it has the associated database too ('abc-1.db')\n",
    "    with open( fname, \"wb\" ) as f:\n",
    "        pickle.dump( history, f)"
   ]
  },
  {
   "cell_type": "code",
   "execution_count": null,
   "id": "38b94124",
   "metadata": {
    "collapsed": false,
    "pycharm": {
     "name": "#%%\n"
    }
   },
   "outputs": [],
   "source": [
    "fig, ax = plt.subplots()\n",
    "\n",
    "for t in range(history.max_t + 1):\n",
    "    df, w = history.get_distribution(m=0, t=t)\n",
    "    pyabc.visualization.plot_kde_1d(df, w,x=\"asymptomatic\", ax=ax,label=\"PDF t={}\".format(t))\n",
    "#ax.axvline(y_observed, color=\"k\", linestyle=\"dashed\");\n",
    "ax.axvline(x=0.53, color=\"grey\", linestyle=\"dashed\");\n",
    "ax.legend()"
   ]
  },
  {
   "cell_type": "code",
   "execution_count": null,
   "id": "22cb8e01",
   "metadata": {
    "collapsed": false,
    "pycharm": {
     "name": "#%%\n"
    }
   },
   "outputs": [],
   "source": [
    "_, arr_ax = plt.subplots(2, 2)\n",
    "\n",
    "pyabc.visualization.plot_sample_numbers(history, ax=arr_ax[0][0])\n",
    "pyabc.visualization.plot_epsilons(history, ax=arr_ax[0][1])\n",
    "#pyabc.visualization.plot_credible_intervals(\n",
    "#    history, levels=[0.95, 0.9, 0.5], ts=[0, 1, 2, 3, 4],\n",
    "#    show_mean=True, show_kde_max_1d=True,\n",
    "#    refval={'mean': 2.5},\n",
    "#    arr_ax=arr_ax[1][0])\n",
    "pyabc.visualization.plot_effective_sample_sizes(history, ax=arr_ax[1][1])\n",
    "\n",
    "plt.gcf().set_size_inches((12, 8))\n",
    "plt.gcf().tight_layout()"
   ]
  },
  {
   "cell_type": "code",
   "execution_count": null,
   "id": "ac31b779",
   "metadata": {
    "collapsed": false,
    "pycharm": {
     "name": "#%%\n"
    }
   },
   "outputs": [],
   "source": [
    "fig, axes = plt.subplots(3,int(len(priors)/2), figsize=(12,10))\n",
    "\n",
    "#cmap = { 0:'k',1:'b',2:'y',3:'g',4:'r' }  # Do this automatically for len(params)\n",
    "\n",
    "for i, param in enumerate(priors.keys()):\n",
    "    ax = axes.flat[i]\n",
    "    for t in range(history.max_t + 1):\n",
    "        df, w = history.get_distribution(m=0, t=t)\n",
    "        pyabc.visualization.plot_kde_1d(df, w, x=param, ax=ax,\n",
    "                                        label=f\"{param} PDF t={t}\",\n",
    "                                        alpha=1.0 if t==0 else float(t)/history.max_t, # Make earlier populations transparent\n",
    "                                        color= \"black\" if t==history.max_t else None # Make the last one black\n",
    "                                        )\n",
    "        if param!=\"work\":\n",
    "            ax.set_xlim(0,1)\n",
    "        ax.legend(fontsize=\"small\")\n",
    "        #ax.axvline(x=posterior_df.loc[1,param], color=\"grey\", linestyle=\"dashed\")\n",
    "        #ax.set_title(f\"{param}: {posterior_df.loc[0,param]}\")\n",
    "        ax.set_title(f\"{param}\")\n",
    "fig.tight_layout()"
   ]
  },
  {
   "cell_type": "code",
   "execution_count": null,
   "id": "5fba36fd",
   "metadata": {
    "collapsed": false,
    "pycharm": {
     "name": "#%%\n"
    }
   },
   "outputs": [],
   "source": [
    "# As above but only show two parameters (for a Turing presentation)\n",
    "fig, axes = plt.subplots(1,2, figsize=(12,6))\n",
    "\n",
    "#cmap = { 0:'k',1:'b',2:'y',3:'g',4:'r' }  # Do this automatically for len(params)\n",
    "\n",
    "for i, param in enumerate(['primary_school', 'asymptomatic']):\n",
    "    ax = axes.flat[i]\n",
    "    t = history.max_t\n",
    "    df, w = history.get_distribution(m=0, t=t)\n",
    "    pyabc.visualization.plot_kde_1d(df, w, x=param, ax=ax,\n",
    "                                    label=f\"{param} PDF t={t}\",\n",
    "                                    alpha=1.0 if t==0 else float(t)/history.max_t, # Make earlier populations transparent\n",
    "                                    color= \"black\" if t==history.max_t else None # Make the last one black\n",
    "                                    )\n",
    "    if param!=\"work\":\n",
    "        ax.set_xlim(0,1)\n",
    "    ax.legend(fontsize=\"small\")\n",
    "    ax.set_title(f\"{param}\")\n",
    "fig.tight_layout()"
   ]
  },
  {
   "cell_type": "code",
   "execution_count": null,
   "id": "000803dc",
   "metadata": {
    "collapsed": false,
    "pycharm": {
     "name": "#%%\n"
    }
   },
   "outputs": [],
   "source": [
    "fig, axes = plt.subplots(3,int(history.max_t/2), figsize=(10,8))\n",
    "for t in range(history.max_t + 1):\n",
    "   ax = axes.flat[t]\n",
    "   for i, param in enumerate(priors.keys()):\n",
    "       df, w = history.get_distribution(m=0, t=t)\n",
    "       pyabc.visualization.plot_kde_1d(df, w, x=param, ax=ax,\n",
    "           label=f\"{param}\")\n",
    "   ax.legend()\n",
    "   ax.set_title(f\"t={t}\")\n",
    "fig.tight_layout()"
   ]
  },
  {
   "cell_type": "code",
   "execution_count": null,
   "id": "d7d809b5",
   "metadata": {
    "collapsed": false,
    "pycharm": {
     "name": "#%%\n"
    }
   },
   "outputs": [],
   "source": [
    "pyabc.visualization.plot_histogram_matrix(history, size=(12,10))"
   ]
  },
  {
   "cell_type": "markdown",
   "id": "dbb09700",
   "metadata": {
    "collapsed": false,
    "pycharm": {
     "name": "#%% md\n"
    }
   },
   "source": [
    "# Posterior"
   ]
  },
  {
   "cell_type": "code",
   "execution_count": null,
   "id": "76feeedb",
   "metadata": {
    "collapsed": false,
    "pycharm": {
     "name": "#%%\n"
    }
   },
   "outputs": [],
   "source": [
    "_df, _w = history.get_distribution(m=0, t=history.max_t)\n",
    "# Merge dataframe and weights and sort by weight (highest weight at the top)\n",
    "_df['weight'] = _w\n",
    "posterior_df = _df.sort_values('weight', ascending=False).reset_index()\n",
    "posterior_df"
   ]
  },
  {
   "cell_type": "code",
   "execution_count": null,
   "id": "7efea40e",
   "metadata": {
    "collapsed": false,
    "pycharm": {
     "name": "#%%\n"
    }
   },
   "outputs": [],
   "source": [
    "N_samples = 50\n",
    "df, w = history.get_distribution(m=0, t=history.max_t)\n",
    "\n",
    "# Sample from the dataframe of posteriors using KDE\n",
    "kde = MultivariateNormalTransition(scaling=1)\n",
    "kde.fit(df, w)\n",
    "samples = kde.rvs(N_samples)\n",
    "\n",
    "## Instead sample just using the weights (this isn't the best way to do it though, should use KDE)\n",
    "#df = df.reset_index()  # So that the row index is 0-N (currently it's something else)\n",
    "#sample_idx = np.random.choice(\n",
    "#            a=range(history.get_nr_particles_per_population().values[-1]),\n",
    "#            size=N_samples, replace=True, p=w)\n",
    "#samples = df.iloc[sample_idx]\n",
    "\n",
    "# Now run N models and store the results of each one\n",
    "fitness_l = []  # Fitness values for each sample (model)\n",
    "sim_l = []  # The full simulation results\n",
    "obs_l = []  # Observations (should be the same for each sample)\n",
    "out_params_l = []  # The parameters objects used in each sample (all parameters in the model)\n",
    "out_calibrated_params_l = []  # The values of the specific calibrated parameters for the sample\n",
    "summaries_l = []  # The summaries objects\n",
    "\n",
    "negative_count = 0  # Count the number of negatives returned in the KDE posterior\n",
    "for i, sample in samples.iterrows():\n",
    "\n",
    "    # Check for negatives. If needed, resample\n",
    "    while (sample < 0).values.any():\n",
    "        print(\"Found negatives. Resampling\")\n",
    "        negative_count += 1\n",
    "        sample = kde.rvs()\n",
    "\n",
    "    # Create a dictionary with the parameters and their values for this sample\n",
    "    param_values = { param:sample[str(param)] for param in priors}\n",
    "\n",
    "    # Run the model\n",
    "    (_fitness, _sim, _obs, _out_params, _summaries) = \\\n",
    "          OpenCLRunner.run_aspics_with_params_abc(param_values, return_full_details=True)\n",
    "    print(f\"Fitness: {_fitness}.\")\n",
    "    #print(f\"Fitness: {_fitness}. Sample: {sample}\")\n",
    "\n",
    "    fitness_l.append(_fitness)\n",
    "    sim_l.append(_sim)\n",
    "    obs_l.append(_obs)\n",
    "    out_params_l.append(_out_params)\n",
    "    out_calibrated_params_l.append(param_values)\n",
    "    summaries_l.append(_summaries)\n",
    "\n",
    "print(f\"Finished sampling. Ignored {negative_count} negative samples.\")\n",
    "\n",
    "# Sanity check\n",
    "for i in range(len(obs_l)-1):\n",
    "    assert np.array_equal(obs_l[0], obs_l[i])\n",
    "\n",
    "\n",
    "# Save these because it took ages to sample\n",
    "def pickle_samples(mode, *arrays):\n",
    "    if mode==\"save\":\n",
    "        with open(\"abc-2-samples.pkl\", \"wb\") as f:\n",
    "            for x in arrays:\n",
    "                pickle.dump(x, f)\n",
    "        return\n",
    "    elif mode==\"load\":\n",
    "        with open(\"abc-2-samples.pkl\", \"rb\") as f:\n",
    "            fitness_l = pickle.load(f)\n",
    "            sim_l = pickle.load(f)\n",
    "            obs_l = pickle.load(f)\n",
    "            out_params_l = pickle.load(f)\n",
    "            out_calibrated_params_l = pickle.load(f)\n",
    "            summaries_l = pickle.load(f)\n",
    "        return( fitness_l, sim_l, obs_l, out_params_l, out_calibrated_params_l, summaries_l)\n",
    "    else:\n",
    "        raise Exception(f\"Unkonwn mode: {mode}\")\n",
    "\n",
    "pickle_samples('save', fitness_l, sim_l, obs_l, out_params_l, out_calibrated_params_l, summaries_l)"
   ]
  }
 ],
 "metadata": {
  "kernelspec": {
   "display_name": "Python 3 (ipykernel)",
   "language": "python",
   "name": "python3"
  },
  "language_info": {
   "codemirror_mode": {
    "name": "ipython",
    "version": 3
   },
   "file_extension": ".py",
   "mimetype": "text/x-python",
   "name": "python",
   "nbconvert_exporter": "python",
   "pygments_lexer": "ipython3",
   "version": "3.8.13"
  },
  "vscode": {
   "interpreter": {
    "hash": "ebb45998d057cd9337571d6794a119feabba8ecfd1819e0e1dec5f8d9581edaf"
   }
  }
 },
 "nbformat": 4,
 "nbformat_minor": 5
}
