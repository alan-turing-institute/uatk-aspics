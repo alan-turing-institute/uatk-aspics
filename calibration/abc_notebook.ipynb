{
 "cells": [
  {
   "cell_type": "markdown",
   "id": "2ef48166",
   "metadata": {
    "pycharm": {
     "name": "#%% md\n"
    }
   },
   "source": [
    "# Calibration of multiple parameters for ASPICS model, using ABC method\n",
    "\n",
    "This jupyter notebook is based on the previous efforts from DyME and Prof Nick Malleson (University of Leeds)\n",
    "\n",
    "- [RAMP-UA Initiative](https://github.com/Urban-Analytics/RAMP-UA/blob/d5973dff007645f1700cded93aaf72298ef84c61/experiments/calibration/abc-1.ipynb)\n",
    "\n",
    "- [Calibrating Agent-Based Models Using Uncertainty Quantification Methods](https://github.com/Urban-Analytics/uncertainty/blob/master/hm_abc_simple_example.ipyn)\n",
    "\n",
    "As SPC (Synthetic Population Catalyst) is a tool that helps urban modelling researchers to get synthetic population datasets at national level (currently limitated to England). This tool opens up new challenges/possibilities where external models (multi-level) like Agent-based models -ABM now can be tested in multi regions. However in models with location parameters striclty dependend on the population interactions, internal validation and calibrations process are seen as a relevant and requiered to properly tune this national behaivor. "
   ]
  },
  {
   "cell_type": "markdown",
   "id": "b7e790da",
   "metadata": {
    "pycharm": {
     "name": "#%% md\n"
    }
   },
   "source": [
    "### ToDO to make progress in this experiment\n",
    "- [X] Read the Synt Pop file - Translate to snaphot then ASPICS can read the new dataset.\n",
    "- [] Read and plot the attributes we need, we could plot\n",
    "- [] Read the baseline use as priors - Areas to test Leeds ( ideally West Yorkshire), Liverpool, Devon, Manchester (Grand Manchester)"
   ]
  },
  {
   "cell_type": "markdown",
   "id": "7db61a3a",
   "metadata": {
    "pycharm": {
     "name": "#%% md\n"
    }
   },
   "source": [
    "## Background Concepts\n",
    "\n",
    "- Uncertanity of ABM\n",
    "- Methods for Calibration\n",
    "- ABC"
   ]
  },
  {
   "cell_type": "code",
   "execution_count": 1,
   "id": "1084c0b9",
   "metadata": {
    "pycharm": {
     "name": "#%%\n"
    }
   },
   "outputs": [],
   "source": [
    "import math\n",
    "import pandas as pd\n",
    "import sys, os\n",
    "import matplotlib.pyplot as plt\n",
    "import numpy as np\n",
    "import random\n",
    "from yaml import load, SafeLoader\n",
    "sys.path.append('../')\n",
    "from run_aspics import OpenCLRunner\n",
    "from aspics.disease_statuses import DiseaseStatus\n",
    "from aspics.loader import setup_sim\n",
    "from headless import run_headless\n",
    "import synthpop_pb2\n",
    "import convert_snapshot"
   ]
  },
  {
   "cell_type": "markdown",
   "id": "6bc56c3e",
   "metadata": {
    "pycharm": {
     "name": "#%% md\n"
    }
   },
   "source": [
    "The following function is based on [SPC scripts](https://github.com/alan-turing-institute/uatk-spc/blob/main/python/protobuf_to_csv.py) the idea is to read the .pb file created with the tool. However, we need to make a translation from the proto file to snapshot which will integarte the data in the way ASPICS need it."
   ]
  },
  {
   "cell_type": "markdown",
   "id": "b3b10051",
   "metadata": {
    "pycharm": {
     "name": "#%% md\n"
    }
   },
   "source": [
    "## Read the baseline data. Defined as prior to calibrate the model to a given area\n",
    "Real observations (number of cases, deaths or hospital admission in the given area)\n",
    "They need to be made cumulative as this is how they will be compared to the model."
   ]
  },
  {
   "cell_type": "markdown",
   "id": "26e5f8e9",
   "metadata": {
    "pycharm": {
     "name": "#%% md\n"
    }
   },
   "source": [
    "#### Rutland area as test run due it size\n",
    "The data for no of cases and the gam_cases data were created using [Ramp-UA - Observation Data](https://github.com/Urban-Analytics/RAMP-UA/tree/master/experiments/calibration/observation_data)"
   ]
  },
  {
   "cell_type": "code",
   "execution_count": 2,
   "id": "2f11f179",
   "metadata": {
    "pycharm": {
     "name": "#%%\n"
    }
   },
   "outputs": [
    {
     "name": "stdout",
     "output_type": "stream",
     "text": [
      "Total cases: 34166\n"
     ]
    }
   ],
   "source": [
    "# New per day:\n",
    "gam_cases = pd.read_csv(os.path.join(\"baseline_data\", \"gam_manchester_cases.csv\"), header=0, names=[\"Day\", \"Cases\"], )\n",
    "# Cumulative\n",
    "OBSERVATIONS = pd.DataFrame( {\"Day\": gam_cases['Day'], \"Cases\": gam_cases.cumsum()['Cases']} )\n",
    "assert OBSERVATIONS.tail(1)['Cases'].values[0] == sum(gam_cases['Cases'])\n",
    "print(f\"Total cases: {sum(gam_cases['Cases'])}\")"
   ]
  },
  {
   "cell_type": "markdown",
   "id": "2d97cfca",
   "metadata": {
    "pycharm": {
     "name": "#%% md\n"
    }
   },
   "source": [
    "## Run ASPIC using the default parameters\n",
    "\n",
    "The following cells provide a set of plots to define how the model run with the default parameters ( manually calibrated for Devon area). In this example we use Rutland.\n",
    "\n",
    "Before everything, we need to translate the .pb (protobufer) file to the snapshot required by ASPCIS [Usage guide](docs/usage_guide.md). You need to do this one time. Once you created your synthetic population file, then run 'run ../convert_snapshot.py -i SPC_data/{YOUR_NEW_AREA}.pb -o ../data/snapshots/{YOUR_NEW_AREA}/cache.npz'\n"
   ]
  },
  {
   "cell_type": "markdown",
   "source": [
    "Great now we have the cache.npz file in `data/snapshots`\n"
   ],
   "metadata": {
    "collapsed": false,
    "pycharm": {
     "name": "#%% md\n"
    }
   }
  },
  {
   "cell_type": "code",
   "execution_count": 3,
   "outputs": [
    {
     "data": {
      "text/plain": "'/Users/fbenitez/PycharmProjects/uatk-aspics/calibration'"
     },
     "execution_count": 3,
     "metadata": {},
     "output_type": "execute_result"
    }
   ],
   "source": [
    "os.getcwd()"
   ],
   "metadata": {
    "collapsed": false,
    "pycharm": {
     "name": "#%%\n"
    }
   }
  },
  {
   "cell_type": "code",
   "execution_count": 4,
   "outputs": [],
   "source": [
    "os.chdir(\"../\") #Now we need to update the main directory then we can use aspics as the way was created."
   ],
   "metadata": {
    "collapsed": false,
    "pycharm": {
     "name": "#%%\n"
    }
   }
  },
  {
   "cell_type": "code",
   "execution_count": 5,
   "outputs": [
    {
     "name": "stdout",
     "output_type": "stream",
     "text": [
      "Running a manually added parameters simulation based on {'microsim': {'study-area': 'Manchester', 'iterations': 80, 'use-lockdown': False, 'start-date': 10, 'output': True, 'output-every-iteration': False, 'repetitions': 1}, 'microsim_calibration': {'hazard_individual_multipliers': {'presymptomatic': 1.0, 'asymptomatic': 0.75, 'symptomatic': 1.0}, 'hazard_location_multipliers': {'Retail': 1.0, 'PrimarySchool': 1.0, 'SecondarySchool': 1.0, 'Home': 1.0, 'Work': 1.0}}, 'disease': {'current_risk_beta': 0.003}, 'health_conditions': {'sex': {'male_mortality': 1.0, 'male_symptomatic': 1.0, 'female_mortality': 1.0, 'female_symptomatic': 1.0}, 'type': {'cvd': 1, 'diabetes': 1, 'bloodpressure': 1, 'improve_health': False}, 'BMI': None, 'obesity': {'overweight': 1, 'obesity_40': 1.48, 'obesity_35': 1.48, 'obesity_30': 1.48}}}\n",
      "Loading snapshot from data/snapshots/Manchester/cache.npz\n",
      "Snapshot is 42 MB\n"
     ]
    },
    {
     "name": "stderr",
     "output_type": "stream",
     "text": [
      "/Users/fbenitez/opt/anaconda3/envs/aspics/lib/python3.8/site-packages/pyopencl/__init__.py:266: CompilerWarning: Non-empty compiler output encountered. Set the environment variable PYOPENCL_COMPILER_OUTPUT=1 to see more.\n",
      "  warn(\"Non-empty compiler output encountered. Set the \"\n",
      "Running simulation: 100%|██████████| 80/80 [00:03<00:00, 22.97it/s]"
     ]
    },
    {
     "name": "stdout",
     "output_type": "stream",
     "text": [
      "\n",
      "Day 0\n",
      "\tSusceptible: 177129\n",
      "\tExposed: 46\n",
      "\tPresymptomatic: 0\n",
      "\tAsymptomatic: 163\n",
      "\tSymptomatic: 88\n",
      "\tRecovered: 34\n",
      "\tDead: 0\n",
      "\n",
      "Day 1\n",
      "\tSusceptible: 177091\n",
      "\tExposed: 69\n",
      "\tPresymptomatic: 4\n",
      "\tAsymptomatic: 142\n",
      "\tSymptomatic: 78\n",
      "\tRecovered: 76\n",
      "\tDead: 0\n",
      "\n",
      "Day 2\n",
      "\tSusceptible: 177051\n",
      "\tExposed: 83\n",
      "\tPresymptomatic: 11\n",
      "\tAsymptomatic: 127\n",
      "\tSymptomatic: 64\n",
      "\tRecovered: 124\n",
      "\tDead: 0\n",
      "\n",
      "Day 3\n",
      "\tSusceptible: 177005\n",
      "\tExposed: 86\n",
      "\tPresymptomatic: 20\n",
      "\tAsymptomatic: 132\n",
      "\tSymptomatic: 56\n",
      "\tRecovered: 161\n",
      "\tDead: 0\n",
      "\n",
      "Day 4\n",
      "\tSusceptible: 176935\n",
      "\tExposed: 114\n",
      "\tPresymptomatic: 29\n",
      "\tAsymptomatic: 140\n",
      "\tSymptomatic: 50\n",
      "\tRecovered: 192\n",
      "\tDead: 0\n",
      "\n",
      "Day 5\n",
      "\tSusceptible: 176853\n",
      "\tExposed: 148\n",
      "\tPresymptomatic: 34\n",
      "\tAsymptomatic: 144\n",
      "\tSymptomatic: 53\n",
      "\tRecovered: 228\n",
      "\tDead: 0\n",
      "\n",
      "Day 6\n",
      "\tSusceptible: 176763\n",
      "\tExposed: 176\n",
      "\tPresymptomatic: 44\n",
      "\tAsymptomatic: 162\n",
      "\tSymptomatic: 67\n",
      "\tRecovered: 248\n",
      "\tDead: 0\n",
      "\n",
      "Day 7\n",
      "\tSusceptible: 176630\n",
      "\tExposed: 237\n",
      "\tPresymptomatic: 57\n",
      "\tAsymptomatic: 189\n",
      "\tSymptomatic: 80\n",
      "\tRecovered: 267\n",
      "\tDead: 0\n",
      "\n",
      "Day 8\n",
      "\tSusceptible: 176481\n",
      "\tExposed: 268\n",
      "\tPresymptomatic: 76\n",
      "\tAsymptomatic: 237\n",
      "\tSymptomatic: 102\n",
      "\tRecovered: 296\n",
      "\tDead: 0\n",
      "\n",
      "Day 9\n",
      "\tSusceptible: 176291\n",
      "\tExposed: 334\n",
      "\tPresymptomatic: 91\n",
      "\tAsymptomatic: 289\n",
      "\tSymptomatic: 129\n",
      "\tRecovered: 326\n",
      "\tDead: 0\n",
      "\n",
      "Day 10\n",
      "\tSusceptible: 176076\n",
      "\tExposed: 390\n",
      "\tPresymptomatic: 93\n",
      "\tAsymptomatic: 374\n",
      "\tSymptomatic: 176\n",
      "\tRecovered: 351\n",
      "\tDead: 0\n",
      "\n",
      "Day 11\n",
      "\tSusceptible: 175832\n",
      "\tExposed: 448\n",
      "\tPresymptomatic: 118\n",
      "\tAsymptomatic: 462\n",
      "\tSymptomatic: 211\n",
      "\tRecovered: 389\n",
      "\tDead: 0\n",
      "\n",
      "Day 12\n",
      "\tSusceptible: 175611\n",
      "\tExposed: 491\n",
      "\tPresymptomatic: 125\n",
      "\tAsymptomatic: 539\n",
      "\tSymptomatic: 262\n",
      "\tRecovered: 432\n",
      "\tDead: 0\n",
      "\n",
      "Day 13\n",
      "\tSusceptible: 175391\n",
      "\tExposed: 464\n",
      "\tPresymptomatic: 158\n",
      "\tAsymptomatic: 653\n",
      "\tSymptomatic: 310\n",
      "\tRecovered: 484\n",
      "\tDead: 0\n",
      "\n",
      "Day 14\n",
      "\tSusceptible: 175114\n",
      "\tExposed: 509\n",
      "\tPresymptomatic: 178\n",
      "\tAsymptomatic: 748\n",
      "\tSymptomatic: 368\n",
      "\tRecovered: 543\n",
      "\tDead: 0\n",
      "\n",
      "Day 15\n",
      "\tSusceptible: 174831\n",
      "\tExposed: 575\n",
      "\tPresymptomatic: 163\n",
      "\tAsymptomatic: 829\n",
      "\tSymptomatic: 439\n",
      "\tRecovered: 623\n",
      "\tDead: 0\n",
      "\n",
      "Day 16\n",
      "\tSusceptible: 174599\n",
      "\tExposed: 536\n",
      "\tPresymptomatic: 186\n",
      "\tAsymptomatic: 901\n",
      "\tSymptomatic: 508\n",
      "\tRecovered: 730\n",
      "\tDead: 0\n",
      "\n",
      "Day 17\n",
      "\tSusceptible: 174345\n",
      "\tExposed: 538\n",
      "\tPresymptomatic: 192\n",
      "\tAsymptomatic: 970\n",
      "\tSymptomatic: 548\n",
      "\tRecovered: 867\n",
      "\tDead: 0\n",
      "\n",
      "Day 18\n",
      "\tSusceptible: 174093\n",
      "\tExposed: 546\n",
      "\tPresymptomatic: 172\n",
      "\tAsymptomatic: 1042\n",
      "\tSymptomatic: 618\n",
      "\tRecovered: 989\n",
      "\tDead: 0\n",
      "\n",
      "Day 19\n",
      "\tSusceptible: 173864\n",
      "\tExposed: 500\n",
      "\tPresymptomatic: 177\n",
      "\tAsymptomatic: 1104\n",
      "\tSymptomatic: 672\n",
      "\tRecovered: 1143\n",
      "\tDead: 0\n",
      "\n",
      "Day 20\n",
      "\tSusceptible: 173662\n",
      "\tExposed: 452\n",
      "\tPresymptomatic: 187\n",
      "\tAsymptomatic: 1140\n",
      "\tSymptomatic: 698\n",
      "\tRecovered: 1321\n",
      "\tDead: 0\n",
      "\n",
      "Day 21\n",
      "\tSusceptible: 173467\n",
      "\tExposed: 440\n",
      "\tPresymptomatic: 157\n",
      "\tAsymptomatic: 1145\n",
      "\tSymptomatic: 716\n",
      "\tRecovered: 1534\n",
      "\tDead: 1\n",
      "\n",
      "Day 22\n",
      "\tSusceptible: 173281\n",
      "\tExposed: 406\n",
      "\tPresymptomatic: 140\n",
      "\tAsymptomatic: 1169\n",
      "\tSymptomatic: 729\n",
      "\tRecovered: 1734\n",
      "\tDead: 1\n",
      "\n",
      "Day 23\n",
      "\tSusceptible: 173096\n",
      "\tExposed: 382\n",
      "\tPresymptomatic: 128\n",
      "\tAsymptomatic: 1153\n",
      "\tSymptomatic: 721\n",
      "\tRecovered: 1979\n",
      "\tDead: 1\n",
      "\n",
      "Day 24\n",
      "\tSusceptible: 172923\n",
      "\tExposed: 370\n",
      "\tPresymptomatic: 109\n",
      "\tAsymptomatic: 1143\n",
      "\tSymptomatic: 701\n",
      "\tRecovered: 2212\n",
      "\tDead: 2\n",
      "\n",
      "Day 25\n",
      "\tSusceptible: 172739\n",
      "\tExposed: 375\n",
      "\tPresymptomatic: 103\n",
      "\tAsymptomatic: 1104\n",
      "\tSymptomatic: 666\n",
      "\tRecovered: 2468\n",
      "\tDead: 5\n",
      "\n",
      "Day 26\n",
      "\tSusceptible: 172523\n",
      "\tExposed: 406\n",
      "\tPresymptomatic: 106\n",
      "\tAsymptomatic: 1097\n",
      "\tSymptomatic: 626\n",
      "\tRecovered: 2696\n",
      "\tDead: 6\n",
      "\n",
      "Day 27\n",
      "\tSusceptible: 172315\n",
      "\tExposed: 415\n",
      "\tPresymptomatic: 103\n",
      "\tAsymptomatic: 1089\n",
      "\tSymptomatic: 597\n",
      "\tRecovered: 2935\n",
      "\tDead: 6\n",
      "\n",
      "Day 28\n",
      "\tSusceptible: 172099\n",
      "\tExposed: 452\n",
      "\tPresymptomatic: 105\n",
      "\tAsymptomatic: 1071\n",
      "\tSymptomatic: 568\n",
      "\tRecovered: 3159\n",
      "\tDead: 6\n",
      "\n",
      "Day 29\n",
      "\tSusceptible: 171865\n",
      "\tExposed: 474\n",
      "\tPresymptomatic: 112\n",
      "\tAsymptomatic: 1078\n",
      "\tSymptomatic: 520\n",
      "\tRecovered: 3405\n",
      "\tDead: 6\n",
      "\n",
      "Day 30\n",
      "\tSusceptible: 171613\n",
      "\tExposed: 485\n",
      "\tPresymptomatic: 112\n",
      "\tAsymptomatic: 1115\n",
      "\tSymptomatic: 507\n",
      "\tRecovered: 3621\n",
      "\tDead: 7\n",
      "\n",
      "Day 31\n",
      "\tSusceptible: 171332\n",
      "\tExposed: 533\n",
      "\tPresymptomatic: 101\n",
      "\tAsymptomatic: 1162\n",
      "\tSymptomatic: 488\n",
      "\tRecovered: 3837\n",
      "\tDead: 7\n",
      "\n",
      "Day 32\n",
      "\tSusceptible: 171060\n",
      "\tExposed: 565\n",
      "\tPresymptomatic: 105\n",
      "\tAsymptomatic: 1202\n",
      "\tSymptomatic: 474\n",
      "\tRecovered: 4047\n",
      "\tDead: 7\n",
      "\n",
      "Day 33\n",
      "\tSusceptible: 170755\n",
      "\tExposed: 584\n",
      "\tPresymptomatic: 132\n",
      "\tAsymptomatic: 1270\n",
      "\tSymptomatic: 467\n",
      "\tRecovered: 4245\n",
      "\tDead: 7\n",
      "\n",
      "Day 34\n",
      "\tSusceptible: 170438\n",
      "\tExposed: 647\n",
      "\tPresymptomatic: 119\n",
      "\tAsymptomatic: 1335\n",
      "\tSymptomatic: 479\n",
      "\tRecovered: 4435\n",
      "\tDead: 7\n",
      "\n",
      "Day 35\n",
      "\tSusceptible: 170102\n",
      "\tExposed: 657\n",
      "\tPresymptomatic: 124\n",
      "\tAsymptomatic: 1419\n",
      "\tSymptomatic: 515\n",
      "\tRecovered: 4636\n",
      "\tDead: 7\n",
      "\n",
      "Day 36\n",
      "\tSusceptible: 169742\n",
      "\tExposed: 702\n",
      "\tPresymptomatic: 131\n",
      "\tAsymptomatic: 1552\n",
      "\tSymptomatic: 503\n",
      "\tRecovered: 4823\n",
      "\tDead: 7\n",
      "\n",
      "Day 37\n",
      "\tSusceptible: 169332\n",
      "\tExposed: 781\n",
      "\tPresymptomatic: 134\n",
      "\tAsymptomatic: 1633\n",
      "\tSymptomatic: 530\n",
      "\tRecovered: 5043\n",
      "\tDead: 7\n",
      "\n",
      "Day 38\n",
      "\tSusceptible: 168959\n",
      "\tExposed: 786\n",
      "\tPresymptomatic: 147\n",
      "\tAsymptomatic: 1756\n",
      "\tSymptomatic: 517\n",
      "\tRecovered: 5288\n",
      "\tDead: 7\n",
      "\n",
      "Day 39\n",
      "\tSusceptible: 168487\n",
      "\tExposed: 876\n",
      "\tPresymptomatic: 156\n",
      "\tAsymptomatic: 1842\n",
      "\tSymptomatic: 541\n",
      "\tRecovered: 5551\n",
      "\tDead: 7\n",
      "\n",
      "Day 40\n",
      "\tSusceptible: 168040\n",
      "\tExposed: 927\n",
      "\tPresymptomatic: 152\n",
      "\tAsymptomatic: 1969\n",
      "\tSymptomatic: 561\n",
      "\tRecovered: 5804\n",
      "\tDead: 7\n",
      "\n",
      "Day 41\n",
      "\tSusceptible: 167549\n",
      "\tExposed: 971\n",
      "\tPresymptomatic: 148\n",
      "\tAsymptomatic: 2129\n",
      "\tSymptomatic: 579\n",
      "\tRecovered: 6077\n",
      "\tDead: 7\n",
      "\n",
      "Day 42\n",
      "\tSusceptible: 167069\n",
      "\tExposed: 1000\n",
      "\tPresymptomatic: 164\n",
      "\tAsymptomatic: 2271\n",
      "\tSymptomatic: 598\n",
      "\tRecovered: 6351\n",
      "\tDead: 7\n",
      "\n",
      "Day 43\n",
      "\tSusceptible: 166556\n",
      "\tExposed: 1051\n",
      "\tPresymptomatic: 177\n",
      "\tAsymptomatic: 2414\n",
      "\tSymptomatic: 607\n",
      "\tRecovered: 6648\n",
      "\tDead: 7\n",
      "\n",
      "Day 44\n",
      "\tSusceptible: 166056\n",
      "\tExposed: 1029\n",
      "\tPresymptomatic: 212\n",
      "\tAsymptomatic: 2566\n",
      "\tSymptomatic: 646\n",
      "\tRecovered: 6944\n",
      "\tDead: 7\n",
      "\n",
      "Day 45\n",
      "\tSusceptible: 165530\n",
      "\tExposed: 1069\n",
      "\tPresymptomatic: 224\n",
      "\tAsymptomatic: 2665\n",
      "\tSymptomatic: 661\n",
      "\tRecovered: 7304\n",
      "\tDead: 7\n",
      "\n",
      "Day 46\n",
      "\tSusceptible: 165067\n",
      "\tExposed: 1002\n",
      "\tPresymptomatic: 194\n",
      "\tAsymptomatic: 2792\n",
      "\tSymptomatic: 712\n",
      "\tRecovered: 7686\n",
      "\tDead: 7\n",
      "\n",
      "Day 47\n",
      "\tSusceptible: 164590\n",
      "\tExposed: 990\n",
      "\tPresymptomatic: 198\n",
      "\tAsymptomatic: 2834\n",
      "\tSymptomatic: 738\n",
      "\tRecovered: 8103\n",
      "\tDead: 7\n",
      "\n",
      "Day 48\n",
      "\tSusceptible: 164090\n",
      "\tExposed: 1014\n",
      "\tPresymptomatic: 206\n",
      "\tAsymptomatic: 2896\n",
      "\tSymptomatic: 759\n",
      "\tRecovered: 8488\n",
      "\tDead: 7\n",
      "\n",
      "Day 49\n",
      "\tSusceptible: 163653\n",
      "\tExposed: 975\n",
      "\tPresymptomatic: 196\n",
      "\tAsymptomatic: 2918\n",
      "\tSymptomatic: 800\n",
      "\tRecovered: 8909\n",
      "\tDead: 9\n",
      "\n",
      "Day 50\n",
      "\tSusceptible: 163229\n",
      "\tExposed: 905\n",
      "\tPresymptomatic: 211\n",
      "\tAsymptomatic: 2914\n",
      "\tSymptomatic: 828\n",
      "\tRecovered: 9364\n",
      "\tDead: 9\n",
      "\n",
      "Day 51\n",
      "\tSusceptible: 162811\n",
      "\tExposed: 860\n",
      "\tPresymptomatic: 221\n",
      "\tAsymptomatic: 2916\n",
      "\tSymptomatic: 841\n",
      "\tRecovered: 9801\n",
      "\tDead: 10\n",
      "\n",
      "Day 52\n",
      "\tSusceptible: 162424\n",
      "\tExposed: 826\n",
      "\tPresymptomatic: 195\n",
      "\tAsymptomatic: 2895\n",
      "\tSymptomatic: 849\n",
      "\tRecovered: 10261\n",
      "\tDead: 10\n",
      "\n",
      "Day 53\n",
      "\tSusceptible: 162030\n",
      "\tExposed: 798\n",
      "\tPresymptomatic: 166\n",
      "\tAsymptomatic: 2850\n",
      "\tSymptomatic: 871\n",
      "\tRecovered: 10735\n",
      "\tDead: 10\n",
      "\n",
      "Day 54\n",
      "\tSusceptible: 161652\n",
      "\tExposed: 772\n",
      "\tPresymptomatic: 163\n",
      "\tAsymptomatic: 2800\n",
      "\tSymptomatic: 837\n",
      "\tRecovered: 11226\n",
      "\tDead: 10\n",
      "\n",
      "Day 55\n",
      "\tSusceptible: 161312\n",
      "\tExposed: 736\n",
      "\tPresymptomatic: 164\n",
      "\tAsymptomatic: 2697\n",
      "\tSymptomatic: 807\n",
      "\tRecovered: 11733\n",
      "\tDead: 11\n",
      "\n",
      "Day 56\n",
      "\tSusceptible: 160997\n",
      "\tExposed: 705\n",
      "\tPresymptomatic: 144\n",
      "\tAsymptomatic: 2605\n",
      "\tSymptomatic: 794\n",
      "\tRecovered: 12204\n",
      "\tDead: 11\n",
      "\n",
      "Day 57\n",
      "\tSusceptible: 160698\n",
      "\tExposed: 645\n",
      "\tPresymptomatic: 139\n",
      "\tAsymptomatic: 2498\n",
      "\tSymptomatic: 780\n",
      "\tRecovered: 12689\n",
      "\tDead: 11\n",
      "\n",
      "Day 58\n",
      "\tSusceptible: 160416\n",
      "\tExposed: 600\n",
      "\tPresymptomatic: 133\n",
      "\tAsymptomatic: 2401\n",
      "\tSymptomatic: 757\n",
      "\tRecovered: 13142\n",
      "\tDead: 11\n",
      "\n",
      "Day 59\n",
      "\tSusceptible: 160146\n",
      "\tExposed: 552\n",
      "\tPresymptomatic: 134\n",
      "\tAsymptomatic: 2292\n",
      "\tSymptomatic: 718\n",
      "\tRecovered: 13607\n",
      "\tDead: 11\n",
      "\n",
      "Day 60\n",
      "\tSusceptible: 159924\n",
      "\tExposed: 521\n",
      "\tPresymptomatic: 108\n",
      "\tAsymptomatic: 2162\n",
      "\tSymptomatic: 689\n",
      "\tRecovered: 14044\n",
      "\tDead: 12\n",
      "\n",
      "Day 61\n",
      "\tSusceptible: 159706\n",
      "\tExposed: 479\n",
      "\tPresymptomatic: 82\n",
      "\tAsymptomatic: 2049\n",
      "\tSymptomatic: 663\n",
      "\tRecovered: 14469\n",
      "\tDead: 12\n",
      "\n",
      "Day 62\n",
      "\tSusceptible: 159519\n",
      "\tExposed: 417\n",
      "\tPresymptomatic: 92\n",
      "\tAsymptomatic: 1933\n",
      "\tSymptomatic: 606\n",
      "\tRecovered: 14881\n",
      "\tDead: 12\n",
      "\n",
      "Day 63\n",
      "\tSusceptible: 159320\n",
      "\tExposed: 414\n",
      "\tPresymptomatic: 91\n",
      "\tAsymptomatic: 1803\n",
      "\tSymptomatic: 572\n",
      "\tRecovered: 15248\n",
      "\tDead: 12\n",
      "\n",
      "Day 64\n",
      "\tSusceptible: 159158\n",
      "\tExposed: 365\n",
      "\tPresymptomatic: 80\n",
      "\tAsymptomatic: 1741\n",
      "\tSymptomatic: 553\n",
      "\tRecovered: 15551\n",
      "\tDead: 12\n",
      "\n",
      "Day 65\n",
      "\tSusceptible: 159006\n",
      "\tExposed: 335\n",
      "\tPresymptomatic: 79\n",
      "\tAsymptomatic: 1619\n",
      "\tSymptomatic: 509\n",
      "\tRecovered: 15900\n",
      "\tDead: 12\n",
      "\n",
      "Day 66\n",
      "\tSusceptible: 158887\n",
      "\tExposed: 280\n",
      "\tPresymptomatic: 86\n",
      "\tAsymptomatic: 1516\n",
      "\tSymptomatic: 465\n",
      "\tRecovered: 16214\n",
      "\tDead: 12\n",
      "\n",
      "Day 67\n",
      "\tSusceptible: 158744\n",
      "\tExposed: 270\n",
      "\tPresymptomatic: 75\n",
      "\tAsymptomatic: 1423\n",
      "\tSymptomatic: 451\n",
      "\tRecovered: 16485\n",
      "\tDead: 12\n",
      "\n",
      "Day 68\n",
      "\tSusceptible: 158631\n",
      "\tExposed: 255\n",
      "\tPresymptomatic: 55\n",
      "\tAsymptomatic: 1295\n",
      "\tSymptomatic: 417\n",
      "\tRecovered: 16795\n",
      "\tDead: 12\n",
      "\n",
      "Day 69\n",
      "\tSusceptible: 158528\n",
      "\tExposed: 225\n",
      "\tPresymptomatic: 48\n",
      "\tAsymptomatic: 1186\n",
      "\tSymptomatic: 376\n",
      "\tRecovered: 17085\n",
      "\tDead: 12\n",
      "\n",
      "Day 70\n",
      "\tSusceptible: 158425\n",
      "\tExposed: 210\n",
      "\tPresymptomatic: 45\n",
      "\tAsymptomatic: 1090\n",
      "\tSymptomatic: 356\n",
      "\tRecovered: 17322\n",
      "\tDead: 12\n",
      "\n",
      "Day 71\n",
      "\tSusceptible: 158330\n",
      "\tExposed: 197\n",
      "\tPresymptomatic: 47\n",
      "\tAsymptomatic: 978\n",
      "\tSymptomatic: 337\n",
      "\tRecovered: 17559\n",
      "\tDead: 12\n",
      "\n",
      "Day 72\n",
      "\tSusceptible: 158250\n",
      "\tExposed: 188\n",
      "\tPresymptomatic: 49\n",
      "\tAsymptomatic: 875\n",
      "\tSymptomatic: 302\n",
      "\tRecovered: 17784\n",
      "\tDead: 12\n",
      "\n",
      "Day 73\n",
      "\tSusceptible: 158191\n",
      "\tExposed: 157\n",
      "\tPresymptomatic: 50\n",
      "\tAsymptomatic: 789\n",
      "\tSymptomatic: 284\n",
      "\tRecovered: 17976\n",
      "\tDead: 13\n",
      "\n",
      "Day 74\n",
      "\tSusceptible: 158135\n",
      "\tExposed: 140\n",
      "\tPresymptomatic: 45\n",
      "\tAsymptomatic: 723\n",
      "\tSymptomatic: 270\n",
      "\tRecovered: 18134\n",
      "\tDead: 13\n",
      "\n",
      "Day 75\n",
      "\tSusceptible: 158077\n",
      "\tExposed: 122\n",
      "\tPresymptomatic: 38\n",
      "\tAsymptomatic: 650\n",
      "\tSymptomatic: 245\n",
      "\tRecovered: 18315\n",
      "\tDead: 13\n",
      "\n",
      "Day 76\n",
      "\tSusceptible: 158028\n",
      "\tExposed: 116\n",
      "\tPresymptomatic: 23\n",
      "\tAsymptomatic: 593\n",
      "\tSymptomatic: 243\n",
      "\tRecovered: 18444\n",
      "\tDead: 13\n",
      "\n",
      "Day 77\n",
      "\tSusceptible: 157995\n",
      "\tExposed: 92\n",
      "\tPresymptomatic: 18\n",
      "\tAsymptomatic: 541\n",
      "\tSymptomatic: 217\n",
      "\tRecovered: 18584\n",
      "\tDead: 13\n",
      "\n",
      "Day 78\n",
      "\tSusceptible: 157960\n",
      "\tExposed: 71\n",
      "\tPresymptomatic: 24\n",
      "\tAsymptomatic: 499\n",
      "\tSymptomatic: 190\n",
      "\tRecovered: 18703\n",
      "\tDead: 13\n",
      "\n",
      "Day 79\n",
      "\tSusceptible: 157906\n",
      "\tExposed: 90\n",
      "\tPresymptomatic: 17\n",
      "\tAsymptomatic: 437\n",
      "\tSymptomatic: 177\n",
      "\tRecovered: 18820\n",
      "\tDead: 13\n",
      "\n",
      "Finished\n"
     ]
    },
    {
     "name": "stderr",
     "output_type": "stream",
     "text": [
      "\n"
     ]
    }
   ],
   "source": [
    "PARAMETERS_FILE = 'config/Rutland_Test.yml' # Reading the parameters file\n",
    "with open(PARAMETERS_FILE, \"r\") as f:\n",
    "    parameters = load(f, Loader=SafeLoader)\n",
    "\n",
    "simulator, snapshot, study_area, iterations = setup_sim(parameters)  #Initial configuration, based on the parameters to run the model\n",
    "summary, final_state = run_headless(simulator, snapshot, iterations, quiet=False, store_detailed_counts=True) #run the model in a headless mode"
   ],
   "metadata": {
    "collapsed": false,
    "pycharm": {
     "name": "#%%\n"
    }
   }
  },
  {
   "cell_type": "markdown",
   "source": [
    "## Run ASPICS using parameters manually defined.\n"
   ],
   "metadata": {
    "collapsed": false,
    "pycharm": {
     "name": "#%% md\n"
    }
   }
  },
  {
   "cell_type": "code",
   "execution_count": null,
   "outputs": [],
   "source": [
    "PARAMETERS_FILE = 'config/Manchester.yml' # Reading the parameters file\n",
    "with open(PARAMETERS_FILE, \"r\") as f:\n",
    "    parameters = load(f, Loader=SafeLoader)"
   ],
   "metadata": {
    "collapsed": false,
    "pycharm": {
     "name": "#%%\n"
    }
   }
  },
  {
   "cell_type": "code",
   "execution_count": null,
   "outputs": [],
   "source": [
    "calibration_params = parameters[\"microsim_calibration\"]\n",
    "disease_params = parameters[\"disease\"]"
   ],
   "metadata": {
    "collapsed": false,
    "pycharm": {
     "name": "#%%\n"
    }
   }
  },
  {
   "cell_type": "code",
   "execution_count": null,
   "outputs": [],
   "source": [
    "params_manual = OpenCLRunner.create_params_manually( parameters_file=PARAMETERS_FILE)"
   ],
   "metadata": {
    "collapsed": false,
    "pycharm": {
     "name": "#%%\n"
    }
   }
  },
  {
   "cell_type": "code",
   "execution_count": 6,
   "outputs": [],
   "source": [
    "REPETITIONS = 5\n",
    "ITERATIONS = 100\n",
    "STUDY_AREA = \"Manchester\"\n",
    "OUTPUT = True\n",
    "OUTPUT_EVERY_ITERATION = False\n",
    "USE_LOCKDOWN = False\n",
    "START_DATE = 10\n",
    "#OBSERVATIONS IS DECLARED IN THE PREVIOUS CELL\n",
    "USE_GPU = True\n",
    "USE_HEALTHIER_POP = True\n",
    "STORE_DETAILED_COUNTS = True\n",
    "#PARAMETERS file IS DECLARED IN THE PREVIOUS CELL\n",
    "\n",
    "assert ITERATIONS < len(OBSERVATIONS), \\\n",
    "    f\"Have more iterations ({ITERATIONS}) than observations ({len(OBSERVATIONS)}).\""
   ],
   "metadata": {
    "collapsed": false,
    "pycharm": {
     "name": "#%%\n"
    }
   }
  },
  {
   "cell_type": "code",
   "execution_count": 7,
   "outputs": [],
   "source": [
    "OpenCLRunner.init(\n",
    "    iterations = ITERATIONS,\n",
    "    repetitions = REPETITIONS,\n",
    "    study_area= STUDY_AREA,\n",
    "    output=OUTPUT,\n",
    "    output_every_iteration=OUTPUT_EVERY_ITERATION,\n",
    "    use_lockdown=False,\n",
    "    start_date=START_DATE,\n",
    "    observations = OBSERVATIONS,\n",
    "    use_gpu = USE_GPU,\n",
    "    store_detailed_counts = STORE_DETAILED_COUNTS,\n",
    "    parameters_file = PARAMETERS_FILE,\n",
    "    use_healthier_pop = True\n",
    ")"
   ],
   "metadata": {
    "collapsed": false,
    "pycharm": {
     "name": "#%%\n"
    }
   }
  },
  {
   "cell_type": "code",
   "execution_count": 8,
   "outputs": [],
   "source": [
    "OpenCLRunner.update(repetitions=10)  # Temporarily use more repetitions to give a good baseline, initially suggested as 10\n",
    "OpenCLRunner.update(store_detailed_counts=True)"
   ],
   "metadata": {
    "collapsed": false,
    "pycharm": {
     "name": "#%%\n"
    }
   }
  },
  {
   "cell_type": "code",
   "execution_count": 9,
   "outputs": [
    {
     "name": "stdout",
     "output_type": "stream",
     "text": [
      "Creating parameters manually based on values from Notebook\n"
     ]
    },
    {
     "name": "stderr",
     "output_type": "stream",
     "text": [
      "Running models:   0%|          | 0/10 [00:00<?, ?it/s]"
     ]
    },
    {
     "name": "stdout",
     "output_type": "stream",
     "text": [
      "Running a simulation  {17998}  based on the study area\n",
      "Loading snapshot from data/snapshots/Manchester/cache.npz\n",
      "Snapshot is 42 MB\n",
      "testing obesity arrays not equal\n",
      "0.4180040572523386\n",
      "0.3205060295277809\n"
     ]
    },
    {
     "name": "stderr",
     "output_type": "stream",
     "text": [
      "/Users/fbenitez/opt/anaconda3/envs/aspics/lib/python3.8/site-packages/pyopencl/__init__.py:266: CompilerWarning: Non-empty compiler output encountered. Set the environment variable PYOPENCL_COMPILER_OUTPUT=1 to see more.\n",
      "  warn(\"Non-empty compiler output encountered. Set the \"\n"
     ]
    },
    {
     "name": "stdout",
     "output_type": "stream",
     "text": [
      "Running simulation 17999.\n"
     ]
    },
    {
     "name": "stderr",
     "output_type": "stream",
     "text": [
      "Running models:  10%|█         | 1/10 [00:05<00:50,  5.65s/it]/Users/fbenitez/opt/anaconda3/envs/aspics/lib/python3.8/site-packages/pyopencl/__init__.py:266: CompilerWarning: Non-empty compiler output encountered. Set the environment variable PYOPENCL_COMPILER_OUTPUT=1 to see more.\n",
      "  warn(\"Non-empty compiler output encountered. Set the \"\n"
     ]
    },
    {
     "name": "stdout",
     "output_type": "stream",
     "text": [
      "Running a simulation  {46378}  based on the study area\n",
      "Loading snapshot from data/snapshots/Manchester/cache.npz\n",
      "Snapshot is 42 MB\n",
      "testing obesity arrays not equal\n",
      "0.4180040572523386\n",
      "0.3205060295277809\n",
      "Running simulation 46379.\n"
     ]
    },
    {
     "name": "stderr",
     "output_type": "stream",
     "text": [
      "Running models:  20%|██        | 2/10 [00:11<00:43,  5.48s/it]/Users/fbenitez/opt/anaconda3/envs/aspics/lib/python3.8/site-packages/pyopencl/__init__.py:266: CompilerWarning: Non-empty compiler output encountered. Set the environment variable PYOPENCL_COMPILER_OUTPUT=1 to see more.\n",
      "  warn(\"Non-empty compiler output encountered. Set the \"\n"
     ]
    },
    {
     "name": "stdout",
     "output_type": "stream",
     "text": [
      "Running a simulation  {42699}  based on the study area\n",
      "Loading snapshot from data/snapshots/Manchester/cache.npz\n",
      "Snapshot is 42 MB\n",
      "testing obesity arrays not equal\n",
      "0.4180040572523386\n",
      "0.3205060295277809\n",
      "Running simulation 42700.\n"
     ]
    },
    {
     "name": "stderr",
     "output_type": "stream",
     "text": [
      "Running models:  30%|███       | 3/10 [00:16<00:38,  5.49s/it]/Users/fbenitez/opt/anaconda3/envs/aspics/lib/python3.8/site-packages/pyopencl/__init__.py:266: CompilerWarning: Non-empty compiler output encountered. Set the environment variable PYOPENCL_COMPILER_OUTPUT=1 to see more.\n",
      "  warn(\"Non-empty compiler output encountered. Set the \"\n"
     ]
    },
    {
     "name": "stdout",
     "output_type": "stream",
     "text": [
      "Running a simulation  {71509}  based on the study area\n",
      "Loading snapshot from data/snapshots/Manchester/cache.npz\n",
      "Snapshot is 42 MB\n",
      "testing obesity arrays not equal\n",
      "0.4180040572523386\n",
      "0.3205060295277809\n",
      "Running simulation 71510.\n"
     ]
    },
    {
     "name": "stderr",
     "output_type": "stream",
     "text": [
      "Running models:  40%|████      | 4/10 [00:21<00:32,  5.44s/it]/Users/fbenitez/opt/anaconda3/envs/aspics/lib/python3.8/site-packages/pyopencl/__init__.py:266: CompilerWarning: Non-empty compiler output encountered. Set the environment variable PYOPENCL_COMPILER_OUTPUT=1 to see more.\n",
      "  warn(\"Non-empty compiler output encountered. Set the \"\n"
     ]
    },
    {
     "name": "stdout",
     "output_type": "stream",
     "text": [
      "Running a simulation  {43449}  based on the study area\n",
      "Loading snapshot from data/snapshots/Manchester/cache.npz\n",
      "Snapshot is 42 MB\n",
      "testing obesity arrays not equal\n",
      "0.4180040572523386\n",
      "0.3205060295277809\n",
      "Running simulation 43450.\n"
     ]
    },
    {
     "name": "stderr",
     "output_type": "stream",
     "text": [
      "Running models:  50%|█████     | 5/10 [00:27<00:26,  5.39s/it]/Users/fbenitez/opt/anaconda3/envs/aspics/lib/python3.8/site-packages/pyopencl/__init__.py:266: CompilerWarning: Non-empty compiler output encountered. Set the environment variable PYOPENCL_COMPILER_OUTPUT=1 to see more.\n",
      "  warn(\"Non-empty compiler output encountered. Set the \"\n"
     ]
    },
    {
     "name": "stdout",
     "output_type": "stream",
     "text": [
      "Running a simulation  {46433}  based on the study area\n",
      "Loading snapshot from data/snapshots/Manchester/cache.npz\n",
      "Snapshot is 42 MB\n",
      "testing obesity arrays not equal\n",
      "0.4180040572523386\n",
      "0.3205060295277809\n",
      "Running simulation 46434.\n"
     ]
    },
    {
     "name": "stderr",
     "output_type": "stream",
     "text": [
      "Running models:  60%|██████    | 6/10 [00:32<00:21,  5.46s/it]/Users/fbenitez/opt/anaconda3/envs/aspics/lib/python3.8/site-packages/pyopencl/__init__.py:266: CompilerWarning: Non-empty compiler output encountered. Set the environment variable PYOPENCL_COMPILER_OUTPUT=1 to see more.\n",
      "  warn(\"Non-empty compiler output encountered. Set the \"\n"
     ]
    },
    {
     "name": "stdout",
     "output_type": "stream",
     "text": [
      "Running a simulation  {43129}  based on the study area\n",
      "Loading snapshot from data/snapshots/Manchester/cache.npz\n",
      "Snapshot is 42 MB\n",
      "testing obesity arrays not equal\n",
      "0.4180040572523386\n",
      "0.3205060295277809\n",
      "Running simulation 43130.\n"
     ]
    },
    {
     "name": "stderr",
     "output_type": "stream",
     "text": [
      "Running models:  70%|███████   | 7/10 [00:37<00:16,  5.34s/it]/Users/fbenitez/opt/anaconda3/envs/aspics/lib/python3.8/site-packages/pyopencl/__init__.py:266: CompilerWarning: Non-empty compiler output encountered. Set the environment variable PYOPENCL_COMPILER_OUTPUT=1 to see more.\n",
      "  warn(\"Non-empty compiler output encountered. Set the \"\n"
     ]
    },
    {
     "name": "stdout",
     "output_type": "stream",
     "text": [
      "Running a simulation  {59255}  based on the study area\n",
      "Loading snapshot from data/snapshots/Manchester/cache.npz\n",
      "Snapshot is 42 MB\n",
      "testing obesity arrays not equal\n",
      "0.4180040572523386\n",
      "0.3205060295277809\n",
      "Running simulation 59256.\n"
     ]
    },
    {
     "name": "stderr",
     "output_type": "stream",
     "text": [
      "Running models:  80%|████████  | 8/10 [00:43<00:10,  5.30s/it]/Users/fbenitez/opt/anaconda3/envs/aspics/lib/python3.8/site-packages/pyopencl/__init__.py:266: CompilerWarning: Non-empty compiler output encountered. Set the environment variable PYOPENCL_COMPILER_OUTPUT=1 to see more.\n",
      "  warn(\"Non-empty compiler output encountered. Set the \"\n"
     ]
    },
    {
     "name": "stdout",
     "output_type": "stream",
     "text": [
      "Running a simulation  {93981}  based on the study area\n",
      "Loading snapshot from data/snapshots/Manchester/cache.npz\n",
      "Snapshot is 42 MB\n",
      "testing obesity arrays not equal\n",
      "0.4180040572523386\n",
      "0.3205060295277809\n",
      "Running simulation 93982.\n"
     ]
    },
    {
     "name": "stderr",
     "output_type": "stream",
     "text": [
      "Running models:  90%|█████████ | 9/10 [00:48<00:05,  5.33s/it]/Users/fbenitez/opt/anaconda3/envs/aspics/lib/python3.8/site-packages/pyopencl/__init__.py:266: CompilerWarning: Non-empty compiler output encountered. Set the environment variable PYOPENCL_COMPILER_OUTPUT=1 to see more.\n",
      "  warn(\"Non-empty compiler output encountered. Set the \"\n"
     ]
    },
    {
     "name": "stdout",
     "output_type": "stream",
     "text": [
      "Running a simulation  {95225}  based on the study area\n",
      "Loading snapshot from data/snapshots/Manchester/cache.npz\n",
      "Snapshot is 42 MB\n",
      "testing obesity arrays not equal\n",
      "0.4180040572523386\n",
      "0.3205060295277809\n",
      "Running simulation 95226.\n"
     ]
    },
    {
     "name": "stderr",
     "output_type": "stream",
     "text": [
      "Running models: 100%|██████████| 10/10 [00:53<00:00,  5.37s/it]"
     ]
    },
    {
     "name": "stdout",
     "output_type": "stream",
     "text": [
      ".. finished, took 53.71s)\n",
      "Ran Model with {}\n"
     ]
    },
    {
     "name": "stderr",
     "output_type": "stream",
     "text": [
      "\n"
     ]
    }
   ],
   "source": [
    "(fitness0, sim0, obs0, out_params0, summaries0) = OpenCLRunner.run_aspics_with_params_abc({}, return_full_details=True)"
   ],
   "metadata": {
    "collapsed": false,
    "pycharm": {
     "name": "#%%\n"
    }
   }
  },
  {
   "cell_type": "code",
   "execution_count": 10,
   "id": "ac39dc7a",
   "metadata": {
    "pycharm": {
     "name": "#%%\n"
    }
   },
   "outputs": [
    {
     "name": "stdout",
     "output_type": "stream",
     "text": [
      "fitness: 80001.59260083514\n"
     ]
    },
    {
     "data": {
      "text/plain": "<matplotlib.legend.Legend at 0x7fa569435c70>"
     },
     "execution_count": 10,
     "metadata": {},
     "output_type": "execute_result"
    },
    {
     "data": {
      "text/plain": "<Figure size 432x288 with 1 Axes>",
      "image/png": "[encoded data removed]"
     },
     "metadata": {
      "needs_background": "light"
     },
     "output_type": "display_data"
    }
   ],
   "source": [
    "OpenCLRunner.update(repetitions=REPETITIONS)\n",
    "OpenCLRunner.update(store_detailed_counts=STORE_DETAILED_COUNTS)\n",
    "\n",
    "# Check the model returns the observations correctly\n",
    "np.array_equal(obs0, OBSERVATIONS.loc[:len(sim0)-1,\"Cases\"])\n",
    "\n",
    "# Print the fitness and plot the different disease counts\n",
    "print(f\"fitness: {fitness0}\")\n",
    "#print(pd.DataFrame({\"sim\":sim, \"real_obs1\":obs}))\n",
    "\n",
    "fig, ax = plt.subplots(1,1)\n",
    "x = range(len(sim0))\n",
    "ax.plot(x, OpenCLRunner.get_cumulative_new_infections(summaries0), label=\"sim\", color=\"orange\")\n",
    "ax.plot(x, obs0, label=\"obs\", color=\"blue\")\n",
    "ax.legend()"
   ]
  },
  {
   "cell_type": "code",
   "execution_count": 11,
   "outputs": [],
   "source": [
    "def plot_summaries(summaries, observations=None, plot_type=\"error_bars\"):\n",
    "\n",
    "    #fig, ax = plt.subplots(1, len(DiseaseStatus), sharey=True)\n",
    "    fig, ax = plt.subplots(1, 1, figsize=(10,7))\n",
    "\n",
    "    # Work out the number of repetitions and iterations\n",
    "    iters, reps = _get_iters_and_reps(summaries)\n",
    "    x = range(iters)\n",
    "    total_not_susceptible = np.zeros(iters)  # Used to compare to observations\n",
    "\n",
    "    for d, disease_status in enumerate(DiseaseStatus):\n",
    "\n",
    "        # Calculate the mean and standard deviation\n",
    "        mean, sd = OpenCLRunner.get_mean_total_counts(summaries, d, get_sd=True)\n",
    "\n",
    "        # Don't plot susceptible or recovered as it hides everytihng else\n",
    "        if disease_status==DiseaseStatus.Susceptible or disease_status==DiseaseStatus.Recovered:\n",
    "            continue\n",
    "\n",
    "        if plot_type == \"error_bars\":\n",
    "            ax.errorbar(x, mean, sd, label=f\"{disease_status}\" )\n",
    "        elif plot_type == \"lines\":\n",
    "            for rep in range(reps):\n",
    "                ax.plot(x, matrix[rep], label=f\"{disease_status} {rep}\",\n",
    "                        color=plt.cm.get_cmap(\"hsv\", len(DiseaseStatus))(d) )\n",
    "\n",
    "    if observations is not None:\n",
    "        # Plot the observations (cumulative infections)\n",
    "        ax.plot(x, observations.loc[:len(x)-1, \"Cases\"],\n",
    "                label=f\"Observations (cumulative cases)\", color=\"black\", linestyle=\"dashed\")\n",
    "        # And the total new infections, for comparison\n",
    "        ax.plot(x, OpenCLRunner.get_cumulative_new_infections(summaries),\n",
    "               label=f\"Total not susceptible \", color=\"grey\", linestyle=\"dashed\")\n",
    "\n",
    "\n",
    "    ax.legend()\n",
    "    ax.set_title(\"Disease Status\")\n",
    "    ax.set_xlabel(\"Iteration\")\n",
    "    ax.set_ylabel(\"Number of cases\")\n",
    "    #ax.set_ylim(0, 5000)\n",
    "    #ax.set_xlim(0,30)\n",
    "\n",
    "def _get_iters_and_reps(summaries):\n",
    "    reps = len(summaries)\n",
    "    iters = len(summaries[0].total_counts[0])\n",
    "    return (iters, reps)"
   ],
   "metadata": {
    "collapsed": false,
    "pycharm": {
     "name": "#%%\n"
    }
   }
  },
  {
   "cell_type": "code",
   "execution_count": 12,
   "outputs": [
    {
     "data": {
      "text/plain": "<Figure size 720x504 with 1 Axes>",
      "image/png": "[encoded data removed]"
     },
     "metadata": {
      "needs_background": "light"
     },
     "output_type": "display_data"
    }
   ],
   "source": [
    "plot_summaries(summaries=summaries0, observations=OBSERVATIONS, plot_type=\"error_bars\")"
   ],
   "metadata": {
    "collapsed": false,
    "pycharm": {
     "name": "#%%\n"
    }
   }
  },
  {
   "cell_type": "code",
   "execution_count": 13,
   "outputs": [],
   "source": [
    "def plot_disease_status_by_age(summaries):\n",
    "\n",
    "    #fig, ax = plt.subplots(1, len(DiseaseStatus), sharey=True)\n",
    "    fig, ax = plt.subplots(int(len(DiseaseStatus)/2), int(len(DiseaseStatus)/2),\n",
    "                           figsize=(15,11), tight_layout=True)\n",
    "    iters, reps = _get_iters_and_reps(summaries)\n",
    "    x = range(iters)\n",
    "    age_thresholds = summaries[0].age_thresholds\n",
    "\n",
    "    for d, disease_status in enumerate(DiseaseStatus):\n",
    "        lower_age_bound = 0\n",
    "        for age_idx in range(len(age_thresholds)):\n",
    "            matrix = np.zeros(shape=(reps, iters))\n",
    "            for rep in range(reps):\n",
    "                #matrix[age_idx][rep][it] = summaries[rep].age_counts[str(disease_status)][age_idx][it]\n",
    "                matrix[rep] = summaries[rep].age_counts[str(disease_status)][age_idx]\n",
    "            mean = np.mean(matrix, axis=0)\n",
    "            sd = np.std(matrix, axis=0)\n",
    "            ax.flat[d].errorbar(x, mean, sd, label=f\"{lower_age_bound} - {age_thresholds[age_idx]}\" )\n",
    "            lower_age_bound = age_thresholds[age_idx]\n",
    "\n",
    "            ax.flat[d].legend()\n",
    "            ax.flat[d].set_title(f\"{str(disease_status)}\")\n",
    "            ax.flat[d].set_xlabel(\"Iteration\")\n",
    "            ax.flat[d].set_ylabel(\"Number of cases\")\n",
    "    #fig.set_title(f\"Num {disease_status} people by age group\")"
   ],
   "metadata": {
    "collapsed": false,
    "pycharm": {
     "name": "#%%\n"
    }
   }
  },
  {
   "cell_type": "code",
   "execution_count": 14,
   "outputs": [
    {
     "data": {
      "text/plain": "<Figure size 1080x792 with 9 Axes>",
      "image/png": "[encoded data removed]"
     },
     "metadata": {
      "needs_background": "light"
     },
     "output_type": "display_data"
    }
   ],
   "source": [
    "plot_disease_status_by_age(summaries0)"
   ],
   "metadata": {
    "collapsed": false,
    "pycharm": {
     "name": "#%%\n"
    }
   }
  },
  {
   "cell_type": "markdown",
   "source": [
    "# ABC"
   ],
   "metadata": {
    "collapsed": false,
    "pycharm": {
     "name": "#%% md\n"
    }
   }
  },
  {
   "cell_type": "code",
   "execution_count": null,
   "outputs": [],
   "source": [
    "import pyabc\n",
    "from pygam import LinearGAM  # For graphing posteriors\n",
    "from pyabc.transition.multivariatenormal import MultivariateNormalTransition  # For drawing from the posterior\n",
    "import pickle"
   ],
   "metadata": {
    "collapsed": false,
    "pycharm": {
     "name": "#%%\n"
    }
   }
  },
  {
   "cell_type": "code",
   "execution_count": null,
   "outputs": [],
   "source": [
    "import itertools"
   ],
   "metadata": {
    "collapsed": false,
    "pycharm": {
     "name": "#%%\n"
    }
   }
  },
  {
   "cell_type": "code",
   "execution_count": null,
   "outputs": [],
   "source": [
    "def distance(sim,obs):\n",
    "    fit = OpenCLRunner.fit_l2(sim[\"data\"],obs[\"data\"])\n",
    "    print(fit)\n",
    "    return fit"
   ],
   "metadata": {
    "collapsed": false,
    "pycharm": {
     "name": "#%%\n"
    }
   }
  },
  {
   "cell_type": "code",
   "execution_count": null,
   "outputs": [],
   "source": [
    "# The following should all be constant (overriding whatever is in the default.yml parameters file)\n",
    "OpenCLRunner.set_constants( {\"home\": 1.0 })\n",
    "# FYI this is how to represent with discrete discributions and one possible value\n",
    "# https://pyabc.readthedocs.io/en/latest/api_random_variables.html#\n",
    "current_risk_beta_rv = current_risk_beta_rv = pyabc.RV(\"norm\", 0.1, 0.155)\n",
    "\n",
    "# School and retail are all uniform between 0-1\n",
    "retail_rv, primary_school_rv, secondary_school_rv = ( pyabc.RV(\"uniform\", 0, 1) for _ in range(3)  )\n",
    "# Work needs some dampening because we know that workplaces are too big in the current implementation\n",
    "work_rv = pyabc.RV(\"beta\", 0.1, 2)\n",
    "\n",
    "# Individual multipliers (see justification at the start of this notebook).\n",
    "# Asymptomatic is normal such that the middle 95% is the range [0.138, 0.75]\n",
    "symptomatic_rv = (pyabc.RV(\"norm\", 0.444, 0.155) for _ in range(3))\n",
    "\n",
    "# Group all random variables together and give them a string name (this is needed for the distribution later)\n",
    "all_rv = { \"retail\": retail_rv, \"primary_school\": primary_school_rv, \"secondary_school\": secondary_school_rv, \"work\": work_rv,\n",
    "           \"symptomatic\": symptomatic_rv,\n",
    "           \"current_risk_beta\":current_risk_beta_rv}\n",
    "\n",
    "fig, axes = plt.subplots(3, 2, figsize=(12,8), sharex=True, sharey=True)\n",
    "x = np.linspace(0,2,49)  # (specified so that we have some whole numbers)\n",
    "marker = itertools.cycle((',', '+', '.', 'o', '*'))\n",
    "for i, variable in enumerate([retail_rv, primary_school_rv, secondary_school_rv, work_rv,\n",
    "                              ]):\n",
    "    var_name = [ k for k,v in locals().items() if v is variable][0]  # Hack to get the name of the variable\n",
    "    ax = axes.flatten()[i]\n",
    "    #ax.plot(x, pyabc.Distribution(param=variable).pdf({\"param\": x}), label = var_name, marker=next(marker), ms=3)\n",
    "    ax.plot(x, pyabc.Distribution(param=variable).pdf({\"param\": x}))\n",
    "    ax.set_title(var_name)\n",
    "    ax.axvline(x=1.0, ls='--', color=\"grey\", label=\"x=1\")\n",
    "\n",
    "#ax.legend()\n",
    "fig.suptitle(\"Priors\")\n",
    "fig.tight_layout()"
   ],
   "metadata": {
    "collapsed": false,
    "pycharm": {
     "name": "#%%\n"
    }
   }
  },
  {
   "cell_type": "code",
   "execution_count": null,
   "outputs": [],
   "source": [
    "# Most priors can be passed straight to the distribution, except for 'asymptomatic' because it's normal\n",
    "# so needs to be decorated to stay above 0\n",
    "priors = pyabc.Distribution(\n",
    "    #home = home_rv,\n",
    "    retail = retail_rv,\n",
    "    primary_school = primary_school_rv,\n",
    "    secondary_school = secondary_school_rv,\n",
    "    work = work_rv,\n",
    "    #presymptomatic = presymptomatic_rv,\n",
    "    #symptomatic = symptomatic_rv,\n",
    "    asymptomatic = pyabc.LowerBoundDecorator(asymptomatic_rv, 0.0),\n",
    "    #current_risk_beta = current_risk_beta_rv\n",
    ")"
   ],
   "metadata": {
    "collapsed": false,
    "pycharm": {
     "name": "#%%\n"
    }
   }
  },
  {
   "cell_type": "code",
   "execution_count": null,
   "outputs": [],
   "source": [
    "abc = pyabc.ABCSMC(\n",
    "    models=OpenCLRunner.run_aspics_with_params_abc, # Model (could be a list)\n",
    "    parameter_priors=priors, # Priors (could be a list)\n",
    "    distance_function=distance,  # Distance function\n",
    "    sampler = pyabc.sampler.SingleCoreSampler()  # Single core because the model is parallelised\n",
    "    #transition=transition,  # Define how to transition from one population to the next\n",
    ")"
   ],
   "metadata": {
    "collapsed": false,
    "pycharm": {
     "name": "#%%\n"
    }
   }
  },
  {
   "cell_type": "code",
   "execution_count": null,
   "outputs": [],
   "source": [
    "y_observed = OBSERVATIONS.loc[:ITERATIONS-1, \"Cases\"].values"
   ],
   "metadata": {
    "collapsed": false,
    "pycharm": {
     "name": "#%%\n"
    }
   }
  },
  {
   "cell_type": "code",
   "execution_count": null,
   "outputs": [],
   "source": [
    "os.getcwd()"
   ],
   "metadata": {
    "collapsed": false,
    "pycharm": {
     "name": "#%%\n"
    }
   }
  },
  {
   "cell_type": "code",
   "execution_count": null,
   "outputs": [],
   "source": [
    "db_path = (\"sqlite:///\" + os.path.join(\".\", \"abc-manchester.db\"))"
   ],
   "metadata": {
    "collapsed": false,
    "pycharm": {
     "name": "#%%\n"
    }
   }
  },
  {
   "cell_type": "code",
   "execution_count": null,
   "outputs": [],
   "source": [
    "run_id = abc.new(db_path, {\"data\": y_observed})  # (ID only matters if multiple runs stored is same DB)"
   ],
   "metadata": {
    "collapsed": false,
    "pycharm": {
     "name": "#%%\n"
    }
   }
  },
  {
   "cell_type": "code",
   "execution_count": null,
   "outputs": [],
   "source": [
    "LOAD_PICKLES = True\n",
    "history = None\n",
    "fname = \"abc-manchester.pkl\"\n",
    "\n",
    "if LOAD_PICKLES and os.path.isfile(fname):\n",
    "    with open( fname, \"rb\" ) as f:\n",
    "        history = pickle.load(f)\n",
    "else:\n",
    "    history = abc.run(max_nr_populations=2)\n",
    "    # The history object only works if it has the associated database too ('abc-1.db')\n",
    "    with open( fname, \"wb\" ) as f:\n",
    "        pickle.dump( history, f)"
   ],
   "metadata": {
    "collapsed": false,
    "pycharm": {
     "name": "#%%\n"
    }
   }
  },
  {
   "cell_type": "code",
   "execution_count": null,
   "outputs": [],
   "source": [
    "fig, ax = plt.subplots()\n",
    "\n",
    "for t in range(history.max_t + 1):\n",
    "    df, w = history.get_distribution(m=0, t=t)\n",
    "    pyabc.visualization.plot_kde_1d(df, w,x=\"asymptomatic\", ax=ax,label=\"PDF t={}\".format(t))\n",
    "#ax.axvline(y_observed, color=\"k\", linestyle=\"dashed\");\n",
    "ax.axvline(x=0.53, color=\"grey\", linestyle=\"dashed\");\n",
    "ax.legend()"
   ],
   "metadata": {
    "collapsed": false,
    "pycharm": {
     "name": "#%%\n"
    }
   }
  },
  {
   "cell_type": "code",
   "execution_count": null,
   "outputs": [],
   "source": [
    "_, arr_ax = plt.subplots(2, 2)\n",
    "\n",
    "pyabc.visualization.plot_sample_numbers(history, ax=arr_ax[0][0])\n",
    "pyabc.visualization.plot_epsilons(history, ax=arr_ax[0][1])\n",
    "#pyabc.visualization.plot_credible_intervals(\n",
    "#    history, levels=[0.95, 0.9, 0.5], ts=[0, 1, 2, 3, 4],\n",
    "#    show_mean=True, show_kde_max_1d=True,\n",
    "#    refval={'mean': 2.5},\n",
    "#    arr_ax=arr_ax[1][0])\n",
    "pyabc.visualization.plot_effective_sample_sizes(history, ax=arr_ax[1][1])\n",
    "\n",
    "plt.gcf().set_size_inches((12, 8))\n",
    "plt.gcf().tight_layout()"
   ],
   "metadata": {
    "collapsed": false,
    "pycharm": {
     "name": "#%%\n"
    }
   }
  },
  {
   "cell_type": "code",
   "execution_count": null,
   "outputs": [],
   "source": [
    "fig, axes = plt.subplots(3,int(len(priors)/2), figsize=(12,10))\n",
    "\n",
    "#cmap = { 0:'k',1:'b',2:'y',3:'g',4:'r' }  # Do this automatically for len(params)\n",
    "\n",
    "for i, param in enumerate(priors.keys()):\n",
    "    ax = axes.flat[i]\n",
    "    for t in range(history.max_t + 1):\n",
    "        df, w = history.get_distribution(m=0, t=t)\n",
    "        pyabc.visualization.plot_kde_1d(df, w, x=param, ax=ax,\n",
    "                                        label=f\"{param} PDF t={t}\",\n",
    "                                        alpha=1.0 if t==0 else float(t)/history.max_t, # Make earlier populations transparent\n",
    "                                        color= \"black\" if t==history.max_t else None # Make the last one black\n",
    "                                        )\n",
    "        if param!=\"work\":\n",
    "            ax.set_xlim(0,1)\n",
    "        ax.legend(fontsize=\"small\")\n",
    "        #ax.axvline(x=posterior_df.loc[1,param], color=\"grey\", linestyle=\"dashed\")\n",
    "        #ax.set_title(f\"{param}: {posterior_df.loc[0,param]}\")\n",
    "        ax.set_title(f\"{param}\")\n",
    "fig.tight_layout()"
   ],
   "metadata": {
    "collapsed": false,
    "pycharm": {
     "name": "#%%\n"
    }
   }
  },
  {
   "cell_type": "code",
   "execution_count": null,
   "outputs": [],
   "source": [
    "# As above but only show two parameters (for a Turing presentation)\n",
    "fig, axes = plt.subplots(1,2, figsize=(12,6))\n",
    "\n",
    "#cmap = { 0:'k',1:'b',2:'y',3:'g',4:'r' }  # Do this automatically for len(params)\n",
    "\n",
    "for i, param in enumerate(['primary_school', 'asymptomatic']):\n",
    "    ax = axes.flat[i]\n",
    "    t = history.max_t\n",
    "    df, w = history.get_distribution(m=0, t=t)\n",
    "    pyabc.visualization.plot_kde_1d(df, w, x=param, ax=ax,\n",
    "                                    label=f\"{param} PDF t={t}\",\n",
    "                                    alpha=1.0 if t==0 else float(t)/history.max_t, # Make earlier populations transparent\n",
    "                                    color= \"black\" if t==history.max_t else None # Make the last one black\n",
    "                                    )\n",
    "    if param!=\"work\":\n",
    "        ax.set_xlim(0,1)\n",
    "    ax.legend(fontsize=\"small\")\n",
    "    ax.set_title(f\"{param}\")\n",
    "fig.tight_layout()"
   ],
   "metadata": {
    "collapsed": false,
    "pycharm": {
     "name": "#%%\n"
    }
   }
  },
  {
   "cell_type": "code",
   "execution_count": null,
   "outputs": [],
   "source": [
    "fig, axes = plt.subplots(3,int(history.max_t/2), figsize=(10,8))\n",
    "for t in range(history.max_t + 1):\n",
    "   ax = axes.flat[t]\n",
    "   for i, param in enumerate(priors.keys()):\n",
    "       df, w = history.get_distribution(m=0, t=t)\n",
    "       pyabc.visualization.plot_kde_1d(df, w, x=param, ax=ax,\n",
    "           label=f\"{param}\")\n",
    "   ax.legend()\n",
    "   ax.set_title(f\"t={t}\")\n",
    "fig.tight_layout()"
   ],
   "metadata": {
    "collapsed": false,
    "pycharm": {
     "name": "#%%\n"
    }
   }
  },
  {
   "cell_type": "code",
   "execution_count": null,
   "outputs": [],
   "source": [
    "pyabc.visualization.plot_histogram_matrix(history, size=(12,10))"
   ],
   "metadata": {
    "collapsed": false,
    "pycharm": {
     "name": "#%%\n"
    }
   }
  },
  {
   "cell_type": "markdown",
   "source": [
    "# Posterior"
   ],
   "metadata": {
    "collapsed": false,
    "pycharm": {
     "name": "#%% md\n"
    }
   }
  },
  {
   "cell_type": "code",
   "execution_count": null,
   "outputs": [],
   "source": [
    "_df, _w = history.get_distribution(m=0, t=history.max_t)\n",
    "# Merge dataframe and weights and sort by weight (highest weight at the top)\n",
    "_df['weight'] = _w\n",
    "posterior_df = _df.sort_values('weight', ascending=False).reset_index()\n",
    "posterior_df"
   ],
   "metadata": {
    "collapsed": false,
    "pycharm": {
     "name": "#%%\n"
    }
   }
  },
  {
   "cell_type": "code",
   "execution_count": null,
   "outputs": [],
   "source": [
    "N_samples = 50\n",
    "df, w = history.get_distribution(m=0, t=history.max_t)\n",
    "\n",
    "# Sample from the dataframe of posteriors using KDE\n",
    "kde = MultivariateNormalTransition(scaling=1)\n",
    "kde.fit(df, w)\n",
    "samples = kde.rvs(N_samples)\n",
    "\n",
    "## Instead sample just using the weights (this isn't the best way to do it though, should use KDE)\n",
    "#df = df.reset_index()  # So that the row index is 0-N (currently it's something else)\n",
    "#sample_idx = np.random.choice(\n",
    "#            a=range(history.get_nr_particles_per_population().values[-1]),\n",
    "#            size=N_samples, replace=True, p=w)\n",
    "#samples = df.iloc[sample_idx]\n",
    "\n",
    "# Now run N models and store the results of each one\n",
    "fitness_l = []  # Fitness values for each sample (model)\n",
    "sim_l = []  # The full simulation results\n",
    "obs_l = []  # Observations (should be the same for each sample)\n",
    "out_params_l = []  # The parameters objects used in each sample (all parameters in the model)\n",
    "out_calibrated_params_l = []  # The values of the specific calibrated parameters for the sample\n",
    "summaries_l = []  # The summaries objects\n",
    "\n",
    "negative_count = 0  # Count the number of negatives returned in the KDE posterior\n",
    "for i, sample in samples.iterrows():\n",
    "\n",
    "    # Check for negatives. If needed, resample\n",
    "    while (sample < 0).values.any():\n",
    "        print(\"Found negatives. Resampling\")\n",
    "        negative_count += 1\n",
    "        sample = kde.rvs()\n",
    "\n",
    "    # Create a dictionary with the parameters and their values for this sample\n",
    "    param_values = { param:sample[str(param)] for param in priors}\n",
    "\n",
    "    # Run the model\n",
    "    (_fitness, _sim, _obs, _out_params, _summaries) = \\\n",
    "          OpenCLRunner.run_aspics_with_params_abc(param_values, return_full_details=True)\n",
    "    print(f\"Fitness: {_fitness}.\")\n",
    "    #print(f\"Fitness: {_fitness}. Sample: {sample}\")\n",
    "\n",
    "    fitness_l.append(_fitness)\n",
    "    sim_l.append(_sim)\n",
    "    obs_l.append(_obs)\n",
    "    out_params_l.append(_out_params)\n",
    "    out_calibrated_params_l.append(param_values)\n",
    "    summaries_l.append(_summaries)\n",
    "\n",
    "print(f\"Finished sampling. Ignored {negative_count} negative samples.\")\n",
    "\n",
    "# Sanity check\n",
    "for i in range(len(obs_l)-1):\n",
    "    assert np.array_equal(obs_l[0], obs_l[i])\n",
    "\n",
    "\n",
    "# Save these because it took ages to sample\n",
    "def pickle_samples(mode, *arrays):\n",
    "    if mode==\"save\":\n",
    "        with open(\"abc-2-samples.pkl\", \"wb\") as f:\n",
    "            for x in arrays:\n",
    "                pickle.dump(x, f)\n",
    "        return\n",
    "    elif mode==\"load\":\n",
    "        with open(\"abc-2-samples.pkl\", \"rb\") as f:\n",
    "            fitness_l = pickle.load(f)\n",
    "            sim_l = pickle.load(f)\n",
    "            obs_l = pickle.load(f)\n",
    "            out_params_l = pickle.load(f)\n",
    "            out_calibrated_params_l = pickle.load(f)\n",
    "            summaries_l = pickle.load(f)\n",
    "        return( fitness_l, sim_l, obs_l, out_params_l, out_calibrated_params_l, summaries_l)\n",
    "    else:\n",
    "        raise Exception(f\"Unkonwn mode: {mode}\")\n",
    "\n",
    "pickle_samples('save', fitness_l, sim_l, obs_l, out_params_l, out_calibrated_params_l, summaries_l)"
   ],
   "metadata": {
    "collapsed": false,
    "pycharm": {
     "name": "#%%\n"
    }
   }
  }
 ],
 "metadata": {
  "kernelspec": {
   "display_name": "Python 3 (ipykernel)",
   "language": "python",
   "name": "python3"
  },
  "language_info": {
   "codemirror_mode": {
    "name": "ipython",
    "version": 3
   },
   "file_extension": ".py",
   "mimetype": "text/x-python",
   "name": "python",
   "nbconvert_exporter": "python",
   "pygments_lexer": "ipython3",
   "version": "3.8.13"
  },
  "vscode": {
   "interpreter": {
    "hash": "ebb45998d057cd9337571d6794a119feabba8ecfd1819e0e1dec5f8d9581edaf"
   }
  }
 },
 "nbformat": 4,
 "nbformat_minor": 5
}