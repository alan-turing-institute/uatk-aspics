{
 "cells": [
  {
   "cell_type": "markdown",
   "id": "2ef48166",
   "metadata": {
    "pycharm": {
     "name": "#%% md\n"
    }
   },
   "source": [
    "# Calibration of multiple parameters for ASPICS model, using ABC method\n",
    "\n",
    "This jupyter notebook is based on the previous efforts from DyME and Prof Nick Malleson (University of Leeds)\n",
    "\n",
    "- [RAMP-UA Initiative](https://github.com/Urban-Analytics/RAMP-UA/blob/d5973dff007645f1700cded93aaf72298ef84c61/experiments/calibration/abc-1.ipynb)\n",
    "\n",
    "- [Calibrating Agent-Based Models Using Uncertainty Quantification Methods](https://github.com/Urban-Analytics/uncertainty/blob/master/hm_abc_simple_example.ipyn)\n",
    "\n",
    "As SPC (Synthetic Population Catalyst) is a tool that helps urban modelling researchers to get synthetic population datasets at national level (currently limitated to England). This tool opens up new challenges/possibilities where external models (multi-level) like Agent-based models -ABM now can be tested in multi regions. However in models with location parameters striclty dependend on the population interactions, internal validation and calibrations process are seen as a relevant and requiered to properly tune this national behaivor. "
   ]
  },
  {
   "cell_type": "markdown",
   "id": "b7e790da",
   "metadata": {
    "pycharm": {
     "name": "#%% md\n"
    }
   },
   "source": [
    "### ToDO to make progress in this experiment\n",
    "- [X] Read the Synt Pop file - Translate to snaphot then ASPICS can read the new dataset.\n",
    "- [] Read and plot the attributes we need, we could plot\n",
    "- [] Read the baseline use as priors - Areas to test Leeds ( ideally West Yorkshire), Liverpool, Devon, Manchester (Grand Manchester)"
   ]
  },
  {
   "cell_type": "markdown",
   "id": "7db61a3a",
   "metadata": {
    "pycharm": {
     "name": "#%% md\n"
    }
   },
   "source": [
    "## Background Concepts\n",
    "\n",
    "- Uncertanity of ABM\n",
    "- Methods for Calibration\n",
    "- ABC"
   ]
  },
  {
   "cell_type": "code",
   "execution_count": 6,
   "id": "1084c0b9",
   "metadata": {
    "pycharm": {
     "name": "#%%\n"
    }
   },
   "outputs": [],
   "source": [
    "import math\n",
    "import os\n",
    "import random\n",
    "import sys\n",
    "\n",
    "import matplotlib.pyplot as plt\n",
    "import numpy as np\n",
    "import pandas as pd\n",
    "from yaml import SafeLoader, load\n",
    "\n",
    "sys.path.append('../')\n",
    "from run_aspics import OpenCLRunner\n",
    "\n",
    "import convert_snapshot\n",
    "import synthpop_pb2\n",
    "from aspics.disease_statuses import DiseaseStatus\n",
    "from aspics.loader import setup_sim\n",
    "from aspics.params import Params\n",
    "from headless import run_headless"
   ]
  },
  {
   "cell_type": "markdown",
   "id": "6bc56c3e",
   "metadata": {
    "pycharm": {
     "name": "#%% md\n"
    }
   },
   "source": [
    "The following function is based on [SPC scripts](https://github.com/alan-turing-institute/uatk-spc/blob/main/python/protobuf_to_csv.py) the idea is to read the .pb file created with the tool. However, we need to make a translation from the proto file to snapshot which will integarte the data in the way ASPICS need it."
   ]
  },
  {
   "cell_type": "markdown",
   "id": "b3b10051",
   "metadata": {
    "pycharm": {
     "name": "#%% md\n"
    }
   },
   "source": [
    "## Read the baseline data. Defined as prior to calibrate the model to a given area\n",
    "Real observations (number of cases, deaths or hospital admission in the given area)\n",
    "They need to be made cumulative as this is how they will be compared to the model."
   ]
  },
  {
   "cell_type": "markdown",
   "id": "26e5f8e9",
   "metadata": {
    "pycharm": {
     "name": "#%% md\n"
    }
   },
   "source": [
    "#### Rutland area as test run due it size\n",
    "The data for no of cases and the gam_cases data were created using [Ramp-UA - Observation Data](https://github.com/Urban-Analytics/RAMP-UA/tree/master/experiments/calibration/observation_data)"
   ]
  },
  {
   "cell_type": "code",
   "execution_count": null,
   "id": "2f11f179",
   "metadata": {
    "pycharm": {
     "name": "#%%\n"
    }
   },
   "outputs": [],
   "source": [
    "# New per day:\n",
    "gam_cases = pd.read_csv(os.path.join(\"baseline_data\", \"gam_manchester_cases.csv\"), header=0, names=[\"Day\", \"Cases\"], )\n",
    "# Cumulative\n",
    "OBSERVATIONS = pd.DataFrame( {\"Day\": gam_cases['Day'], \"Cases\": gam_cases.cumsum()['Cases']} )\n",
    "assert OBSERVATIONS.tail(1)['Cases'].values[0] == sum(gam_cases['Cases'])\n",
    "print(f\"Total cases: {sum(gam_cases['Cases'])}\")"
   ]
  },
  {
   "cell_type": "markdown",
   "id": "2d97cfca",
   "metadata": {
    "pycharm": {
     "name": "#%% md\n"
    }
   },
   "source": [
    "## Run ASPIC using the default parameters\n",
    "\n",
    "The following cells provide a set of plots to define how the model run with the default parameters ( manually calibrated for Devon area). In this example we use Rutland.\n",
    "\n",
    "Before everything, we need to translate the .pb (protobufer) file to the snapshot required by ASPCIS [Usage guide](docs/usage_guide.md). You need to do this one time. Once you created your synthetic population file, then run 'run ../convert_snapshot.py -i SPC_data/{YOUR_NEW_AREA}.pb -o ../data/snapshots/{YOUR_NEW_AREA}/cache.npz'\n"
   ]
  },
  {
   "cell_type": "markdown",
   "id": "6c38b9c5",
   "metadata": {
    "collapsed": false,
    "pycharm": {
     "name": "#%% md\n"
    }
   },
   "source": [
    "Great now we have the cache.npz file in `data/snapshots`\n"
   ]
  },
  {
   "cell_type": "code",
   "execution_count": 1,
   "id": "58b2847b",
   "metadata": {
    "collapsed": false,
    "pycharm": {
     "name": "#%%\n"
    }
   },
   "outputs": [
    {
     "data": {
      "text/plain": [
       "'/home/fernando/Documents/ua-aspics/calibration'"
      ]
     },
     "execution_count": 1,
     "metadata": {},
     "output_type": "execute_result"
    }
   ],
   "source": [
    "os.getcwd()"
   ]
  },
  {
   "cell_type": "code",
   "execution_count": 3,
   "id": "c1ae88bd",
   "metadata": {
    "collapsed": false,
    "pycharm": {
     "name": "#%%\n"
    }
   },
   "outputs": [],
   "source": [
    "os.chdir(\"../\") #Now we need to update the main directory then we can use aspics as the way was created."
   ]
  },
  {
   "cell_type": "code",
   "execution_count": 7,
   "id": "c991bc94",
   "metadata": {},
   "outputs": [
    {
     "data": {
      "text/html": [
       "<div>\n",
       "<style scoped>\n",
       "    .dataframe tbody tr th:only-of-type {\n",
       "        vertical-align: middle;\n",
       "    }\n",
       "\n",
       "    .dataframe tbody tr th {\n",
       "        vertical-align: top;\n",
       "    }\n",
       "\n",
       "    .dataframe thead th {\n",
       "        text-align: right;\n",
       "    }\n",
       "</style>\n",
       "<table border=\"1\" class=\"dataframe\">\n",
       "  <thead>\n",
       "    <tr style=\"text-align: right;\">\n",
       "      <th></th>\n",
       "      <th>susceptible</th>\n",
       "      <th>exposed</th>\n",
       "      <th>presymptomatic</th>\n",
       "      <th>asymptomatic</th>\n",
       "      <th>symptomatic</th>\n",
       "      <th>recovered</th>\n",
       "      <th>baseline</th>\n",
       "      <th>scenario2</th>\n",
       "      <th>scenario3</th>\n",
       "      <th>scenario4</th>\n",
       "      <th>scenario5</th>\n",
       "    </tr>\n",
       "  </thead>\n",
       "  <tbody>\n",
       "    <tr>\n",
       "      <th>0</th>\n",
       "      <td>177175</td>\n",
       "      <td>0</td>\n",
       "      <td>0</td>\n",
       "      <td>4</td>\n",
       "      <td>247</td>\n",
       "      <td>15</td>\n",
       "      <td>19</td>\n",
       "      <td>21</td>\n",
       "      <td>21</td>\n",
       "      <td>19</td>\n",
       "      <td>19</td>\n",
       "    </tr>\n",
       "    <tr>\n",
       "      <th>1</th>\n",
       "      <td>177175</td>\n",
       "      <td>0</td>\n",
       "      <td>0</td>\n",
       "      <td>4</td>\n",
       "      <td>205</td>\n",
       "      <td>30</td>\n",
       "      <td>46</td>\n",
       "      <td>50</td>\n",
       "      <td>50</td>\n",
       "      <td>46</td>\n",
       "      <td>46</td>\n",
       "    </tr>\n",
       "    <tr>\n",
       "      <th>2</th>\n",
       "      <td>177175</td>\n",
       "      <td>0</td>\n",
       "      <td>0</td>\n",
       "      <td>4</td>\n",
       "      <td>157</td>\n",
       "      <td>49</td>\n",
       "      <td>75</td>\n",
       "      <td>83</td>\n",
       "      <td>83</td>\n",
       "      <td>75</td>\n",
       "      <td>75</td>\n",
       "    </tr>\n",
       "    <tr>\n",
       "      <th>3</th>\n",
       "      <td>177175</td>\n",
       "      <td>0</td>\n",
       "      <td>0</td>\n",
       "      <td>4</td>\n",
       "      <td>120</td>\n",
       "      <td>62</td>\n",
       "      <td>99</td>\n",
       "      <td>112</td>\n",
       "      <td>112</td>\n",
       "      <td>99</td>\n",
       "      <td>99</td>\n",
       "    </tr>\n",
       "    <tr>\n",
       "      <th>4</th>\n",
       "      <td>177175</td>\n",
       "      <td>0</td>\n",
       "      <td>0</td>\n",
       "      <td>2</td>\n",
       "      <td>91</td>\n",
       "      <td>70</td>\n",
       "      <td>122</td>\n",
       "      <td>135</td>\n",
       "      <td>135</td>\n",
       "      <td>122</td>\n",
       "      <td>122</td>\n",
       "    </tr>\n",
       "    <tr>\n",
       "      <th>...</th>\n",
       "      <td>...</td>\n",
       "      <td>...</td>\n",
       "      <td>...</td>\n",
       "      <td>...</td>\n",
       "      <td>...</td>\n",
       "      <td>...</td>\n",
       "      <td>...</td>\n",
       "      <td>...</td>\n",
       "      <td>...</td>\n",
       "      <td>...</td>\n",
       "      <td>...</td>\n",
       "    </tr>\n",
       "    <tr>\n",
       "      <th>295</th>\n",
       "      <td>177175</td>\n",
       "      <td>0</td>\n",
       "      <td>0</td>\n",
       "      <td>0</td>\n",
       "      <td>0</td>\n",
       "      <td>101</td>\n",
       "      <td>184</td>\n",
       "      <td>199</td>\n",
       "      <td>199</td>\n",
       "      <td>184</td>\n",
       "      <td>184</td>\n",
       "    </tr>\n",
       "    <tr>\n",
       "      <th>296</th>\n",
       "      <td>177175</td>\n",
       "      <td>0</td>\n",
       "      <td>0</td>\n",
       "      <td>0</td>\n",
       "      <td>0</td>\n",
       "      <td>101</td>\n",
       "      <td>184</td>\n",
       "      <td>199</td>\n",
       "      <td>199</td>\n",
       "      <td>184</td>\n",
       "      <td>184</td>\n",
       "    </tr>\n",
       "    <tr>\n",
       "      <th>297</th>\n",
       "      <td>177175</td>\n",
       "      <td>0</td>\n",
       "      <td>0</td>\n",
       "      <td>0</td>\n",
       "      <td>0</td>\n",
       "      <td>101</td>\n",
       "      <td>184</td>\n",
       "      <td>199</td>\n",
       "      <td>199</td>\n",
       "      <td>184</td>\n",
       "      <td>184</td>\n",
       "    </tr>\n",
       "    <tr>\n",
       "      <th>298</th>\n",
       "      <td>177175</td>\n",
       "      <td>0</td>\n",
       "      <td>0</td>\n",
       "      <td>0</td>\n",
       "      <td>0</td>\n",
       "      <td>101</td>\n",
       "      <td>184</td>\n",
       "      <td>199</td>\n",
       "      <td>199</td>\n",
       "      <td>184</td>\n",
       "      <td>184</td>\n",
       "    </tr>\n",
       "    <tr>\n",
       "      <th>299</th>\n",
       "      <td>177175</td>\n",
       "      <td>0</td>\n",
       "      <td>0</td>\n",
       "      <td>0</td>\n",
       "      <td>0</td>\n",
       "      <td>101</td>\n",
       "      <td>184</td>\n",
       "      <td>199</td>\n",
       "      <td>199</td>\n",
       "      <td>184</td>\n",
       "      <td>184</td>\n",
       "    </tr>\n",
       "  </tbody>\n",
       "</table>\n",
       "<p>300 rows × 11 columns</p>\n",
       "</div>"
      ],
      "text/plain": [
       "     susceptible  exposed  presymptomatic  asymptomatic  symptomatic  \\\n",
       "0         177175        0               0             4          247   \n",
       "1         177175        0               0             4          205   \n",
       "2         177175        0               0             4          157   \n",
       "3         177175        0               0             4          120   \n",
       "4         177175        0               0             2           91   \n",
       "..           ...      ...             ...           ...          ...   \n",
       "295       177175        0               0             0            0   \n",
       "296       177175        0               0             0            0   \n",
       "297       177175        0               0             0            0   \n",
       "298       177175        0               0             0            0   \n",
       "299       177175        0               0             0            0   \n",
       "\n",
       "     recovered  baseline  scenario2  scenario3  scenario4  scenario5  \n",
       "0           15        19         21         21         19         19  \n",
       "1           30        46         50         50         46         46  \n",
       "2           49        75         83         83         75         75  \n",
       "3           62        99        112        112         99         99  \n",
       "4           70       122        135        135        122        122  \n",
       "..         ...       ...        ...        ...        ...        ...  \n",
       "295        101       184        199        199        184        184  \n",
       "296        101       184        199        199        184        184  \n",
       "297        101       184        199        199        184        184  \n",
       "298        101       184        199        199        184        184  \n",
       "299        101       184        199        199        184        184  \n",
       "\n",
       "[300 rows x 11 columns]"
      ]
     },
     "execution_count": 7,
     "metadata": {},
     "output_type": "execute_result"
    }
   ],
   "source": [
    "df = pd.read_csv(\"data/scenarios/total_counts.csv\")\n",
    "df"
   ]
  },
  {
   "cell_type": "code",
   "execution_count": 8,
   "id": "aaa1d8f6",
   "metadata": {},
   "outputs": [
    {
     "data": {
      "text/html": [
       "<div>\n",
       "<style scoped>\n",
       "    .dataframe tbody tr th:only-of-type {\n",
       "        vertical-align: middle;\n",
       "    }\n",
       "\n",
       "    .dataframe tbody tr th {\n",
       "        vertical-align: top;\n",
       "    }\n",
       "\n",
       "    .dataframe thead th {\n",
       "        text-align: right;\n",
       "    }\n",
       "</style>\n",
       "<table border=\"1\" class=\"dataframe\">\n",
       "  <thead>\n",
       "    <tr style=\"text-align: right;\">\n",
       "      <th></th>\n",
       "      <th>baseline</th>\n",
       "      <th>scenario2</th>\n",
       "      <th>scenario3</th>\n",
       "      <th>scenario4</th>\n",
       "      <th>scenario5</th>\n",
       "    </tr>\n",
       "  </thead>\n",
       "  <tbody>\n",
       "    <tr>\n",
       "      <th>0</th>\n",
       "      <td>19</td>\n",
       "      <td>21</td>\n",
       "      <td>21</td>\n",
       "      <td>19</td>\n",
       "      <td>19</td>\n",
       "    </tr>\n",
       "    <tr>\n",
       "      <th>1</th>\n",
       "      <td>46</td>\n",
       "      <td>50</td>\n",
       "      <td>50</td>\n",
       "      <td>46</td>\n",
       "      <td>46</td>\n",
       "    </tr>\n",
       "    <tr>\n",
       "      <th>2</th>\n",
       "      <td>75</td>\n",
       "      <td>83</td>\n",
       "      <td>83</td>\n",
       "      <td>75</td>\n",
       "      <td>75</td>\n",
       "    </tr>\n",
       "    <tr>\n",
       "      <th>3</th>\n",
       "      <td>99</td>\n",
       "      <td>112</td>\n",
       "      <td>112</td>\n",
       "      <td>99</td>\n",
       "      <td>99</td>\n",
       "    </tr>\n",
       "    <tr>\n",
       "      <th>4</th>\n",
       "      <td>122</td>\n",
       "      <td>135</td>\n",
       "      <td>135</td>\n",
       "      <td>122</td>\n",
       "      <td>122</td>\n",
       "    </tr>\n",
       "    <tr>\n",
       "      <th>...</th>\n",
       "      <td>...</td>\n",
       "      <td>...</td>\n",
       "      <td>...</td>\n",
       "      <td>...</td>\n",
       "      <td>...</td>\n",
       "    </tr>\n",
       "    <tr>\n",
       "      <th>295</th>\n",
       "      <td>184</td>\n",
       "      <td>199</td>\n",
       "      <td>199</td>\n",
       "      <td>184</td>\n",
       "      <td>184</td>\n",
       "    </tr>\n",
       "    <tr>\n",
       "      <th>296</th>\n",
       "      <td>184</td>\n",
       "      <td>199</td>\n",
       "      <td>199</td>\n",
       "      <td>184</td>\n",
       "      <td>184</td>\n",
       "    </tr>\n",
       "    <tr>\n",
       "      <th>297</th>\n",
       "      <td>184</td>\n",
       "      <td>199</td>\n",
       "      <td>199</td>\n",
       "      <td>184</td>\n",
       "      <td>184</td>\n",
       "    </tr>\n",
       "    <tr>\n",
       "      <th>298</th>\n",
       "      <td>184</td>\n",
       "      <td>199</td>\n",
       "      <td>199</td>\n",
       "      <td>184</td>\n",
       "      <td>184</td>\n",
       "    </tr>\n",
       "    <tr>\n",
       "      <th>299</th>\n",
       "      <td>184</td>\n",
       "      <td>199</td>\n",
       "      <td>199</td>\n",
       "      <td>184</td>\n",
       "      <td>184</td>\n",
       "    </tr>\n",
       "  </tbody>\n",
       "</table>\n",
       "<p>300 rows × 5 columns</p>\n",
       "</div>"
      ],
      "text/plain": [
       "     baseline  scenario2  scenario3  scenario4  scenario5\n",
       "0          19         21         21         19         19\n",
       "1          46         50         50         46         46\n",
       "2          75         83         83         75         75\n",
       "3          99        112        112         99         99\n",
       "4         122        135        135        122        122\n",
       "..        ...        ...        ...        ...        ...\n",
       "295       184        199        199        184        184\n",
       "296       184        199        199        184        184\n",
       "297       184        199        199        184        184\n",
       "298       184        199        199        184        184\n",
       "299       184        199        199        184        184\n",
       "\n",
       "[300 rows x 5 columns]"
      ]
     },
     "execution_count": 8,
     "metadata": {},
     "output_type": "execute_result"
    }
   ],
   "source": [
    "filtered_data = df.loc[:,['baseline', 'scenario2','scenario3', 'scenario4', 'scenario5']]\n",
    "filtered_data"
   ]
  },
  {
   "cell_type": "code",
   "execution_count": 10,
   "id": "257d843a",
   "metadata": {},
   "outputs": [
    {
     "data": {
      "image/png": "[encoded data removed]",
      "text/plain": [
       "<Figure size 1500x800 with 1 Axes>"
      ]
     },
     "metadata": {},
     "output_type": "display_data"
    }
   ],
   "source": [
    "import numpy as np\n",
    "import pandas as pd\n",
    "import seaborn as sns\n",
    "\n",
    "sns.set_theme(style=\"whitegrid\")\n",
    "\n",
    "plt.figure(figsize=(15,8))\n",
    "ax = sns.lineplot(data=filtered_data, palette=\"tab10\", linewidth=1.5)"
   ]
  },
  {
   "cell_type": "code",
   "execution_count": null,
   "id": "93ee4f0b",
   "metadata": {
    "collapsed": false,
    "pycharm": {
     "name": "#%%\n"
    }
   },
   "outputs": [],
   "source": [
    "PARAMETERS_FILE = 'config/new_parameters.yml' # Reading the parameters file\n",
    "with open(PARAMETERS_FILE, \"r\") as f:\n",
    "    parameters = load(f, Loader=SafeLoader)\n",
    "\n",
    "simulator, snapshot, study_area, iterations = setup_sim(parameters)  #Initial configuration, based on the parameters to run the model\n",
    "summary, final_state = run_headless(simulator, snapshot, iterations, quiet=False, store_detailed_counts=True) #run the model in a headless mode"
   ]
  },
  {
   "cell_type": "code",
   "execution_count": 17,
   "id": "d2dc02d7",
   "metadata": {},
   "outputs": [],
   "source": [
    "#oddRatio=2.89\n",
    "#knownProb = 0.005\n",
    "\n",
    "def odd_ratio_to_proba (oddRatio,knownProb):\n",
    "   return oddRatio * knownProb / (1 + oddRatio * knownProb - knownProb)\n",
    "\n",
    "#print(odd_ratio_to_proba(oddRatio,knownProb))\n"
   ]
  },
  {
   "cell_type": "code",
   "execution_count": 18,
   "id": "a793d9e2",
   "metadata": {},
   "outputs": [
    {
     "name": "stdout",
     "output_type": "stream",
     "text": [
      "1.0 0.002 0.3245 0.0006498779851579485 1.0 0.0006498779851579485 1.47 0.0009550289316115979 12.0 0.011341204219698768 1 0.011341204219698768 877.2734683453297 0.9096124405668748\n"
     ]
    }
   ],
   "source": [
    "new_bmi = 6.253716\n",
    "female_mortality= 1.0\n",
    "male_mortality= 1.19\n",
    "sex = 0\n",
    "age = 37\n",
    "mortality= 0.002\n",
    "cvd= 1.0\n",
    "bloodpressure=1.0\n",
    "bloodpressure_multiplier=12.0\n",
    "diabetes=1.0\n",
    "diabetes_multiplier=1.47\n",
    "age_mortality_multipliers=[0.0088, 0.0219, 0.0921, 0.3245, 1.0,  2.8916, 8.4749, 24.4236, 106.7409]\n",
    "BMI = [5.7, -0.3, 0.0061, 2.340, -0.13, 0.003, 9.407, -0.67, 0.014, 9.21, -0.646, 0.012]\n",
    "ethnicity_multipliers=[1.0, 1.74, 2.55, 2.97]\n",
    "origin= 1\n",
    "\n",
    "oddSex = ((1.0 - sex) * female_mortality) + sex * male_mortality\n",
    "probaSex = odd_ratio_to_proba(oddSex,mortality)\n",
    "oddAge = age_mortality_multipliers[int(min(age/10,8))]\n",
    "probaAge = odd_ratio_to_proba(oddAge,probaSex)\n",
    "oddCVD = max(cvd * cvd, 1.0);\n",
    "probaCVD = odd_ratio_to_proba(oddCVD,probaAge)\n",
    "oddDiabetes = max((diabetes * diabetes_multiplier), float(1.0))\n",
    "probaDiabetes = odd_ratio_to_proba(oddDiabetes,probaCVD)\n",
    "oddHypertension = max(bloodpressure * bloodpressure_multiplier, float(1.0))\n",
    "probaHypertension = odd_ratio_to_proba(oddHypertension,probaDiabetes)\n",
    "originNew = min(origin, 4)\n",
    "probaOrigin = odd_ratio_to_proba(ethnicity_multipliers[origin - 1],probaHypertension)\n",
    "oddBMI = (BMI[originNew-1]*3) + (BMI[originNew-1]*3+1) * new_bmi + (BMI[originNew-1]*3+2) * pow(new_bmi,2)\n",
    "personal_mortality_final = odd_ratio_to_proba(oddBMI,probaOrigin)\n",
    "print(oddSex,probaSex, oddAge, probaAge, oddCVD, probaCVD, oddDiabetes,probaDiabetes, oddHypertension, probaHypertension, originNew, probaOrigin, oddBMI, personal_mortality_final)\n"
   ]
  },
  {
   "cell_type": "code",
   "execution_count": 67,
   "id": "ea6f6f43",
   "metadata": {},
   "outputs": [
    {
     "name": "stdout",
     "output_type": "stream",
     "text": [
      "1\n"
     ]
    }
   ],
   "source": [
    "if (new_bmi < 0 ):\n",
    "    new_bmi *= -1\n",
    "print (new_bmi)    "
   ]
  },
  {
   "cell_type": "code",
   "execution_count": 22,
   "id": "18f6acbd",
   "metadata": {},
   "outputs": [
    {
     "data": {
      "text/plain": [
       "0.0219"
      ]
     },
     "execution_count": 22,
     "metadata": {},
     "output_type": "execute_result"
    }
   ],
   "source": [
    "age_mortality_multipliers[1]"
   ]
  },
  {
   "cell_type": "markdown",
   "id": "4a832eae",
   "metadata": {
    "collapsed": false,
    "pycharm": {
     "name": "#%% md\n"
    }
   },
   "source": [
    "## Run ASPICS using parameters manually defined.\n"
   ]
  },
  {
   "cell_type": "code",
   "execution_count": null,
   "id": "b702aa53",
   "metadata": {
    "collapsed": false,
    "pycharm": {
     "name": "#%%\n"
    }
   },
   "outputs": [],
   "source": [
    "PARAMETERS_FILE = 'config/Manchester.yml' # Reading the parameters file\n",
    "with open(PARAMETERS_FILE, \"r\") as f:\n",
    "    parameters = load(f, Loader=SafeLoader)"
   ]
  },
  {
   "cell_type": "code",
   "execution_count": null,
   "id": "25c992f0",
   "metadata": {
    "collapsed": false,
    "pycharm": {
     "name": "#%%\n"
    }
   },
   "outputs": [],
   "source": [
    "calibration_params = parameters[\"microsim_calibration\"]\n",
    "disease_params = parameters[\"disease\"]"
   ]
  },
  {
   "cell_type": "code",
   "execution_count": null,
   "id": "620ce260",
   "metadata": {
    "collapsed": false,
    "pycharm": {
     "name": "#%%\n"
    }
   },
   "outputs": [],
   "source": [
    "params_manual = OpenCLRunner.create_params_manually( parameters_file=PARAMETERS_FILE)"
   ]
  },
  {
   "cell_type": "code",
   "execution_count": null,
   "id": "e2aa855f",
   "metadata": {
    "collapsed": false,
    "pycharm": {
     "name": "#%%\n"
    }
   },
   "outputs": [],
   "source": [
    "REPETITIONS = 5\n",
    "ITERATIONS = 100\n",
    "STUDY_AREA = \"Manchester\"\n",
    "OUTPUT = True\n",
    "OUTPUT_EVERY_ITERATION = False\n",
    "USE_LOCKDOWN = False\n",
    "START_DATE = 10\n",
    "#OBSERVATIONS IS DECLARED IN THE PREVIOUS CELL\n",
    "USE_GPU = True\n",
    "USE_HEALTHIER_POP = True\n",
    "STORE_DETAILED_COUNTS = True\n",
    "#PARAMETERS file IS DECLARED IN THE PREVIOUS CELL\n",
    "\n",
    "assert ITERATIONS < len(OBSERVATIONS), \\\n",
    "    f\"Have more iterations ({ITERATIONS}) than observations ({len(OBSERVATIONS)}).\""
   ]
  },
  {
   "cell_type": "code",
   "execution_count": null,
   "id": "716cd7eb",
   "metadata": {
    "collapsed": false,
    "pycharm": {
     "name": "#%%\n"
    }
   },
   "outputs": [],
   "source": [
    "OpenCLRunner.init(\n",
    "    iterations = ITERATIONS,\n",
    "    repetitions = REPETITIONS,\n",
    "    study_area= STUDY_AREA,\n",
    "    output=OUTPUT,\n",
    "    output_every_iteration=OUTPUT_EVERY_ITERATION,\n",
    "    use_lockdown=False,\n",
    "    start_date=START_DATE,\n",
    "    observations = OBSERVATIONS,\n",
    "    use_gpu = USE_GPU,\n",
    "    store_detailed_counts = STORE_DETAILED_COUNTS,\n",
    "    parameters_file = PARAMETERS_FILE,\n",
    "    use_healthier_pop = True\n",
    ")"
   ]
  },
  {
   "cell_type": "code",
   "execution_count": null,
   "id": "7d003dc8",
   "metadata": {
    "collapsed": false,
    "pycharm": {
     "name": "#%%\n"
    }
   },
   "outputs": [],
   "source": [
    "OpenCLRunner.update(repetitions=10)  # Temporarily use more repetitions to give a good baseline, initially suggested as 10\n",
    "OpenCLRunner.update(store_detailed_counts=True)"
   ]
  },
  {
   "cell_type": "code",
   "execution_count": null,
   "id": "1d38f887",
   "metadata": {
    "collapsed": false,
    "pycharm": {
     "name": "#%%\n"
    }
   },
   "outputs": [],
   "source": [
    "(fitness0, sim0, obs0, out_params0, summaries0) = OpenCLRunner.run_aspics_with_params_abc({}, return_full_details=True)"
   ]
  },
  {
   "cell_type": "code",
   "execution_count": null,
   "id": "ac39dc7a",
   "metadata": {
    "pycharm": {
     "name": "#%%\n"
    }
   },
   "outputs": [],
   "source": [
    "OpenCLRunner.update(repetitions=REPETITIONS)\n",
    "OpenCLRunner.update(store_detailed_counts=STORE_DETAILED_COUNTS)\n",
    "\n",
    "# Check the model returns the observations correctly\n",
    "np.array_equal(obs0, OBSERVATIONS.loc[:len(sim0)-1,\"Cases\"])\n",
    "\n",
    "# Print the fitness and plot the different disease counts\n",
    "print(f\"fitness: {fitness0}\")\n",
    "#print(pd.DataFrame({\"sim\":sim, \"real_obs1\":obs}))\n",
    "\n",
    "fig, ax = plt.subplots(1,1)\n",
    "x = range(len(sim0))\n",
    "ax.plot(x, OpenCLRunner.get_cumulative_new_infections(summaries0), label=\"sim\", color=\"orange\")\n",
    "ax.plot(x, obs0, label=\"obs\", color=\"blue\")\n",
    "ax.legend()"
   ]
  },
  {
   "cell_type": "code",
   "execution_count": null,
   "id": "6ffbdc1c",
   "metadata": {
    "collapsed": false,
    "pycharm": {
     "name": "#%%\n"
    }
   },
   "outputs": [],
   "source": [
    "def plot_summaries(summaries, observations=None, plot_type=\"error_bars\"):\n",
    "\n",
    "    #fig, ax = plt.subplots(1, len(DiseaseStatus), sharey=True)\n",
    "    fig, ax = plt.subplots(1, 1, figsize=(10,7))\n",
    "\n",
    "    # Work out the number of repetitions and iterations\n",
    "    iters, reps = _get_iters_and_reps(summaries)\n",
    "    x = range(iters)\n",
    "    total_not_susceptible = np.zeros(iters)  # Used to compare to observations\n",
    "\n",
    "    for d, disease_status in enumerate(DiseaseStatus):\n",
    "\n",
    "        # Calculate the mean and standard deviation\n",
    "        mean, sd = OpenCLRunner.get_mean_total_counts(summaries, d, get_sd=True)\n",
    "\n",
    "        # Don't plot susceptible or recovered as it hides everytihng else\n",
    "        if disease_status==DiseaseStatus.Susceptible or disease_status==DiseaseStatus.Recovered:\n",
    "            continue\n",
    "\n",
    "        if plot_type == \"error_bars\":\n",
    "            ax.errorbar(x, mean, sd, label=f\"{disease_status}\" )\n",
    "        elif plot_type == \"lines\":\n",
    "            for rep in range(reps):\n",
    "                ax.plot(x, matrix[rep], label=f\"{disease_status} {rep}\",\n",
    "                        color=plt.cm.get_cmap(\"hsv\", len(DiseaseStatus))(d) )\n",
    "\n",
    "    if observations is not None:\n",
    "        # Plot the observations (cumulative infections)\n",
    "        ax.plot(x, observations.loc[:len(x)-1, \"Cases\"],\n",
    "                label=f\"Observations (cumulative cases)\", color=\"black\", linestyle=\"dashed\")\n",
    "        # And the total new infections, for comparison\n",
    "        ax.plot(x, OpenCLRunner.get_cumulative_new_infections(summaries),\n",
    "               label=f\"Total not susceptible \", color=\"grey\", linestyle=\"dashed\")\n",
    "\n",
    "\n",
    "    ax.legend()\n",
    "    ax.set_title(\"Disease Status\")\n",
    "    ax.set_xlabel(\"Iteration\")\n",
    "    ax.set_ylabel(\"Number of cases\")\n",
    "    #ax.set_ylim(0, 5000)\n",
    "    #ax.set_xlim(0,30)\n",
    "\n",
    "def _get_iters_and_reps(summaries):\n",
    "    reps = len(summaries)\n",
    "    iters = len(summaries[0].total_counts[0])\n",
    "    return (iters, reps)"
   ]
  },
  {
   "cell_type": "code",
   "execution_count": null,
   "id": "eaa56845",
   "metadata": {
    "collapsed": false,
    "pycharm": {
     "name": "#%%\n"
    }
   },
   "outputs": [],
   "source": [
    "plot_summaries(summaries=summaries0, observations=OBSERVATIONS, plot_type=\"error_bars\")"
   ]
  },
  {
   "cell_type": "code",
   "execution_count": null,
   "id": "f7c78cbd",
   "metadata": {
    "collapsed": false,
    "pycharm": {
     "name": "#%%\n"
    }
   },
   "outputs": [],
   "source": [
    "def plot_disease_status_by_age(summaries):\n",
    "\n",
    "    #fig, ax = plt.subplots(1, len(DiseaseStatus), sharey=True)\n",
    "    fig, ax = plt.subplots(int(len(DiseaseStatus)/2), int(len(DiseaseStatus)/2),\n",
    "                           figsize=(15,11), tight_layout=True)\n",
    "    iters, reps = _get_iters_and_reps(summaries)\n",
    "    x = range(iters)\n",
    "    age_thresholds = summaries[0].age_thresholds\n",
    "\n",
    "    for d, disease_status in enumerate(DiseaseStatus):\n",
    "        lower_age_bound = 0\n",
    "        for age_idx in range(len(age_thresholds)):\n",
    "            matrix = np.zeros(shape=(reps, iters))\n",
    "            for rep in range(reps):\n",
    "                #matrix[age_idx][rep][it] = summaries[rep].age_counts[str(disease_status)][age_idx][it]\n",
    "                matrix[rep] = summaries[rep].age_counts[str(disease_status)][age_idx]\n",
    "            mean = np.mean(matrix, axis=0)\n",
    "            sd = np.std(matrix, axis=0)\n",
    "            ax.flat[d].errorbar(x, mean, sd, label=f\"{lower_age_bound} - {age_thresholds[age_idx]}\" )\n",
    "            lower_age_bound = age_thresholds[age_idx]\n",
    "\n",
    "            ax.flat[d].legend()\n",
    "            ax.flat[d].set_title(f\"{str(disease_status)}\")\n",
    "            ax.flat[d].set_xlabel(\"Iteration\")\n",
    "            ax.flat[d].set_ylabel(\"Number of cases\")\n",
    "    #fig.set_title(f\"Num {disease_status} people by age group\")"
   ]
  },
  {
   "cell_type": "code",
   "execution_count": null,
   "id": "a4c0eacc",
   "metadata": {
    "collapsed": false,
    "pycharm": {
     "name": "#%%\n"
    }
   },
   "outputs": [],
   "source": [
    "plot_disease_status_by_age(summaries0)"
   ]
  },
  {
   "cell_type": "markdown",
   "id": "808ffa9d",
   "metadata": {
    "collapsed": false,
    "pycharm": {
     "name": "#%% md\n"
    }
   },
   "source": [
    "# ABC"
   ]
  },
  {
   "cell_type": "code",
   "execution_count": null,
   "id": "77a4531a",
   "metadata": {
    "collapsed": false,
    "pycharm": {
     "name": "#%%\n"
    }
   },
   "outputs": [],
   "source": [
    "import pyabc\n",
    "from pygam import LinearGAM  # For graphing posteriors\n",
    "from pyabc.transition.multivariatenormal import MultivariateNormalTransition  # For drawing from the posterior\n",
    "import pickle"
   ]
  },
  {
   "cell_type": "code",
   "execution_count": null,
   "id": "fa7230f8",
   "metadata": {
    "collapsed": false,
    "pycharm": {
     "name": "#%%\n"
    }
   },
   "outputs": [],
   "source": [
    "import itertools"
   ]
  },
  {
   "cell_type": "code",
   "execution_count": null,
   "id": "51d3aff8",
   "metadata": {
    "collapsed": false,
    "pycharm": {
     "name": "#%%\n"
    }
   },
   "outputs": [],
   "source": [
    "def distance(sim,obs):\n",
    "    fit = OpenCLRunner.fit_l2(sim[\"data\"],obs[\"data\"])\n",
    "    print(fit)\n",
    "    return fit"
   ]
  },
  {
   "cell_type": "code",
   "execution_count": null,
   "id": "d36628a8",
   "metadata": {
    "collapsed": false,
    "pycharm": {
     "name": "#%%\n"
    }
   },
   "outputs": [],
   "source": [
    "# The following should all be constant (overriding whatever is in the default.yml parameters file)\n",
    "OpenCLRunner.set_constants( {\"home\": 1.0 })\n",
    "# FYI this is how to represent with discrete distributions and one possible value\n",
    "# https://pyabc.readthedocs.io/en/latest/api_random_variables.html#\n",
    "\n",
    "current_risk_beta_rv = current_risk_beta_rv = pyabc.RV(\"norm\", 0.1, 0.155)\n",
    "\n",
    "# School and retail are all uniform between 0-1\n",
    "retail_rv, primary_school_rv, secondary_school_rv = (pyabc.RV(\"uniform\", 0, 1) for _ in range(3)  )\n",
    "# Work needs some dampening because we know that workplaces are too big in the current implementation\n",
    "work_rv = pyabc.RV(\"beta\", 0.1, 2)\n",
    "\n",
    "# Individual multipliers (see justification at the start of this notebook).\n",
    "# Asymptomatic is normal such that the middle 95% is the range [0.138, 0.75]\n",
    "presymptomatic_rv, symptomatic_rv, asymptomatic_rv = (pyabc.RV(\"norm\", 0.444, 0.155) for _ in range(3))\n",
    "\n",
    "# Group all random variables together and give them a string name (this is needed for the distribution later)\n",
    "all_rv = { \"retail\": retail_rv, \"primary_school\": primary_school_rv, \"secondary_school\": secondary_school_rv, \"work\": work_rv,\n",
    "           \"presymptomatic\": presymptomatic_rv, \"symptomatic\": symptomatic_rv, \"asymptomatic\": asymptomatic_rv,\n",
    "           \"current_risk_beta\":current_risk_beta_rv}\n",
    "\n",
    "fig, axes = plt.subplots(3, 2, figsize=(12,8), sharex=True, sharey=True)\n",
    "x = np.linspace(0,2,49)  # (specified so that we have some whole numbers)\n",
    "marker = itertools.cycle((',', '+', '.', 'o', '*'))\n",
    "for i, variable in enumerate([retail_rv, primary_school_rv, secondary_school_rv, work_rv,\n",
    "                              ]):\n",
    "    var_name = [ k for k,v in locals().items() if v is variable][0]  # Hack to get the name of the variable\n",
    "    ax = axes.flatten()[i]\n",
    "    #ax.plot(x, pyabc.Distribution(param=variable).pdf({\"param\": x}), label = var_name, marker=next(marker), ms=3)\n",
    "    ax.plot(x, pyabc.Distribution(param=variable).pdf({\"param\": x}))\n",
    "    ax.set_title(var_name)\n",
    "    ax.axvline(x=1.0, ls='--', color=\"grey\", label=\"x=1\")\n",
    "\n",
    "#ax.legend()\n",
    "fig.suptitle(\"Priors\")\n",
    "fig.tight_layout()"
   ]
  },
  {
   "cell_type": "code",
   "execution_count": null,
   "id": "602e6f92",
   "metadata": {
    "collapsed": false,
    "pycharm": {
     "name": "#%%\n"
    }
   },
   "outputs": [],
   "source": [
    "# Most priors can be passed straight to the distribution, except for 'asymptomatic' because it's normal\n",
    "# so needs to be decorated to stay above 0\n",
    "priors = pyabc.Distribution(\n",
    "    #home = home_rv,\n",
    "    retail = retail_rv,\n",
    "    primary_school = primary_school_rv,\n",
    "    secondary_school = secondary_school_rv,\n",
    "    work = work_rv,\n",
    "    presymptomatic = presymptomatic_rv,\n",
    "    symptomatic = symptomatic_rv,\n",
    "    asymptomatic = pyabc.LowerBoundDecorator(asymptomatic_rv, 0.0), # TODO why is it like this.\n",
    "    current_risk_beta = current_risk_beta_rv\n",
    ")"
   ]
  },
  {
   "cell_type": "code",
   "execution_count": null,
   "id": "e125092c",
   "metadata": {
    "collapsed": false,
    "pycharm": {
     "name": "#%%\n"
    }
   },
   "outputs": [],
   "source": [
    "abc = pyabc.ABCSMC(\n",
    "    models=OpenCLRunner.run_aspics_with_params_abc, # Model (could be a list)\n",
    "    parameter_priors=priors, # Priors (could be a list)\n",
    "    distance_function=distance,  # Distance function\n",
    "    sampler = pyabc.sampler.SingleCoreSampler()  # Single core because the model is parallelised\n",
    "    #transition=transition,  # Define how to transition from one population to the next\n",
    ")"
   ]
  },
  {
   "cell_type": "code",
   "execution_count": null,
   "id": "e02ffd4c",
   "metadata": {
    "collapsed": false,
    "pycharm": {
     "name": "#%%\n"
    }
   },
   "outputs": [],
   "source": [
    "y_observed = OBSERVATIONS.loc[:ITERATIONS-1, \"Cases\"].values"
   ]
  },
  {
   "cell_type": "code",
   "execution_count": null,
   "id": "b22a101f",
   "metadata": {
    "collapsed": false,
    "pycharm": {
     "name": "#%%\n"
    }
   },
   "outputs": [],
   "source": [
    "os.getcwd()"
   ]
  },
  {
   "cell_type": "code",
   "execution_count": null,
   "id": "0efb4e93",
   "metadata": {
    "collapsed": false,
    "pycharm": {
     "name": "#%%\n"
    }
   },
   "outputs": [],
   "source": [
    "db_path = (\"sqlite:///\" + os.path.join(\".\", \"abc-manchester.db\"))"
   ]
  },
  {
   "cell_type": "code",
   "execution_count": null,
   "id": "2e028577",
   "metadata": {
    "collapsed": false,
    "pycharm": {
     "name": "#%%\n"
    }
   },
   "outputs": [],
   "source": [
    "run_id = abc.new(db_path, {\"data\": y_observed})  # (ID only matters if multiple runs stored is same DB)"
   ]
  },
  {
   "cell_type": "code",
   "execution_count": null,
   "id": "46656c14",
   "metadata": {
    "collapsed": false,
    "pycharm": {
     "name": "#%%\n"
    }
   },
   "outputs": [],
   "source": [
    "LOAD_PICKLES = True\n",
    "history = None\n",
    "fname = \"abc_2-manchester.pkl\"\n",
    "\n",
    "if LOAD_PICKLES and os.path.isfile(fname):\n",
    "    with open( fname, \"rb\" ) as f:\n",
    "        history = pickle.load(f)\n",
    "else:\n",
    "    history = abc.run(max_nr_populations=2)\n",
    "    # The history object only works if it has the associated database too ('abc-1.db')\n",
    "    with open( fname, \"wb\" ) as f:\n",
    "        pickle.dump( history, f)"
   ]
  },
  {
   "cell_type": "code",
   "execution_count": null,
   "id": "38b94124",
   "metadata": {
    "collapsed": false,
    "pycharm": {
     "name": "#%%\n"
    }
   },
   "outputs": [],
   "source": [
    "fig, ax = plt.subplots()\n",
    "\n",
    "for t in range(history.max_t + 1):\n",
    "    df, w = history.get_distribution(m=0, t=t)\n",
    "    pyabc.visualization.plot_kde_1d(df, w,x=\"asymptomatic\", ax=ax,label=\"PDF t={}\".format(t))\n",
    "#ax.axvline(y_observed, color=\"k\", linestyle=\"dashed\");\n",
    "ax.axvline(x=0.53, color=\"grey\", linestyle=\"dashed\");\n",
    "ax.legend()"
   ]
  },
  {
   "cell_type": "code",
   "execution_count": null,
   "id": "22cb8e01",
   "metadata": {
    "collapsed": false,
    "pycharm": {
     "name": "#%%\n"
    }
   },
   "outputs": [],
   "source": [
    "_, arr_ax = plt.subplots(2, 2)\n",
    "\n",
    "pyabc.visualization.plot_sample_numbers(history, ax=arr_ax[0][0])\n",
    "pyabc.visualization.plot_epsilons(history, ax=arr_ax[0][1])\n",
    "#pyabc.visualization.plot_credible_intervals(\n",
    "#    history, levels=[0.95, 0.9, 0.5], ts=[0, 1, 2, 3, 4],\n",
    "#    show_mean=True, show_kde_max_1d=True,\n",
    "#    refval={'mean': 2.5},\n",
    "#    arr_ax=arr_ax[1][0])\n",
    "pyabc.visualization.plot_effective_sample_sizes(history, ax=arr_ax[1][1])\n",
    "\n",
    "plt.gcf().set_size_inches((12, 8))\n",
    "plt.gcf().tight_layout()"
   ]
  },
  {
   "cell_type": "code",
   "execution_count": null,
   "id": "ac31b779",
   "metadata": {
    "collapsed": false,
    "pycharm": {
     "name": "#%%\n"
    }
   },
   "outputs": [],
   "source": [
    "fig, axes = plt.subplots(3,int(len(priors)/2), figsize=(12,10))\n",
    "\n",
    "#cmap = { 0:'k',1:'b',2:'y',3:'g',4:'r' }  # Do this automatically for len(params)\n",
    "\n",
    "for i, param in enumerate(priors.keys()):\n",
    "    ax = axes.flat[i]\n",
    "    for t in range(history.max_t + 1):\n",
    "        df, w = history.get_distribution(m=0, t=t)\n",
    "        pyabc.visualization.plot_kde_1d(df, w, x=param, ax=ax,\n",
    "                                        label=f\"{param} PDF t={t}\",\n",
    "                                        alpha=1.0 if t==0 else float(t)/history.max_t, # Make earlier populations transparent\n",
    "                                        color= \"black\" if t==history.max_t else None # Make the last one black\n",
    "                                        )\n",
    "        if param!=\"work\":\n",
    "            ax.set_xlim(0,1)\n",
    "        ax.legend(fontsize=\"small\")\n",
    "        #ax.axvline(x=posterior_df.loc[1,param], color=\"grey\", linestyle=\"dashed\")\n",
    "        #ax.set_title(f\"{param}: {posterior_df.loc[0,param]}\")\n",
    "        ax.set_title(f\"{param}\")\n",
    "fig.tight_layout()"
   ]
  },
  {
   "cell_type": "code",
   "execution_count": null,
   "id": "5fba36fd",
   "metadata": {
    "collapsed": false,
    "pycharm": {
     "name": "#%%\n"
    }
   },
   "outputs": [],
   "source": [
    "# As above but only show two parameters (for a Turing presentation)\n",
    "fig, axes = plt.subplots(1,2, figsize=(12,6))\n",
    "\n",
    "#cmap = { 0:'k',1:'b',2:'y',3:'g',4:'r' }  # Do this automatically for len(params)\n",
    "\n",
    "for i, param in enumerate(['primary_school', 'asymptomatic']):\n",
    "    ax = axes.flat[i]\n",
    "    t = history.max_t\n",
    "    df, w = history.get_distribution(m=0, t=t)\n",
    "    pyabc.visualization.plot_kde_1d(df, w, x=param, ax=ax,\n",
    "                                    label=f\"{param} PDF t={t}\",\n",
    "                                    alpha=1.0 if t==0 else float(t)/history.max_t, # Make earlier populations transparent\n",
    "                                    color= \"black\" if t==history.max_t else None # Make the last one black\n",
    "                                    )\n",
    "    if param!=\"work\":\n",
    "        ax.set_xlim(0,1)\n",
    "    ax.legend(fontsize=\"small\")\n",
    "    ax.set_title(f\"{param}\")\n",
    "fig.tight_layout()"
   ]
  },
  {
   "cell_type": "code",
   "execution_count": null,
   "id": "000803dc",
   "metadata": {
    "collapsed": false,
    "pycharm": {
     "name": "#%%\n"
    }
   },
   "outputs": [],
   "source": [
    "fig, axes = plt.subplots(3,int(history.max_t/2), figsize=(10,8))\n",
    "for t in range(history.max_t + 1):\n",
    "   ax = axes.flat[t]\n",
    "   for i, param in enumerate(priors.keys()):\n",
    "       df, w = history.get_distribution(m=0, t=t)\n",
    "       pyabc.visualization.plot_kde_1d(df, w, x=param, ax=ax,\n",
    "           label=f\"{param}\")\n",
    "   ax.legend()\n",
    "   ax.set_title(f\"t={t}\")\n",
    "fig.tight_layout()"
   ]
  },
  {
   "cell_type": "code",
   "execution_count": null,
   "id": "d7d809b5",
   "metadata": {
    "collapsed": false,
    "pycharm": {
     "name": "#%%\n"
    }
   },
   "outputs": [],
   "source": [
    "pyabc.visualization.plot_histogram_matrix(history, size=(12,10))"
   ]
  },
  {
   "cell_type": "markdown",
   "id": "dbb09700",
   "metadata": {
    "collapsed": false,
    "pycharm": {
     "name": "#%% md\n"
    }
   },
   "source": [
    "# Posterior"
   ]
  },
  {
   "cell_type": "code",
   "execution_count": null,
   "id": "76feeedb",
   "metadata": {
    "collapsed": false,
    "pycharm": {
     "name": "#%%\n"
    }
   },
   "outputs": [],
   "source": [
    "_df, _w = history.get_distribution(m=0, t=history.max_t)\n",
    "# Merge dataframe and weights and sort by weight (highest weight at the top)\n",
    "_df['weight'] = _w\n",
    "posterior_df = _df.sort_values('weight', ascending=False).reset_index()\n",
    "posterior_df"
   ]
  },
  {
   "cell_type": "code",
   "execution_count": null,
   "id": "7efea40e",
   "metadata": {
    "collapsed": false,
    "pycharm": {
     "name": "#%%\n"
    }
   },
   "outputs": [],
   "source": [
    "N_samples = 50\n",
    "df, w = history.get_distribution(m=0, t=history.max_t)\n",
    "\n",
    "# Sample from the dataframe of posteriors using KDE\n",
    "kde = MultivariateNormalTransition(scaling=1)\n",
    "kde.fit(df, w)\n",
    "samples = kde.rvs(N_samples)\n",
    "\n",
    "## Instead sample just using the weights (this isn't the best way to do it though, should use KDE)\n",
    "#df = df.reset_index()  # So that the row index is 0-N (currently it's something else)\n",
    "#sample_idx = np.random.choice(\n",
    "#            a=range(history.get_nr_particles_per_population().values[-1]),\n",
    "#            size=N_samples, replace=True, p=w)\n",
    "#samples = df.iloc[sample_idx]\n",
    "\n",
    "# Now run N models and store the results of each one\n",
    "fitness_l = []  # Fitness values for each sample (model)\n",
    "sim_l = []  # The full simulation results\n",
    "obs_l = []  # Observations (should be the same for each sample)\n",
    "out_params_l = []  # The parameters objects used in each sample (all parameters in the model)\n",
    "out_calibrated_params_l = []  # The values of the specific calibrated parameters for the sample\n",
    "summaries_l = []  # The summaries objects\n",
    "\n",
    "negative_count = 0  # Count the number of negatives returned in the KDE posterior\n",
    "for i, sample in samples.iterrows():\n",
    "\n",
    "    # Check for negatives. If needed, resample\n",
    "    while (sample < 0).values.any():\n",
    "        print(\"Found negatives. Resampling\")\n",
    "        negative_count += 1\n",
    "        sample = kde.rvs()\n",
    "\n",
    "    # Create a dictionary with the parameters and their values for this sample\n",
    "    param_values = { param:sample[str(param)] for param in priors}\n",
    "\n",
    "    # Run the model\n",
    "    (_fitness, _sim, _obs, _out_params, _summaries) = \\\n",
    "          OpenCLRunner.run_aspics_with_params_abc(param_values, return_full_details=True)\n",
    "    print(f\"Fitness: {_fitness}.\")\n",
    "    #print(f\"Fitness: {_fitness}. Sample: {sample}\")\n",
    "\n",
    "    fitness_l.append(_fitness)\n",
    "    sim_l.append(_sim)\n",
    "    obs_l.append(_obs)\n",
    "    out_params_l.append(_out_params)\n",
    "    out_calibrated_params_l.append(param_values)\n",
    "    summaries_l.append(_summaries)\n",
    "\n",
    "print(f\"Finished sampling. Ignored {negative_count} negative samples.\")\n",
    "\n",
    "# Sanity check\n",
    "for i in range(len(obs_l)-1):\n",
    "    assert np.array_equal(obs_l[0], obs_l[i])\n",
    "\n",
    "\n",
    "# Save these because it took ages to sample\n",
    "def pickle_samples(mode, *arrays):\n",
    "    if mode==\"save\":\n",
    "        with open(\"abc-2-samples.pkl\", \"wb\") as f:\n",
    "            for x in arrays:\n",
    "                pickle.dump(x, f)\n",
    "        return\n",
    "    elif mode==\"load\":\n",
    "        with open(\"abc-2-samples.pkl\", \"rb\") as f:\n",
    "            fitness_l = pickle.load(f)\n",
    "            sim_l = pickle.load(f)\n",
    "            obs_l = pickle.load(f)\n",
    "            out_params_l = pickle.load(f)\n",
    "            out_calibrated_params_l = pickle.load(f)\n",
    "            summaries_l = pickle.load(f)\n",
    "        return( fitness_l, sim_l, obs_l, out_params_l, out_calibrated_params_l, summaries_l)\n",
    "    else:\n",
    "        raise Exception(f\"Unkonwn mode: {mode}\")\n",
    "\n",
    "pickle_samples('save', fitness_l, sim_l, obs_l, out_params_l, out_calibrated_params_l, summaries_l)"
   ]
  }
 ],
 "metadata": {
  "kernelspec": {
   "display_name": "Python 3 (ipykernel)",
   "language": "python",
   "name": "python3"
  },
  "language_info": {
   "codemirror_mode": {
    "name": "ipython",
    "version": 3
   },
   "file_extension": ".py",
   "mimetype": "text/x-python",
   "name": "python",
   "nbconvert_exporter": "python",
   "pygments_lexer": "ipython3",
   "version": "3.8.10"
  },
  "vscode": {
   "interpreter": {
    "hash": "ebb45998d057cd9337571d6794a119feabba8ecfd1819e0e1dec5f8d9581edaf"
   }
  }
 },
 "nbformat": 4,
 "nbformat_minor": 5
}
