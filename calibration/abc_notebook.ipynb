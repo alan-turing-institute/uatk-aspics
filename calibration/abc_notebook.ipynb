{
 "cells": [
  {
   "cell_type": "markdown",
   "id": "2ef48166",
   "metadata": {
    "pycharm": {
     "name": "#%% md\n"
    }
   },
   "source": [
    "# Calibration of multiple parameters for ASPICS model, using ABC method\n",
    "\n",
    "This jupyter notebook is based on the previous efforts from DyME and Prof Nick Malleson (University of Leeds)\n",
    "\n",
    "- [RAMP-UA Initiative](https://github.com/Urban-Analytics/RAMP-UA/blob/d5973dff007645f1700cded93aaf72298ef84c61/experiments/calibration/abc-1.ipynb)\n",
    "\n",
    "- [Calibrating Agent-Based Models Using Uncertainty Quantification Methods](https://github.com/Urban-Analytics/uncertainty/blob/master/hm_abc_simple_example.ipyn)\n",
    "\n",
    "As SPC (Synthetic Population Catalyst) is a tool that helps urban modelling researchers to get synthetic population datasets at national level (currently limitated to England). This tool opens up new challenges/possibilities where external models (multi-level) like Agent-based models -ABM now can be tested in multi regions. However in models with location parameters striclty dependend on the population interactions, internal validation and calibrations process are seen as a relevant and requiered to properly tune this national behaivor. "
   ]
  },
  {
   "cell_type": "markdown",
   "id": "b7e790da",
   "metadata": {
    "pycharm": {
     "name": "#%% md\n"
    }
   },
   "source": [
    "### ToDO to make progress in this experiment\n",
    "- [X] Read the Synt Pop file - Translate to snaphot then ASPICS can read the new dataset.\n",
    "- [] Read and plot the attributes we need, we could plot\n",
    "- [] Read the baseline use as priors - Areas to test Leeds ( ideally West Yorkshire), Liverpool, Devon, Manchester (Grand Manchester)"
   ]
  },
  {
   "cell_type": "markdown",
   "id": "7db61a3a",
   "metadata": {
    "pycharm": {
     "name": "#%% md\n"
    }
   },
   "source": [
    "## Background Concepts\n",
    "\n",
    "- Uncertanity of ABM\n",
    "- Methods for Calibration\n",
    "- ABC"
   ]
  },
  {
   "cell_type": "code",
   "execution_count": 1,
   "id": "1084c0b9",
   "metadata": {
    "pycharm": {
     "name": "#%%\n"
    }
   },
   "outputs": [],
   "source": [
    "import math\n",
    "import pandas as pd\n",
    "import sys, os\n",
    "import matplotlib.pyplot as plt\n",
    "import numpy as np\n",
    "import random\n",
    "sys.path.append('../')\n",
    "from run_aspics import OpenCLRunner\n",
    "import synthpop_pb2\n",
    "import convert_snapshot"
   ]
  },
  {
   "cell_type": "markdown",
   "id": "6bc56c3e",
   "metadata": {
    "pycharm": {
     "name": "#%% md\n"
    }
   },
   "source": [
    "The following function is based on [SPC scripts](https://github.com/alan-turing-institute/uatk-spc/blob/main/python/protobuf_to_csv.py) the idea is to read the .pb file created with the tool. However, we need to make a translation from the proto file to snapshot which will integarte the data in the way ASPICS need it."
   ]
  },
  {
   "cell_type": "markdown",
   "id": "2c428ea0",
   "metadata": {
    "pycharm": {
     "name": "#%% md\n"
    }
   },
   "source": [
    "```\n",
    "def convert_to_csv(input_path):\n",
    "    \"\"\"Export some per-person attributes to CSV.\"\"\"\n",
    "    # Parse the .pb file\n",
    "    print(f\"Reading {input_path}\")\n",
    "    pop = synthpop_pb2.Population()\n",
    "    f = open(input_path, \"rb\")\n",
    "    pop.ParseFromString(f.read())\n",
    "    f.close()\n",
    "\n",
    "    # Based on the per-person information you're interested in, you can extract\n",
    "    # and fill out different columns\n",
    "    people = []\n",
    "    for person in pop.people:\n",
    "        # The Person message doesn't directly store MSOA. Look up from their household.\n",
    "        msoa11cd = pop.households[person.household].msoa11cd\n",
    "\n",
    "        record = {\n",
    "            \"person_id\": person.id,\n",
    "            \"household_id\": person.household,\n",
    "            \"msoa11cd\": msoa11cd,\n",
    "            \"age_years\": person.demographics.age_years,\n",
    "            # Protobuf enum types show up as numbers; this converts to a string\n",
    "            \"pwkstat\": synthpop_pb2.PwkStat.Name(person.employment.pwkstat),\n",
    "            \"diabetes\": person.health.has_diabetes,\n",
    "            \"employment\": person.employment.sic1d07,\n",
    "        }\n",
    "\n",
    "        # Add a column for the duration the person spends doing each activity\n",
    "        for pair in person.activity_durations:\n",
    "            key = synthpop_pb2.Activity.Name(pair.activity) + \"_duration\"\n",
    "            record[key] = pair.duration\n",
    "\n",
    "        people.append(record)\n",
    "\n",
    "    df = pd.DataFrame.from_records(people)\n",
    "    return(df)\n",
    "```"
   ]
  },
  {
   "cell_type": "markdown",
   "id": "8e190012",
   "metadata": {
    "pycharm": {
     "name": "#%% md\n"
    }
   },
   "source": [
    "```\n",
    "## Reading the previous function\n",
    "input_path = 'SPC_data/rutland.pb'\n",
    "if __name__ == \"__main__\":\n",
    "    df = convert_to_csv(input_path)\n",
    "```"
   ]
  },
  {
   "cell_type": "markdown",
   "id": "b3b10051",
   "metadata": {
    "pycharm": {
     "name": "#%% md\n"
    }
   },
   "source": [
    "## Read the baseline data. Defined as prior to calibrate the model to a given area\n",
    "Real observations (number of cases, deaths or hospital admission in the given area)\n",
    "They need to be made cumulative as this is how they will be compared to the model."
   ]
  },
  {
   "cell_type": "markdown",
   "id": "26e5f8e9",
   "metadata": {
    "pycharm": {
     "name": "#%% md\n"
    }
   },
   "source": [
    "#### Rutland area as test run due it size\n",
    "The data for no of cases and the gam_cases data were created using [Ramp-UA - Observation Data](https://github.com/Urban-Analytics/RAMP-UA/tree/master/experiments/calibration/observation_data)"
   ]
  },
  {
   "cell_type": "code",
   "execution_count": 2,
   "id": "2f11f179",
   "metadata": {
    "pycharm": {
     "name": "#%%\n"
    }
   },
   "outputs": [
    {
     "name": "stdout",
     "output_type": "stream",
     "text": [
      "Total cases: 697\n"
     ]
    }
   ],
   "source": [
    "# New per day:\n",
    "gam_cases = pd.read_csv(os.path.join(\"baseline_data\", \"gam_rutland_cases.csv\"), header=0, names=[\"Day\", \"Cases\"], )\n",
    "# Cumulative\n",
    "OBSERVATIONS = pd.DataFrame( {\"Day\": gam_cases['Day'], \"Cases\": gam_cases.cumsum()['Cases']} )\n",
    "assert OBSERVATIONS.tail(1)['Cases'].values[0] == sum(gam_cases['Cases'])\n",
    "print(f\"Total cases: {sum(gam_cases['Cases'])}\")"
   ]
  },
  {
   "cell_type": "markdown",
   "id": "2d97cfca",
   "metadata": {
    "pycharm": {
     "name": "#%% md\n"
    }
   },
   "source": [
    "## Run ASPIC using the default parameters\n",
    "\n",
    "The following cells provide a set of plots to define how the model run with the default parameters ( manually calibrated for Devon area). In this example we use Rutland.\n",
    "\n",
    "Before everything, we will need to translate the .pg file to the snapshot required by ASPCIS [Usage guide](docs/usage_guide.md). You need to do this one time."
   ]
  },
  {
   "cell_type": "code",
   "execution_count": null,
   "id": "e42932c3",
   "metadata": {
    "pycharm": {
     "name": "#%%\n"
    }
   },
   "outputs": [],
   "source": [
    "%run ../convert_snapshot.py -i SPC_data/rutland.pb -o ../data/snapshots/Rutland/cache.npz"
   ]
  },
  {
   "cell_type": "markdown",
   "id": "0ca9e7b2",
   "metadata": {
    "pycharm": {
     "name": "#%% md\n"
    }
   },
   "source": [
    "Great now we have the cache.npz in `data/snapshots`, go and take a quick look."
   ]
  },
  {
   "cell_type": "code",
   "execution_count": 3,
   "outputs": [],
   "source": [
    "PARAMETERS_FILE = os.path.join(\"../\",\"config\", \"Rutland.yml\")\n",
    "STUDY_AREA = \"Rutland\"\n",
    "ITERATIONS = 100  # Number of iterations to run for ( Initially suggestes as 100)\n",
    "NUM_SEED_DAYS = 10  # Number of days to seed the population\n",
    "USE_GPU = False\n",
    "STORE_DETAILED_COUNTS = False\n",
    "REPETITIONS = 5 #Initially suggested as 5\n",
    "\n",
    "assert ITERATIONS < len(OBSERVATIONS), \\\n",
    "    f\"Have more iterations ({ITERATIONS}) than observations ({len(OBSERVATIONS)}).\""
   ],
   "metadata": {
    "collapsed": false,
    "pycharm": {
     "name": "#%%\n"
    }
   }
  },
  {
   "cell_type": "code",
   "execution_count": 4,
   "outputs": [
    {
     "name": "stdout",
     "output_type": "stream",
     "text": [
      "Creating parameters manually based on ../config/Rutland.yml\n"
     ]
    }
   ],
   "source": [
    "PARAMS = OpenCLRunner.create_params_manually(parameters_file=PARAMETERS_FILE)"
   ],
   "metadata": {
    "collapsed": false,
    "pycharm": {
     "name": "#%%\n"
    }
   }
  },
  {
   "cell_type": "code",
   "execution_count": 5,
   "outputs": [],
   "source": [
    "SNAPSHOT_FILEPATH = os.path.join(\"../data\", \"snapshots\",\"Rutland\",\"cache.npz\")\n",
    "assert os.path.isfile(SNAPSHOT_FILEPATH), f\"Snapshot doesn't exist: {SNAPSHOT_FILEPATH}\""
   ],
   "metadata": {
    "collapsed": false,
    "pycharm": {
     "name": "#%%\n"
    }
   }
  },
  {
   "cell_type": "markdown",
   "source": [
    "    Next we for some reason still not clear to me, why we overwrite the previous parameters from the parameter file."
   ],
   "metadata": {
    "collapsed": false,
    "pycharm": {
     "name": "#%% md\n"
    }
   }
  },
  {
   "cell_type": "code",
   "execution_count": 6,
   "id": "2727dea1",
   "metadata": {
    "pycharm": {
     "name": "#%%\n"
    }
   },
   "outputs": [],
   "source": [
    "assert ITERATIONS < len(OBSERVATIONS), \\\n",
    "    f\"Have more iterations ({ITERATIONS}) than observations ({len(OBSERVATIONS)}).\"\n",
    "\n",
    "# Initialise the class so that its ready to run the model.\n",
    "# This isn't actually necessary immediately as the `run_opencl_model_multi` function is a static method\n",
    "# so doesn't read any of the class parameters, but the init is necessary\n",
    "# for calibration later when some parameters can't be passed to the run function directly\n",
    "OpenCLRunner.init(\n",
    "    iterations = ITERATIONS, \n",
    "    repetitions = REPETITIONS, \n",
    "    observations = OBSERVATIONS,\n",
    "    use_gpu = USE_GPU,\n",
    "    store_detailed_counts = STORE_DETAILED_COUNTS, \n",
    "    parameters_file = PARAMETERS_FILE,\n",
    "    snapshot_filepath = SNAPSHOT_FILEPATH,\n",
    "    use_healthier_pop = False\n",
    ")"
   ]
  },
  {
   "cell_type": "code",
   "execution_count": 7,
   "outputs": [],
   "source": [
    "OpenCLRunner.update(repetitions=10)  # Temporarily use more repetitions to give a good baseline, initially suggested as 10\n",
    "OpenCLRunner.update(store_detailed_counts=True)  # Temporarily output age breakdowns"
   ],
   "metadata": {
    "collapsed": false,
    "pycharm": {
     "name": "#%%\n"
    }
   }
  },
  {
   "cell_type": "code",
   "execution_count": 8,
   "outputs": [
    {
     "name": "stdout",
     "output_type": "stream",
     "text": [
      "Creating parameters manually based on ../config/Rutland.yml\n"
     ]
    },
    {
     "name": "stderr",
     "output_type": "stream",
     "text": [
      "Running models:   0%|          | 0/10 [00:00<?, ?it/s]"
     ]
    },
    {
     "name": "stdout",
     "output_type": "stream",
     "text": [
      "Running a simulation  {75055}  based on the study area\n"
     ]
    },
    {
     "name": "stderr",
     "output_type": "stream",
     "text": [
      "\n"
     ]
    },
    {
     "ename": "OSError",
     "evalue": "[Errno 9] Bad file descriptor",
     "output_type": "error",
     "traceback": [
      "\u001B[0;31m---------------------------------------------------------------------------\u001B[0m",
      "\u001B[0;31mOSError\u001B[0m                                   Traceback (most recent call last)",
      "Input \u001B[0;32mIn [8]\u001B[0m, in \u001B[0;36m<cell line: 1>\u001B[0;34m()\u001B[0m\n\u001B[0;32m----> 1\u001B[0m (fitness0, sim0, obs0, out_params0, summaries0) \u001B[38;5;241m=\u001B[39m \u001B[43mOpenCLRunner\u001B[49m\u001B[38;5;241;43m.\u001B[39;49m\u001B[43mrun_aspics_opencl_params_abc\u001B[49m\u001B[43m(\u001B[49m\u001B[43m{\u001B[49m\u001B[43m}\u001B[49m\u001B[43m,\u001B[49m\u001B[43m \u001B[49m\u001B[43mreturn_full_details\u001B[49m\u001B[38;5;241;43m=\u001B[39;49m\u001B[38;5;28;43;01mTrue\u001B[39;49;00m\u001B[43m)\u001B[49m\n",
      "File \u001B[0;32m~/PycharmProjects/uatk-aspics/calibration/run_aspics.py:511\u001B[0m, in \u001B[0;36mOpenCLRunner.run_aspics_opencl_params_abc\u001B[0;34m(cls, input_params_dict, return_full_details)\u001B[0m\n\u001B[1;32m    505\u001B[0m \u001B[38;5;66;03m# Splat the input_params_dict to automatically set any parameters that have been included\u001B[39;00m\n\u001B[1;32m    506\u001B[0m params \u001B[38;5;241m=\u001B[39m OpenCLRunner\u001B[38;5;241m.\u001B[39mcreate_params_manually(\n\u001B[1;32m    507\u001B[0m     parameters_file\u001B[38;5;241m=\u001B[39m\u001B[38;5;28mcls\u001B[39m\u001B[38;5;241m.\u001B[39mPARAMETERS_FILE,\n\u001B[1;32m    508\u001B[0m     \u001B[38;5;241m*\u001B[39m\u001B[38;5;241m*\u001B[39minput_params_dict\n\u001B[1;32m    509\u001B[0m )\n\u001B[0;32m--> 511\u001B[0m results \u001B[38;5;241m=\u001B[39m \u001B[43mOpenCLRunner\u001B[49m\u001B[38;5;241;43m.\u001B[39;49m\u001B[43mrun_aspics_opencl_multi\u001B[49m\u001B[43m(\u001B[49m\n\u001B[1;32m    512\u001B[0m \u001B[43m    \u001B[49m\u001B[43mrepetitions\u001B[49m\u001B[38;5;241;43m=\u001B[39;49m\u001B[38;5;28;43mcls\u001B[39;49m\u001B[38;5;241;43m.\u001B[39;49m\u001B[43mREPETITIONS\u001B[49m\u001B[43m,\u001B[49m\n\u001B[1;32m    513\u001B[0m \u001B[43m    \u001B[49m\u001B[43miterations\u001B[49m\u001B[38;5;241;43m=\u001B[39;49m\u001B[38;5;28;43mcls\u001B[39;49m\u001B[38;5;241;43m.\u001B[39;49m\u001B[43mITERATIONS\u001B[49m\u001B[43m,\u001B[49m\n\u001B[1;32m    514\u001B[0m \u001B[43m    \u001B[49m\u001B[43mparameters_file\u001B[49m\u001B[38;5;241;43m=\u001B[39;49m\u001B[43m \u001B[49m\u001B[38;5;28;43mcls\u001B[39;49m\u001B[38;5;241;43m.\u001B[39;49m\u001B[43mPARAMETERS_FILE\u001B[49m\u001B[43m,\u001B[49m\n\u001B[1;32m    515\u001B[0m \u001B[43m    \u001B[49m\u001B[43mparams\u001B[49m\u001B[38;5;241;43m=\u001B[39;49m\u001B[43mparams\u001B[49m\u001B[43m,\u001B[49m\n\u001B[1;32m    516\u001B[0m \u001B[43m    \u001B[49m\u001B[38;5;66;43;03m#opencl_dir=cls.OPENCL_DIR,\u001B[39;49;00m\n\u001B[1;32m    517\u001B[0m \u001B[43m    \u001B[49m\u001B[38;5;66;43;03m#snapshot_filepath=cls.SNAPSHOT_FILEPATH,\u001B[39;49;00m\n\u001B[1;32m    518\u001B[0m \u001B[43m    \u001B[49m\u001B[43muse_gpu\u001B[49m\u001B[38;5;241;43m=\u001B[39;49m\u001B[38;5;28;43mcls\u001B[39;49m\u001B[38;5;241;43m.\u001B[39;49m\u001B[43mUSE_GPU\u001B[49m\u001B[43m,\u001B[49m\n\u001B[1;32m    519\u001B[0m \u001B[43m    \u001B[49m\u001B[43mstore_detailed_counts\u001B[49m\u001B[38;5;241;43m=\u001B[39;49m\u001B[38;5;28;43mcls\u001B[39;49m\u001B[38;5;241;43m.\u001B[39;49m\u001B[43mSTORE_DETAILED_COUNTS\u001B[49m\u001B[43m,\u001B[49m\n\u001B[1;32m    520\u001B[0m \u001B[43m    \u001B[49m\u001B[43mmultiprocess\u001B[49m\u001B[38;5;241;43m=\u001B[39;49m\u001B[38;5;28;43;01mFalse\u001B[39;49;00m\u001B[43m,\u001B[49m\n\u001B[1;32m    521\u001B[0m \u001B[43m    \u001B[49m\u001B[43mrandom_ids\u001B[49m\u001B[38;5;241;43m=\u001B[39;49m\u001B[38;5;28;43;01mTrue\u001B[39;49;00m\n\u001B[1;32m    522\u001B[0m \u001B[43m\u001B[49m\u001B[43m)\u001B[49m\n\u001B[1;32m    524\u001B[0m summaries \u001B[38;5;241m=\u001B[39m [x[\u001B[38;5;241m0\u001B[39m] \u001B[38;5;28;01mfor\u001B[39;00m x \u001B[38;5;129;01min\u001B[39;00m results]\n\u001B[1;32m    525\u001B[0m \u001B[38;5;66;03m# Get the cumulative number of new infections per day (i.e. simulated results)\u001B[39;00m\n",
      "File \u001B[0;32m~/PycharmProjects/uatk-aspics/calibration/run_aspics.py:432\u001B[0m, in \u001B[0;36mOpenCLRunner.run_aspics_opencl_multi\u001B[0;34m(repetitions, iterations, parameters_file, params, use_gpu, use_healthier_pop, store_detailed_counts, multiprocess, random_ids)\u001B[0m\n\u001B[1;32m    429\u001B[0m     results \u001B[38;5;241m=\u001B[39m itertools\u001B[38;5;241m.\u001B[39mstarmap(OpenCLRunner\u001B[38;5;241m.\u001B[39mrun_aspics_opencl, args)\n\u001B[1;32m    430\u001B[0m     \u001B[38;5;66;03m# Return as a list to force the models to execute (otherwise this is delayed because starmap returns\u001B[39;00m\n\u001B[1;32m    431\u001B[0m     \u001B[38;5;66;03m# a generator. Also means we can use tqdm to get a progress bar, which is nice.\u001B[39;00m\n\u001B[0;32m--> 432\u001B[0m     to_return \u001B[38;5;241m=\u001B[39m [x \u001B[38;5;28;01mfor\u001B[39;00m x \u001B[38;5;129;01min\u001B[39;00m tqdm\u001B[38;5;241m.\u001B[39mtqdm(results, desc\u001B[38;5;241m=\u001B[39m\u001B[38;5;124m\"\u001B[39m\u001B[38;5;124mRunning models\u001B[39m\u001B[38;5;124m\"\u001B[39m, total\u001B[38;5;241m=\u001B[39mrepetitions)]\n\u001B[1;32m    434\u001B[0m \u001B[38;5;28mprint\u001B[39m(\u001B[38;5;124mf\u001B[39m\u001B[38;5;124m\"\u001B[39m\u001B[38;5;124m.. finished, took \u001B[39m\u001B[38;5;132;01m{\u001B[39;00m\u001B[38;5;28mround\u001B[39m(\u001B[38;5;28mfloat\u001B[39m(time\u001B[38;5;241m.\u001B[39mtime() \u001B[38;5;241m-\u001B[39m start_time), \u001B[38;5;241m2\u001B[39m)\u001B[38;5;132;01m}\u001B[39;00m\u001B[38;5;124ms)\u001B[39m\u001B[38;5;124m\"\u001B[39m, flush\u001B[38;5;241m=\u001B[39m\u001B[38;5;28;01mTrue\u001B[39;00m)\n\u001B[1;32m    436\u001B[0m \u001B[38;5;28;01mreturn\u001B[39;00m to_return\n",
      "File \u001B[0;32m~/PycharmProjects/uatk-aspics/calibration/run_aspics.py:432\u001B[0m, in \u001B[0;36m<listcomp>\u001B[0;34m(.0)\u001B[0m\n\u001B[1;32m    429\u001B[0m     results \u001B[38;5;241m=\u001B[39m itertools\u001B[38;5;241m.\u001B[39mstarmap(OpenCLRunner\u001B[38;5;241m.\u001B[39mrun_aspics_opencl, args)\n\u001B[1;32m    430\u001B[0m     \u001B[38;5;66;03m# Return as a list to force the models to execute (otherwise this is delayed because starmap returns\u001B[39;00m\n\u001B[1;32m    431\u001B[0m     \u001B[38;5;66;03m# a generator. Also means we can use tqdm to get a progress bar, which is nice.\u001B[39;00m\n\u001B[0;32m--> 432\u001B[0m     to_return \u001B[38;5;241m=\u001B[39m [x \u001B[38;5;28;01mfor\u001B[39;00m x \u001B[38;5;129;01min\u001B[39;00m tqdm\u001B[38;5;241m.\u001B[39mtqdm(results, desc\u001B[38;5;241m=\u001B[39m\u001B[38;5;124m\"\u001B[39m\u001B[38;5;124mRunning models\u001B[39m\u001B[38;5;124m\"\u001B[39m, total\u001B[38;5;241m=\u001B[39mrepetitions)]\n\u001B[1;32m    434\u001B[0m \u001B[38;5;28mprint\u001B[39m(\u001B[38;5;124mf\u001B[39m\u001B[38;5;124m\"\u001B[39m\u001B[38;5;124m.. finished, took \u001B[39m\u001B[38;5;132;01m{\u001B[39;00m\u001B[38;5;28mround\u001B[39m(\u001B[38;5;28mfloat\u001B[39m(time\u001B[38;5;241m.\u001B[39mtime() \u001B[38;5;241m-\u001B[39m start_time), \u001B[38;5;241m2\u001B[39m)\u001B[38;5;132;01m}\u001B[39;00m\u001B[38;5;124ms)\u001B[39m\u001B[38;5;124m\"\u001B[39m, flush\u001B[38;5;241m=\u001B[39m\u001B[38;5;28;01mTrue\u001B[39;00m)\n\u001B[1;32m    436\u001B[0m \u001B[38;5;28;01mreturn\u001B[39;00m to_return\n",
      "File \u001B[0;32m~/opt/anaconda3/envs/aspics/lib/python3.8/site-packages/tqdm/std.py:1195\u001B[0m, in \u001B[0;36mtqdm.__iter__\u001B[0;34m(self)\u001B[0m\n\u001B[1;32m   1192\u001B[0m time \u001B[38;5;241m=\u001B[39m \u001B[38;5;28mself\u001B[39m\u001B[38;5;241m.\u001B[39m_time\n\u001B[1;32m   1194\u001B[0m \u001B[38;5;28;01mtry\u001B[39;00m:\n\u001B[0;32m-> 1195\u001B[0m     \u001B[38;5;28;01mfor\u001B[39;00m obj \u001B[38;5;129;01min\u001B[39;00m iterable:\n\u001B[1;32m   1196\u001B[0m         \u001B[38;5;28;01myield\u001B[39;00m obj\n\u001B[1;32m   1197\u001B[0m         \u001B[38;5;66;03m# Update and possibly print the progressbar.\u001B[39;00m\n\u001B[1;32m   1198\u001B[0m         \u001B[38;5;66;03m# Note: does not call self.update(1) for speed optimisation.\u001B[39;00m\n",
      "File \u001B[0;32m~/PycharmProjects/uatk-aspics/calibration/run_aspics.py:345\u001B[0m, in \u001B[0;36mOpenCLRunner.run_aspics_opencl\u001B[0;34m(i, parameters_file, iterations, params, use_gpu, use_healthier_pop, store_detailed_counts, quiet)\u001B[0m\n\u001B[1;32m    342\u001B[0m \u001B[38;5;28mprint\u001B[39m(\u001B[38;5;124mf\u001B[39m\u001B[38;5;124m\"\u001B[39m\u001B[38;5;124mRunning a simulation \u001B[39m\u001B[38;5;124m\"\u001B[39m, {i},\u001B[38;5;124m\"\u001B[39m\u001B[38;5;124m based on the study area\u001B[39m\u001B[38;5;124m\"\u001B[39m)\n\u001B[1;32m    344\u001B[0m \u001B[38;5;66;03m# 0. Load parameters file\u001B[39;00m\n\u001B[0;32m--> 345\u001B[0m \u001B[38;5;28;01mwith\u001B[39;00m \u001B[38;5;28;43mopen\u001B[39;49m\u001B[43m(\u001B[49m\u001B[43mparameters_file\u001B[49m\u001B[43m,\u001B[49m\u001B[43m \u001B[49m\u001B[38;5;124;43m\"\u001B[39;49m\u001B[38;5;124;43mr\u001B[39;49m\u001B[38;5;124;43m\"\u001B[39;49m\u001B[43m)\u001B[49m \u001B[38;5;28;01mas\u001B[39;00m f:\n\u001B[1;32m    346\u001B[0m     parameters \u001B[38;5;241m=\u001B[39m load(f, Loader\u001B[38;5;241m=\u001B[39mSafeLoader)\n\u001B[1;32m    347\u001B[0m     sim_params \u001B[38;5;241m=\u001B[39m parameters[\u001B[38;5;124m\"\u001B[39m\u001B[38;5;124mmicrosim\u001B[39m\u001B[38;5;124m\"\u001B[39m]\n",
      "\u001B[0;31mOSError\u001B[0m: [Errno 9] Bad file descriptor"
     ]
    }
   ],
   "source": [
    "(fitness0, sim0, obs0, out_params0, summaries0) = OpenCLRunner.run_aspics_opencl_params_abc({}, return_full_details=True)"
   ],
   "metadata": {
    "collapsed": false,
    "pycharm": {
     "name": "#%%\n"
    }
   }
  },
  {
   "cell_type": "code",
   "execution_count": null,
   "outputs": [],
   "source": [
    "(fitness0, sim0, obs0, out_params0, summaries0) = OpenCLRunner.run_model_with_params_abc({}, return_full_details=True)"
   ],
   "metadata": {
    "collapsed": false,
    "pycharm": {
     "name": "#%%\n"
    }
   }
  },
  {
   "cell_type": "code",
   "execution_count": null,
   "id": "ac39dc7a",
   "metadata": {
    "pycharm": {
     "name": "#%%\n"
    }
   },
   "outputs": [],
   "source": [
    "OpenCLRunner.update(repetitions=10)  # Temporarily use more repetitions to give a good baseline, initially suggested as 10\n",
    "\n",
    "OpenCLRunner.update(store_detailed_counts=True)  # Temporarily output age breakdowns\n",
    "\n",
    "(fitness0, sim0, obs0, out_params0, summaries0) = OpenCLRunner.run_model_with_params_abc({}, return_full_details=True)\n",
    "\n",
    "OpenCLRunner.update(repetitions=REPETITIONS)\n",
    "\n",
    "OpenCLRunner.update(store_detailed_counts=STORE_DETAILED_COUNTS)\n",
    "\n",
    "# Check the model returns the observations correctly\n",
    "np.array_equal(obs0, OBSERVATIONS.loc[:len(sim0)-1,\"Cases\"])\n",
    "\n",
    "# Print the fitness and plot the different disease counts\n",
    "print(f\"fitness: {fitness0}\")\n",
    "#print(pd.DataFrame({\"sim\":sim, \"real_obs1\":obs}))\n",
    "\n",
    "fig, ax = plt.subplots(1,1)\n",
    "x = range(len(sim0))\n",
    "ax.plot(x, OpenCLRunner.get_cumulative_new_infections(summaries0), label=\"sim\", color=\"orange\")\n",
    "ax.plot(x, obs0, label=\"obs\", color=\"blue\")\n",
    "ax.legend()"
   ]
  },
  {
   "cell_type": "code",
   "execution_count": null,
   "outputs": [],
   "source": [],
   "metadata": {
    "collapsed": false,
    "pycharm": {
     "name": "#%%\n"
    }
   }
  }
 ],
 "metadata": {
  "kernelspec": {
   "display_name": "Python 3 (ipykernel)",
   "language": "python",
   "name": "python3"
  },
  "language_info": {
   "codemirror_mode": {
    "name": "ipython",
    "version": 3
   },
   "file_extension": ".py",
   "mimetype": "text/x-python",
   "name": "python",
   "nbconvert_exporter": "python",
   "pygments_lexer": "ipython3",
   "version": "3.8.13"
  },
  "vscode": {
   "interpreter": {
    "hash": "ebb45998d057cd9337571d6794a119feabba8ecfd1819e0e1dec5f8d9581edaf"
   }
  }
 },
 "nbformat": 4,
 "nbformat_minor": 5
}