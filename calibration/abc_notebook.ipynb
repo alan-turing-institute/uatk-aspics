{
 "cells": [
  {
   "cell_type": "markdown",
   "id": "2ef48166",
   "metadata": {},
   "source": [
    "# Calibration of multiple parameters for ASPICS model, using ABC method\n",
    "\n",
    "This jupyter notebook is based on the previous efforts from DyME and Prof Nick Malleson (University of Leeds)\n",
    "\n",
    "- [RAMP-UA Initiative](https://github.com/Urban-Analytics/RAMP-UA/blob/d5973dff007645f1700cded93aaf72298ef84c61/experiments/calibration/abc-1.ipynb)\n",
    "\n",
    "- [Calibrating Agent-Based Models Using Uncertainty Quantification Methods](https://github.com/Urban-Analytics/uncertainty/blob/master/hm_abc_simple_example.ipyn)\n",
    "\n",
    "As SPC (Synthetic Population Catalyst) is a tool that helps urban modelling researchers to get synthetic population datasets at national level (currently limitated to England). This tool opens up new challenges/possibilities where external models (multi-level) like Agent-based models -ABM now can be tested in multi regions. However in models with location parameters striclty dependend on the population interactions, internal validation and calibrations process are seen as a relevant and requiered to properly tune this national behaivor. "
   ]
  },
  {
   "cell_type": "markdown",
   "id": "b7e790da",
   "metadata": {},
   "source": [
    "### ToDO to make progress in this experiment\n",
    "- [X] Read the Synt Pop file - Translate to snaphot then ASPICS can read the new dataset.\n",
    "- [] Read and plot the attributes we need, we could plot\n",
    "- [] Read the baseline use as priors - Areas to test Leeds ( ideally West Yorkshire), Liverpool, Devon, Manchester (Grand Manchester)"
   ]
  },
  {
   "cell_type": "markdown",
   "id": "7db61a3a",
   "metadata": {},
   "source": [
    "## Background Concepts\n",
    "\n",
    "- Uncertanity of ABM\n",
    "- Methods for Calibration\n",
    "- ABC "
   ]
  },
  {
   "cell_type": "code",
   "execution_count": 2,
   "id": "1084c0b9",
   "metadata": {},
   "outputs": [],
   "source": [
    "import math\n",
    "import pandas as pd\n",
    "import sys, os\n",
    "import matplotlib.pyplot as plt\n",
    "import numpy as np\n",
    "import random\n",
    "sys.path.append('../')\n",
    "\n",
    "from run_model import OpenCLRunner\n",
    "import synthpop_pb2\n",
    "import convert_snapshot"
   ]
  },
  {
   "cell_type": "markdown",
   "id": "6bc56c3e",
   "metadata": {},
   "source": [
    "The following function is based on [SPC scripts](https://github.com/alan-turing-institute/uatk-spc/blob/main/python/protobuf_to_csv.py) the idea is to read the .pb file created with the tool. However we need to make a translation from the proto file to snapshot which will integarte the data in the way ASPICS need it. "
   ]
  },
  {
   "cell_type": "markdown",
   "id": "2c428ea0",
   "metadata": {},
   "source": [
    "```\n",
    "def convert_to_csv(input_path):\n",
    "    \"\"\"Export some per-person attributes to CSV.\"\"\"\n",
    "    # Parse the .pb file\n",
    "    print(f\"Reading {input_path}\")\n",
    "    pop = synthpop_pb2.Population()\n",
    "    f = open(input_path, \"rb\")\n",
    "    pop.ParseFromString(f.read())\n",
    "    f.close()\n",
    "\n",
    "    # Based on the per-person information you're interested in, you can extract\n",
    "    # and fill out different columns\n",
    "    people = []\n",
    "    for person in pop.people:\n",
    "        # The Person message doesn't directly store MSOA. Look up from their household.\n",
    "        msoa11cd = pop.households[person.household].msoa11cd\n",
    "\n",
    "        record = {\n",
    "            \"person_id\": person.id,\n",
    "            \"household_id\": person.household,\n",
    "            \"msoa11cd\": msoa11cd,\n",
    "            \"age_years\": person.demographics.age_years,\n",
    "            # Protobuf enum types show up as numbers; this converts to a string\n",
    "            \"pwkstat\": synthpop_pb2.PwkStat.Name(person.employment.pwkstat),\n",
    "            \"diabetes\": person.health.has_diabetes,\n",
    "            \"employment\": person.employment.sic1d07,\n",
    "        }\n",
    "\n",
    "        # Add a column for the duration the person spends doing each activity\n",
    "        for pair in person.activity_durations:\n",
    "            key = synthpop_pb2.Activity.Name(pair.activity) + \"_duration\"\n",
    "            record[key] = pair.duration\n",
    "\n",
    "        people.append(record)\n",
    "\n",
    "    df = pd.DataFrame.from_records(people)\n",
    "    return(df)\n",
    "```"
   ]
  },
  {
   "cell_type": "markdown",
   "id": "8e190012",
   "metadata": {},
   "source": [
    "```\n",
    "## Reading the previous function\n",
    "input_path = 'SPC_data/rutland.pb'\n",
    "if __name__ == \"__main__\":\n",
    "    df = convert_to_csv(input_path)\n",
    "```"
   ]
  },
  {
   "cell_type": "markdown",
   "id": "b3b10051",
   "metadata": {},
   "source": [
    "## Read the baseline data. Defined as prior to calibrate the model to a given area\n",
    "Real observations (number of cases, deaths or hospital admission in the given area)\n",
    "They need to be made cumulative as this is how they will be compared to the model."
   ]
  },
  {
   "cell_type": "markdown",
   "id": "26e5f8e9",
   "metadata": {},
   "source": [
    "#### Rutland area as test run due it size\n",
    "The data for no of cases and the gam_cases data were created using [Ramp-UA - Observation Data](https://github.com/Urban-Analytics/RAMP-UA/tree/master/experiments/calibration/observation_data)"
   ]
  },
  {
   "cell_type": "code",
   "execution_count": 3,
   "id": "2f11f179",
   "metadata": {},
   "outputs": [
    {
     "name": "stdout",
     "output_type": "stream",
     "text": [
      "Total cases: 697\n"
     ]
    }
   ],
   "source": [
    "# New per day:\n",
    "gam_cases = pd.read_csv(os.path.join(\"baseline_data\", \"gam_rutland_cases.csv\"), header=0, names=[\"Day\", \"Cases\"], )\n",
    "\n",
    "# Cumulative\n",
    "OBSERVATIONS = pd.DataFrame( {\"Day\": gam_cases['Day'], \"Cases\": gam_cases.cumsum()['Cases']} )\n",
    "\n",
    "assert OBSERVATIONS.tail(1)['Cases'].values[0] == sum(gam_cases['Cases'])\n",
    "print(f\"Total cases: {sum(gam_cases['Cases'])}\")"
   ]
  },
  {
   "cell_type": "markdown",
   "id": "2d97cfca",
   "metadata": {},
   "source": [
    "## Run ASPIC using the default parameters\n",
    "\n",
    "The following cells provide a set of plots to define how the model run with the default parameeters ( manually calibrated for Devon area). In this example we use Rutland.\n",
    "\n",
    "Before everything we will need to translate the .pg file to the snapshot requeried by ASPCIS [Usage guide](docs/usage_guide.md). You need to do this one time."
   ]
  },
  {
   "cell_type": "code",
   "execution_count": 4,
   "id": "e42932c3",
   "metadata": {},
   "outputs": [
    {
     "name": "stdout",
     "output_type": "stream",
     "text": [
      "Reading SPC_data/rutland.pb\n",
      "Code block took: 0.23446 s\n",
      "Removing 6029 people from 70 households because the household has > 10 people\n",
      "Collapsing flows for 33446 people\n"
     ]
    },
    {
     "name": "stderr",
     "output_type": "stream",
     "text": [
      "100%|██████████| 33446/33446 [00:01<00:00, 22844.05it/s]\n"
     ]
    },
    {
     "name": "stdout",
     "output_type": "stream",
     "text": [
      "Code block took: 1.50450 s\n",
      "Finalizing all coordinates\n",
      "Code block took: 0.11226 s\n",
      "Creating snapshot\n",
      "Code block took: 0.32085 s\n",
      "Wrote ../data/snapshots/Rutland/cache.npz\n"
     ]
    }
   ],
   "source": [
    "%run ../convert_snapshot.py -i SPC_data/rutland.pb -o ../data/snapshots/Rutland/cache.npz"
   ]
  },
  {
   "cell_type": "markdown",
   "id": "0ca9e7b2",
   "metadata": {},
   "source": [
    "Great now we have the cache.npz in `data/snapshots`, go and take a quick look."
   ]
  },
  {
   "cell_type": "code",
   "execution_count": 5,
   "id": "5ae9bde0",
   "metadata": {},
   "outputs": [],
   "source": [
    "PARAMETERS_FILE = os.path.join(\"../\",\"config\", \"Rutland.yml\")\n",
    "PARAMS = OpenCLRunner.create_parameters(parameters_file=PARAMETERS_FILE)\n",
    "OPENCL_DIR = \"../data/\"\n",
    "SNAPSHOT_FILEPATH = os.path.join(OPENCL_DIR, \"snapshots\",\"Rutland/\" \"cache.npz\")\n",
    "assert os.path.isfile(SNAPSHOT_FILEPATH), f\"Snapshot doesn't exist: {SNAPSHOT_FILEPATH}\""
   ]
  },
  {
   "cell_type": "code",
   "execution_count": 6,
   "id": "2727dea1",
   "metadata": {},
   "outputs": [],
   "source": [
    "ITERATIONS = 10  # Number of iterations to run for ( Initially suggestes as 100)\n",
    "NUM_SEED_DAYS = 10  # Number of days to seed the population\n",
    "USE_GPU = False\n",
    "STORE_DETAILED_COUNTS = False\n",
    "REPETITIONS = 2 #Initially suggested as 5\n",
    "\n",
    "assert ITERATIONS < len(OBSERVATIONS), \\\n",
    "    f\"Have more iterations ({ITERATIONS}) than observations ({len(OBSERVATIONS)}).\"\n",
    "\n",
    "# Initialise the class so that its ready to run the model.\n",
    "# This isn't actually necessary immediately as the `run_opencl_model_multi` function is a static method\n",
    "# so doesn't read any of the class parameters, but the init is necessary\n",
    "# for calibration later when some parameters can't be passed to the run function directly\n",
    "OpenCLRunner.init(\n",
    "    iterations = ITERATIONS, \n",
    "    repetitions = REPETITIONS, \n",
    "    observations = OBSERVATIONS,\n",
    "    use_gpu = USE_GPU,\n",
    "    store_detailed_counts = STORE_DETAILED_COUNTS, \n",
    "    parameters_file = PARAMETERS_FILE, \n",
    "    opencl_dir = OPENCL_DIR, \n",
    "    snapshot_filepath = SNAPSHOT_FILEPATH,\n",
    "    use_healthier_pop = False\n",
    ")"
   ]
  },
  {
   "cell_type": "code",
   "execution_count": 7,
   "id": "562d7080",
   "metadata": {},
   "outputs": [
    {
     "data": {
      "text/plain": [
       "'../data/'"
      ]
     },
     "execution_count": 7,
     "metadata": {},
     "output_type": "execute_result"
    }
   ],
   "source": [
    "OpenCLRunner.OPENCL_DIR"
   ]
  },
  {
   "cell_type": "code",
   "execution_count": 8,
   "id": "ac39dc7a",
   "metadata": {},
   "outputs": [
    {
     "name": "stderr",
     "output_type": "stream",
     "text": [
      "Running models:   0%|          | 0/10 [00:00<?, ?it/s]"
     ]
    },
    {
     "name": "stdout",
     "output_type": "stream",
     "text": [
      "testing obesity arrays not equal\n",
      "0.36793637505232313\n",
      "0.36793637505232313\n"
     ]
    },
    {
     "name": "stderr",
     "output_type": "stream",
     "text": [
      "Running models:   0%|          | 0/10 [00:00<?, ?it/s]\n"
     ]
    },
    {
     "ename": "OSError",
     "evalue": "[Errno 9] Bad file descriptor",
     "output_type": "error",
     "traceback": [
      "\u001b[0;31m---------------------------------------------------------------------------\u001b[0m",
      "\u001b[0;31mOSError\u001b[0m                                   Traceback (most recent call last)",
      "\u001b[1;32m/Users/fbenitez/Documents/ResearchATI/uatk-aspics/uatk-aspics/calibration/abc_notebook.ipynb Cell 17\u001b[0m in \u001b[0;36m<cell line: 5>\u001b[0;34m()\u001b[0m\n\u001b[1;32m      <a href='vscode-notebook-cell:/Users/fbenitez/Documents/ResearchATI/uatk-aspics/uatk-aspics/calibration/abc_notebook.ipynb#ch0000016?line=0'>1</a>\u001b[0m OpenCLRunner\u001b[39m.\u001b[39mupdate(repetitions\u001b[39m=\u001b[39m\u001b[39m10\u001b[39m)  \u001b[39m# Temporarily use more repetitions to give a good baseline, initially suggested as 10\u001b[39;00m\n\u001b[1;32m      <a href='vscode-notebook-cell:/Users/fbenitez/Documents/ResearchATI/uatk-aspics/uatk-aspics/calibration/abc_notebook.ipynb#ch0000016?line=2'>3</a>\u001b[0m OpenCLRunner\u001b[39m.\u001b[39mupdate(store_detailed_counts\u001b[39m=\u001b[39m\u001b[39mTrue\u001b[39;00m)  \u001b[39m# Temporarily output age breakdowns\u001b[39;00m\n\u001b[0;32m----> <a href='vscode-notebook-cell:/Users/fbenitez/Documents/ResearchATI/uatk-aspics/uatk-aspics/calibration/abc_notebook.ipynb#ch0000016?line=4'>5</a>\u001b[0m (fitness0, sim0, obs0, out_params0, summaries0) \u001b[39m=\u001b[39m OpenCLRunner\u001b[39m.\u001b[39;49mrun_model_with_params_abc({}, return_full_details\u001b[39m=\u001b[39;49m\u001b[39mTrue\u001b[39;49;00m)\n\u001b[1;32m      <a href='vscode-notebook-cell:/Users/fbenitez/Documents/ResearchATI/uatk-aspics/uatk-aspics/calibration/abc_notebook.ipynb#ch0000016?line=6'>7</a>\u001b[0m OpenCLRunner\u001b[39m.\u001b[39mupdate(repetitions\u001b[39m=\u001b[39mREPETITIONS)\n\u001b[1;32m      <a href='vscode-notebook-cell:/Users/fbenitez/Documents/ResearchATI/uatk-aspics/uatk-aspics/calibration/abc_notebook.ipynb#ch0000016?line=8'>9</a>\u001b[0m OpenCLRunner\u001b[39m.\u001b[39mupdate(store_detailed_counts\u001b[39m=\u001b[39mSTORE_DETAILED_COUNTS)\n",
      "File \u001b[0;32m~/Documents/ResearchATI/uatk-aspics/uatk-aspics/calibration/run_model.py:541\u001b[0m, in \u001b[0;36mOpenCLRunner.run_model_with_params_abc\u001b[0;34m(cls, input_params_dict, return_full_details)\u001b[0m\n\u001b[1;32m    533\u001b[0m \u001b[39m# Check if there are any constants that should\u001b[39;00m\n\u001b[1;32m    534\u001b[0m \n\u001b[1;32m    535\u001b[0m \u001b[39m# Splat the input_params_dict to automatically set any parameters that have been inlcluded\u001b[39;00m\n\u001b[1;32m    536\u001b[0m params \u001b[39m=\u001b[39m OpenCLRunner\u001b[39m.\u001b[39mcreate_parameters(\n\u001b[1;32m    537\u001b[0m     parameters_file\u001b[39m=\u001b[39m\u001b[39mcls\u001b[39m\u001b[39m.\u001b[39mPARAMETERS_FILE,\n\u001b[1;32m    538\u001b[0m     \u001b[39m*\u001b[39m\u001b[39m*\u001b[39minput_params_dict\n\u001b[1;32m    539\u001b[0m )\n\u001b[0;32m--> 541\u001b[0m results \u001b[39m=\u001b[39m OpenCLRunner\u001b[39m.\u001b[39;49mrun_opencl_model_multi(\n\u001b[1;32m    542\u001b[0m     repetitions\u001b[39m=\u001b[39;49m\u001b[39mcls\u001b[39;49m\u001b[39m.\u001b[39;49mREPETITIONS, iterations\u001b[39m=\u001b[39;49m\u001b[39mcls\u001b[39;49m\u001b[39m.\u001b[39;49mITERATIONS, params\u001b[39m=\u001b[39;49mparams,\n\u001b[1;32m    543\u001b[0m     opencl_dir\u001b[39m=\u001b[39;49m\u001b[39mcls\u001b[39;49m\u001b[39m.\u001b[39;49mOPENCL_DIR, snapshot_filepath\u001b[39m=\u001b[39;49m\u001b[39mcls\u001b[39;49m\u001b[39m.\u001b[39;49mSNAPSHOT_FILEPATH, use_gpu\u001b[39m=\u001b[39;49m\u001b[39mcls\u001b[39;49m\u001b[39m.\u001b[39;49mUSE_GPU,\n\u001b[1;32m    544\u001b[0m     store_detailed_counts\u001b[39m=\u001b[39;49m\u001b[39mcls\u001b[39;49m\u001b[39m.\u001b[39;49mSTORE_DETAILED_COUNTS, multiprocess\u001b[39m=\u001b[39;49m\u001b[39mFalse\u001b[39;49;00m, random_ids\u001b[39m=\u001b[39;49m\u001b[39mTrue\u001b[39;49;00m\n\u001b[1;32m    545\u001b[0m )\n\u001b[1;32m    547\u001b[0m summaries \u001b[39m=\u001b[39m [x[\u001b[39m0\u001b[39m] \u001b[39mfor\u001b[39;00m x \u001b[39min\u001b[39;00m results]\n\u001b[1;32m    548\u001b[0m \u001b[39m# Get the cumulative number of new infections per day (i.e. simulated results)\u001b[39;00m\n",
      "File \u001b[0;32m~/Documents/ResearchATI/uatk-aspics/uatk-aspics/calibration/run_model.py:453\u001b[0m, in \u001b[0;36mOpenCLRunner.run_opencl_model_multi\u001b[0;34m(repetitions, iterations, params, use_gpu, use_healthier_pop, store_detailed_counts, opencl_dir, snapshot_filepath, multiprocess, random_ids)\u001b[0m\n\u001b[1;32m    450\u001b[0m     results \u001b[39m=\u001b[39m itertools\u001b[39m.\u001b[39mstarmap(OpenCLRunner\u001b[39m.\u001b[39mrun_opencl_model, args)\n\u001b[1;32m    451\u001b[0m     \u001b[39m# Return as a list to force the models to execute (otherwise this is delayed because starmap returns\u001b[39;00m\n\u001b[1;32m    452\u001b[0m     \u001b[39m# a generator. Also means we can use tqdm to get a progress bar, which is nice.\u001b[39;00m\n\u001b[0;32m--> 453\u001b[0m     to_return \u001b[39m=\u001b[39m [x \u001b[39mfor\u001b[39;00m x \u001b[39min\u001b[39;00m tqdm\u001b[39m.\u001b[39mtqdm(results, desc\u001b[39m=\u001b[39m\u001b[39m\"\u001b[39m\u001b[39mRunning models\u001b[39m\u001b[39m\"\u001b[39m, total\u001b[39m=\u001b[39mrepetitions)]\n\u001b[1;32m    455\u001b[0m \u001b[39mprint\u001b[39m(\u001b[39mf\u001b[39m\u001b[39m\"\u001b[39m\u001b[39m.. finished, took \u001b[39m\u001b[39m{\u001b[39;00m\u001b[39mround\u001b[39m(\u001b[39mfloat\u001b[39m(time\u001b[39m.\u001b[39mtime() \u001b[39m-\u001b[39m start_time), \u001b[39m2\u001b[39m)\u001b[39m}\u001b[39;00m\u001b[39ms)\u001b[39m\u001b[39m\"\u001b[39m, flush\u001b[39m=\u001b[39m\u001b[39mTrue\u001b[39;00m)\n\u001b[1;32m    456\u001b[0m \u001b[39mreturn\u001b[39;00m to_return\n",
      "File \u001b[0;32m~/Documents/ResearchATI/uatk-aspics/uatk-aspics/calibration/run_model.py:453\u001b[0m, in \u001b[0;36m<listcomp>\u001b[0;34m(.0)\u001b[0m\n\u001b[1;32m    450\u001b[0m     results \u001b[39m=\u001b[39m itertools\u001b[39m.\u001b[39mstarmap(OpenCLRunner\u001b[39m.\u001b[39mrun_opencl_model, args)\n\u001b[1;32m    451\u001b[0m     \u001b[39m# Return as a list to force the models to execute (otherwise this is delayed because starmap returns\u001b[39;00m\n\u001b[1;32m    452\u001b[0m     \u001b[39m# a generator. Also means we can use tqdm to get a progress bar, which is nice.\u001b[39;00m\n\u001b[0;32m--> 453\u001b[0m     to_return \u001b[39m=\u001b[39m [x \u001b[39mfor\u001b[39;00m x \u001b[39min\u001b[39;00m tqdm\u001b[39m.\u001b[39mtqdm(results, desc\u001b[39m=\u001b[39m\u001b[39m\"\u001b[39m\u001b[39mRunning models\u001b[39m\u001b[39m\"\u001b[39m, total\u001b[39m=\u001b[39mrepetitions)]\n\u001b[1;32m    455\u001b[0m \u001b[39mprint\u001b[39m(\u001b[39mf\u001b[39m\u001b[39m\"\u001b[39m\u001b[39m.. finished, took \u001b[39m\u001b[39m{\u001b[39;00m\u001b[39mround\u001b[39m(\u001b[39mfloat\u001b[39m(time\u001b[39m.\u001b[39mtime() \u001b[39m-\u001b[39m start_time), \u001b[39m2\u001b[39m)\u001b[39m}\u001b[39;00m\u001b[39ms)\u001b[39m\u001b[39m\"\u001b[39m, flush\u001b[39m=\u001b[39m\u001b[39mTrue\u001b[39;00m)\n\u001b[1;32m    456\u001b[0m \u001b[39mreturn\u001b[39;00m to_return\n",
      "File \u001b[0;32m~/opt/anaconda3/envs/aspics/lib/python3.8/site-packages/tqdm/std.py:1195\u001b[0m, in \u001b[0;36mtqdm.__iter__\u001b[0;34m(self)\u001b[0m\n\u001b[1;32m   1192\u001b[0m time \u001b[39m=\u001b[39m \u001b[39mself\u001b[39m\u001b[39m.\u001b[39m_time\n\u001b[1;32m   1194\u001b[0m \u001b[39mtry\u001b[39;00m:\n\u001b[0;32m-> 1195\u001b[0m     \u001b[39mfor\u001b[39;00m obj \u001b[39min\u001b[39;00m iterable:\n\u001b[1;32m   1196\u001b[0m         \u001b[39myield\u001b[39;00m obj\n\u001b[1;32m   1197\u001b[0m         \u001b[39m# Update and possibly print the progressbar.\u001b[39;00m\n\u001b[1;32m   1198\u001b[0m         \u001b[39m# Note: does not call self.update(1) for speed optimisation.\u001b[39;00m\n",
      "File \u001b[0;32m~/Documents/ResearchATI/uatk-aspics/uatk-aspics/calibration/run_model.py:398\u001b[0m, in \u001b[0;36mOpenCLRunner.run_opencl_model\u001b[0;34m(i, iterations, snapshot_filepath, params, opencl_dir, use_gpu, use_healthier_pop, parameters_file, store_detailed_counts, quiet)\u001b[0m\n\u001b[1;32m    395\u001b[0m snapshot\u001b[39m.\u001b[39mseed_prngs(i)\n\u001b[1;32m    397\u001b[0m \u001b[39m# Create a simulator and upload the snapshot data to the OpenCL device\u001b[39;00m\n\u001b[0;32m--> 398\u001b[0m simulator \u001b[39m=\u001b[39m Simulator(snapshot, parameters_file, gpu\u001b[39m=\u001b[39;49muse_gpu)\n\u001b[1;32m    399\u001b[0m simulator\u001b[39m.\u001b[39mupload_all(snapshot\u001b[39m.\u001b[39mbuffers)\n\u001b[1;32m    401\u001b[0m \u001b[39mif\u001b[39;00m \u001b[39mnot\u001b[39;00m quiet:\n",
      "File \u001b[0;32m~/Documents/ResearchATI/uatk-aspics/uatk-aspics/calibration/simulator.py:163\u001b[0m, in \u001b[0;36mSimulator.__init__\u001b[0;34m(self, snapshot, parameters_file, gpu)\u001b[0m\n\u001b[1;32m    160\u001b[0m \u001b[39mself\u001b[39m\u001b[39m.\u001b[39mbuffers \u001b[39m=\u001b[39m buffers\n\u001b[1;32m    161\u001b[0m \u001b[39mself\u001b[39m\u001b[39m.\u001b[39mkernels \u001b[39m=\u001b[39m kernels\n\u001b[0;32m--> 163\u001b[0m \u001b[39mself\u001b[39m\u001b[39m.\u001b[39minitial_cases \u001b[39m=\u001b[39m InitialCases(\n\u001b[1;32m    164\u001b[0m     snapshot\u001b[39m.\u001b[39;49marea_codes, snapshot\u001b[39m.\u001b[39;49mnot_home_probs, parameters_file\n\u001b[1;32m    165\u001b[0m )\n\u001b[1;32m    167\u001b[0m \u001b[39mself\u001b[39m\u001b[39m.\u001b[39mnum_seed_days \u001b[39m=\u001b[39m \u001b[39m0\u001b[39m\n",
      "File \u001b[0;32m~/Documents/ResearchATI/uatk-aspics/uatk-aspics/calibration/../aspics/initial_cases.py:17\u001b[0m, in \u001b[0;36mInitialCases.__init__\u001b[0;34m(self, area_codes, not_home_probs, parameters_file)\u001b[0m\n\u001b[1;32m     15\u001b[0m \u001b[39m# load initial case data\u001b[39;00m\n\u001b[1;32m     16\u001b[0m \u001b[39mwith\u001b[39;00m \u001b[39mopen\u001b[39m(parameters_file, \u001b[39m\"\u001b[39m\u001b[39mr\u001b[39m\u001b[39m\"\u001b[39m) \u001b[39mas\u001b[39;00m f:\n\u001b[0;32m---> 17\u001b[0m     parameters \u001b[39m=\u001b[39m load(f, Loader\u001b[39m=\u001b[39;49mSafeLoader)\n\u001b[1;32m     18\u001b[0m     sim_params \u001b[39m=\u001b[39m parameters[\u001b[39m\"\u001b[39m\u001b[39mmicrosim\u001b[39m\u001b[39m\"\u001b[39m]\n\u001b[1;32m     19\u001b[0m study_area \u001b[39m=\u001b[39m sim_params[\u001b[39m\"\u001b[39m\u001b[39mstudy-area\u001b[39m\u001b[39m\"\u001b[39m]\n",
      "File \u001b[0;32m~/opt/anaconda3/envs/aspics/lib/python3.8/site-packages/yaml/__init__.py:79\u001b[0m, in \u001b[0;36mload\u001b[0;34m(stream, Loader)\u001b[0m\n\u001b[1;32m     74\u001b[0m \u001b[39mdef\u001b[39;00m \u001b[39mload\u001b[39m(stream, Loader):\n\u001b[1;32m     75\u001b[0m     \u001b[39m\"\"\"\u001b[39;00m\n\u001b[1;32m     76\u001b[0m \u001b[39m    Parse the first YAML document in a stream\u001b[39;00m\n\u001b[1;32m     77\u001b[0m \u001b[39m    and produce the corresponding Python object.\u001b[39;00m\n\u001b[1;32m     78\u001b[0m \u001b[39m    \"\"\"\u001b[39;00m\n\u001b[0;32m---> 79\u001b[0m     loader \u001b[39m=\u001b[39m Loader(stream)\n\u001b[1;32m     80\u001b[0m     \u001b[39mtry\u001b[39;00m:\n\u001b[1;32m     81\u001b[0m         \u001b[39mreturn\u001b[39;00m loader\u001b[39m.\u001b[39mget_single_data()\n",
      "File \u001b[0;32m~/opt/anaconda3/envs/aspics/lib/python3.8/site-packages/yaml/loader.py:34\u001b[0m, in \u001b[0;36mSafeLoader.__init__\u001b[0;34m(self, stream)\u001b[0m\n\u001b[1;32m     33\u001b[0m \u001b[39mdef\u001b[39;00m \u001b[39m__init__\u001b[39m(\u001b[39mself\u001b[39m, stream):\n\u001b[0;32m---> 34\u001b[0m     Reader\u001b[39m.\u001b[39;49m\u001b[39m__init__\u001b[39;49m(\u001b[39mself\u001b[39;49m, stream)\n\u001b[1;32m     35\u001b[0m     Scanner\u001b[39m.\u001b[39m\u001b[39m__init__\u001b[39m(\u001b[39mself\u001b[39m)\n\u001b[1;32m     36\u001b[0m     Parser\u001b[39m.\u001b[39m\u001b[39m__init__\u001b[39m(\u001b[39mself\u001b[39m)\n",
      "File \u001b[0;32m~/opt/anaconda3/envs/aspics/lib/python3.8/site-packages/yaml/reader.py:85\u001b[0m, in \u001b[0;36mReader.__init__\u001b[0;34m(self, stream)\u001b[0m\n\u001b[1;32m     83\u001b[0m \u001b[39mself\u001b[39m\u001b[39m.\u001b[39meof \u001b[39m=\u001b[39m \u001b[39mFalse\u001b[39;00m\n\u001b[1;32m     84\u001b[0m \u001b[39mself\u001b[39m\u001b[39m.\u001b[39mraw_buffer \u001b[39m=\u001b[39m \u001b[39mNone\u001b[39;00m\n\u001b[0;32m---> 85\u001b[0m \u001b[39mself\u001b[39;49m\u001b[39m.\u001b[39;49mdetermine_encoding()\n",
      "File \u001b[0;32m~/opt/anaconda3/envs/aspics/lib/python3.8/site-packages/yaml/reader.py:124\u001b[0m, in \u001b[0;36mReader.determine_encoding\u001b[0;34m(self)\u001b[0m\n\u001b[1;32m    122\u001b[0m \u001b[39mdef\u001b[39;00m \u001b[39mdetermine_encoding\u001b[39m(\u001b[39mself\u001b[39m):\n\u001b[1;32m    123\u001b[0m     \u001b[39mwhile\u001b[39;00m \u001b[39mnot\u001b[39;00m \u001b[39mself\u001b[39m\u001b[39m.\u001b[39meof \u001b[39mand\u001b[39;00m (\u001b[39mself\u001b[39m\u001b[39m.\u001b[39mraw_buffer \u001b[39mis\u001b[39;00m \u001b[39mNone\u001b[39;00m \u001b[39mor\u001b[39;00m \u001b[39mlen\u001b[39m(\u001b[39mself\u001b[39m\u001b[39m.\u001b[39mraw_buffer) \u001b[39m<\u001b[39m \u001b[39m2\u001b[39m):\n\u001b[0;32m--> 124\u001b[0m         \u001b[39mself\u001b[39;49m\u001b[39m.\u001b[39;49mupdate_raw()\n\u001b[1;32m    125\u001b[0m     \u001b[39mif\u001b[39;00m \u001b[39misinstance\u001b[39m(\u001b[39mself\u001b[39m\u001b[39m.\u001b[39mraw_buffer, \u001b[39mbytes\u001b[39m):\n\u001b[1;32m    126\u001b[0m         \u001b[39mif\u001b[39;00m \u001b[39mself\u001b[39m\u001b[39m.\u001b[39mraw_buffer\u001b[39m.\u001b[39mstartswith(codecs\u001b[39m.\u001b[39mBOM_UTF16_LE):\n",
      "File \u001b[0;32m~/opt/anaconda3/envs/aspics/lib/python3.8/site-packages/yaml/reader.py:178\u001b[0m, in \u001b[0;36mReader.update_raw\u001b[0;34m(self, size)\u001b[0m\n\u001b[1;32m    177\u001b[0m \u001b[39mdef\u001b[39;00m \u001b[39mupdate_raw\u001b[39m(\u001b[39mself\u001b[39m, size\u001b[39m=\u001b[39m\u001b[39m4096\u001b[39m):\n\u001b[0;32m--> 178\u001b[0m     data \u001b[39m=\u001b[39m \u001b[39mself\u001b[39;49m\u001b[39m.\u001b[39;49mstream\u001b[39m.\u001b[39;49mread(size)\n\u001b[1;32m    179\u001b[0m     \u001b[39mif\u001b[39;00m \u001b[39mself\u001b[39m\u001b[39m.\u001b[39mraw_buffer \u001b[39mis\u001b[39;00m \u001b[39mNone\u001b[39;00m:\n\u001b[1;32m    180\u001b[0m         \u001b[39mself\u001b[39m\u001b[39m.\u001b[39mraw_buffer \u001b[39m=\u001b[39m data\n",
      "\u001b[0;31mOSError\u001b[0m: [Errno 9] Bad file descriptor"
     ]
    }
   ],
   "source": [
    "OpenCLRunner.update(repetitions=10)  # Temporarily use more repetitions to give a good baseline, initially suggested as 10\n",
    "\n",
    "OpenCLRunner.update(store_detailed_counts=True)  # Temporarily output age breakdowns\n",
    "\n",
    "(fitness0, sim0, obs0, out_params0, summaries0) = OpenCLRunner.run_model_with_params_abc({}, return_full_details=True)\n",
    "\n",
    "OpenCLRunner.update(repetitions=REPETITIONS)\n",
    "\n",
    "OpenCLRunner.update(store_detailed_counts=STORE_DETAILED_COUNTS)\n",
    "\n",
    "# Check the model returns the observations correctly\n",
    "np.array_equal(obs0, OBSERVATIONS.loc[:len(sim0)-1,\"Cases\"])\n",
    "\n",
    "# Print the fitness and plot the different disease counts\n",
    "print(f\"fitness: {fitness0}\")\n",
    "#print(pd.DataFrame({\"sim\":sim, \"real_obs1\":obs}))\n",
    "\n",
    "fig, ax = plt.subplots(1,1)\n",
    "x = range(len(sim0))\n",
    "ax.plot(x, OpenCLRunner.get_cumulative_new_infections(summaries0), label=\"sim\", color=\"orange\")\n",
    "ax.plot(x, obs0, label=\"obs\", color=\"blue\")\n",
    "ax.legend()"
   ]
  }
 ],
 "metadata": {
  "kernelspec": {
   "display_name": "Python 3 (ipykernel)",
   "language": "python",
   "name": "python3"
  },
  "language_info": {
   "codemirror_mode": {
    "name": "ipython",
    "version": 3
   },
   "file_extension": ".py",
   "mimetype": "text/x-python",
   "name": "python",
   "nbconvert_exporter": "python",
   "pygments_lexer": "ipython3",
   "version": "3.8.13"
  },
  "vscode": {
   "interpreter": {
    "hash": "ebb45998d057cd9337571d6794a119feabba8ecfd1819e0e1dec5f8d9581edaf"
   }
  }
 },
 "nbformat": 4,
 "nbformat_minor": 5
}
